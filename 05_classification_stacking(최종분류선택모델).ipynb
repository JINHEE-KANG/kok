{
 "cells": [
  {
   "cell_type": "code",
   "execution_count": 1,
   "metadata": {},
   "outputs": [],
   "source": [
    "import numpy as np\n",
    "import pandas as pd\n",
    "from sklearn.neighbors import KNeighborsClassifier\n",
    "from sklearn.ensemble import RandomForestClassifier\n",
    "from sklearn.ensemble import AdaBoostClassifier\n",
    "from sklearn.tree import DecisionTreeClassifier\n",
    "from sklearn.linear_model import LogisticRegression\n",
    "\n",
    "from sklearn.metrics import accuracy_score"
   ]
  },
  {
   "cell_type": "markdown",
   "metadata": {},
   "source": [
    "## 다시 경제 지표 부분을 넣어서 돌린 결과가 가장 높게 나와 최종적으로 이 모델을 선택하였음"
   ]
  },
  {
   "cell_type": "code",
   "execution_count": 2,
   "metadata": {},
   "outputs": [],
   "source": [
    "f=pd.read_csv('f_with_e2.csv', encoding='euc_kr')\n",
    "\n",
    "#상승과 하락을 각각 1. 0으로 변환\n",
    "for i in range(f.shape[0]):\n",
    "    if f.iloc[i,-1]=='상승':\n",
    "        f.iloc[i,-1]=1\n",
    "    else:\n",
    "        f.iloc[i,-1]=0\n"
   ]
  },
  {
   "cell_type": "code",
   "execution_count": 3,
   "metadata": {},
   "outputs": [
    {
     "data": {
      "text/html": [
       "<div>\n",
       "<style scoped>\n",
       "    .dataframe tbody tr th:only-of-type {\n",
       "        vertical-align: middle;\n",
       "    }\n",
       "\n",
       "    .dataframe tbody tr th {\n",
       "        vertical-align: top;\n",
       "    }\n",
       "\n",
       "    .dataframe thead th {\n",
       "        text-align: right;\n",
       "    }\n",
       "</style>\n",
       "<table border=\"1\" class=\"dataframe\">\n",
       "  <thead>\n",
       "    <tr style=\"text-align: right;\">\n",
       "      <th></th>\n",
       "      <th>날짜</th>\n",
       "      <th>지수종가</th>\n",
       "      <th>거래대금</th>\n",
       "      <th>상장주식수</th>\n",
       "      <th>시가총액</th>\n",
       "      <th>외국인보유주식수</th>\n",
       "      <th>외국인보유시가총액</th>\n",
       "      <th>신용거래종목수</th>\n",
       "      <th>신용자료일자</th>\n",
       "      <th>회사수</th>\n",
       "      <th>...</th>\n",
       "      <th>실업률(NSA)[미국]</th>\n",
       "      <th>외환보유액</th>\n",
       "      <th>재고율[미국]</th>\n",
       "      <th>제조업내수출하지수(원지수)</th>\n",
       "      <th>제조업생산-제조업</th>\n",
       "      <th>제조업생산출하-제조업</th>\n",
       "      <th>코스피지수(1980.1.4=100)(선행)</th>\n",
       "      <th>필라델피아연준지수[미국]</th>\n",
       "      <th>후행종합지수(2015=100)</th>\n",
       "      <th>Y</th>\n",
       "    </tr>\n",
       "  </thead>\n",
       "  <tbody>\n",
       "    <tr>\n",
       "      <th>3801</th>\n",
       "      <td>2016-12-29</td>\n",
       "      <td>2026.46</td>\n",
       "      <td>3009199</td>\n",
       "      <td>41031721</td>\n",
       "      <td>1308440373</td>\n",
       "      <td>6648261</td>\n",
       "      <td>460632479</td>\n",
       "      <td>1282.0</td>\n",
       "      <td>20161227.0</td>\n",
       "      <td>779</td>\n",
       "      <td>...</td>\n",
       "      <td>NaN</td>\n",
       "      <td>334029.2529</td>\n",
       "      <td>1.35</td>\n",
       "      <td>114.4</td>\n",
       "      <td>117.2</td>\n",
       "      <td>116.6</td>\n",
       "      <td>2013.2</td>\n",
       "      <td>19.7</td>\n",
       "      <td>122.8</td>\n",
       "      <td>1</td>\n",
       "    </tr>\n",
       "  </tbody>\n",
       "</table>\n",
       "<p>1 rows × 93 columns</p>\n",
       "</div>"
      ],
      "text/plain": [
       "              날짜     지수종가     거래대금     상장주식수        시가총액  외국인보유주식수  외국인보유시가총액  \\\n",
       "3801  2016-12-29  2026.46  3009199  41031721  1308440373   6648261  460632479   \n",
       "\n",
       "      신용거래종목수      신용자료일자  회사수  ...  실업률(NSA)[미국]        외환보유액  재고율[미국]  \\\n",
       "3801   1282.0  20161227.0  779  ...           NaN  334029.2529     1.35   \n",
       "\n",
       "      제조업내수출하지수(원지수)  제조업생산-제조업  제조업생산출하-제조업  코스피지수(1980.1.4=100)(선행)  \\\n",
       "3801           114.4      117.2        116.6                   2013.2   \n",
       "\n",
       "      필라델피아연준지수[미국]  후행종합지수(2015=100)  Y  \n",
       "3801           19.7             122.8  1  \n",
       "\n",
       "[1 rows x 93 columns]"
      ]
     },
     "execution_count": 3,
     "metadata": {},
     "output_type": "execute_result"
    }
   ],
   "source": [
    "f[f['날짜']=='2016-12-29']"
   ]
  },
  {
   "cell_type": "code",
   "execution_count": 4,
   "metadata": {},
   "outputs": [],
   "source": [
    "X_train=f.iloc[0:3802,1:-1]\n",
    "X_test=f.iloc[3802:,1:-1]\n",
    "y_train=f.iloc[0:3802,-1]\n",
    "y_test=f.iloc[3802:,-1]"
   ]
  },
  {
   "cell_type": "code",
   "execution_count": 5,
   "metadata": {},
   "outputs": [],
   "source": [
    "from sklearn.preprocessing import StandardScaler\n",
    "sc= StandardScaler()\n",
    "\n",
    "X_train=sc.fit_transform(X_train)\n",
    "X_test=sc.transform(X_test)\n",
    "\n",
    "#스케일링 중 발생한 널값에 대해 0(평균)으로 메꿔줌\n",
    "X_train=np.where(np.isnan(X_train), 0, X_train)\n",
    "X_test=np.where(np.isnan(X_test), 0, X_test)"
   ]
  },
  {
   "cell_type": "code",
   "execution_count": 52,
   "metadata": {},
   "outputs": [],
   "source": [
    "# 개별 ML 모델을 위한 Classifier 생성.\n",
    "knn_clf  = KNeighborsClassifier(n_neighbors=4)\n",
    "rf_clf = RandomForestClassifier(n_estimators=100, random_state=0)\n",
    "dt_clf = DecisionTreeClassifier()\n",
    "ada_clf = AdaBoostClassifier(n_estimators=100, learning_rate=0.5)\n",
    "\n",
    "# 최종 Stacking 모델을 위한 Classifier생성. \n",
    "#lr_final = LogisticRegression(C=10)\n",
    "rf_final=RandomForestClassifier(random_state=154)"
   ]
  },
  {
   "cell_type": "code",
   "execution_count": 53,
   "metadata": {},
   "outputs": [
    {
     "data": {
      "text/plain": [
       "AdaBoostClassifier(algorithm='SAMME.R', base_estimator=None, learning_rate=0.5,\n",
       "                   n_estimators=100, random_state=None)"
      ]
     },
     "execution_count": 53,
     "metadata": {},
     "output_type": "execute_result"
    }
   ],
   "source": [
    "# 개별 모델들을 학습. \n",
    "knn_clf.fit(X_train, y_train)\n",
    "rf_clf.fit(X_train , y_train)\n",
    "dt_clf.fit(X_train , y_train)\n",
    "ada_clf.fit(X_train, y_train)"
   ]
  },
  {
   "cell_type": "code",
   "execution_count": 54,
   "metadata": {},
   "outputs": [
    {
     "name": "stdout",
     "output_type": "stream",
     "text": [
      "KNN 정확도: 0.5443\n",
      "랜덤 포레스트 정확도: 0.5591\n",
      "결정 트리 정확도: 0.5886\n",
      "에이다부스트 정확도: 0.6013 :\n"
     ]
    }
   ],
   "source": [
    "# 학습된 개별 모델들이 각자 반환하는 예측 데이터 셋을 생성하고 개별 모델의 정확도 측정. \n",
    "knn_pred = knn_clf.predict(X_test)\n",
    "rf_pred = rf_clf.predict(X_test)\n",
    "dt_pred = dt_clf.predict(X_test)\n",
    "ada_pred = ada_clf.predict(X_test)\n",
    "\n",
    "print('KNN 정확도: {0:.4f}'.format(accuracy_score(y_test, knn_pred)))\n",
    "print('랜덤 포레스트 정확도: {0:.4f}'.format(accuracy_score(y_test, rf_pred)))\n",
    "print('결정 트리 정확도: {0:.4f}'.format(accuracy_score(y_test, dt_pred)))\n",
    "print('에이다부스트 정확도: {0:.4f} :'.format(accuracy_score(y_test, ada_pred)))"
   ]
  },
  {
   "cell_type": "code",
   "execution_count": 55,
   "metadata": {},
   "outputs": [
    {
     "name": "stdout",
     "output_type": "stream",
     "text": [
      "(4, 474)\n",
      "(474, 4)\n"
     ]
    }
   ],
   "source": [
    "pred = np.array([knn_pred, rf_pred, dt_pred, ada_pred])\n",
    "print(pred.shape)\n",
    "\n",
    "# transpose를 이용해 행과 열의 위치 교환. 컬럼 레벨로 각 알고리즘의 예측 결과를 피처로 만듦. \n",
    "pred = np.transpose(pred)\n",
    "print(pred.shape)"
   ]
  },
  {
   "cell_type": "code",
   "execution_count": 56,
   "metadata": {},
   "outputs": [
    {
     "name": "stdout",
     "output_type": "stream",
     "text": [
      "최종 메타 모델의 예측 정확도: 0.6181\n"
     ]
    },
    {
     "name": "stderr",
     "output_type": "stream",
     "text": [
      "C:\\Users\\chocolet\\Anaconda3\\lib\\site-packages\\sklearn\\ensemble\\forest.py:245: FutureWarning: The default value of n_estimators will change from 10 in version 0.20 to 100 in 0.22.\n",
      "  \"10 in version 0.20 to 100 in 0.22.\", FutureWarning)\n"
     ]
    }
   ],
   "source": [
    "rf_final.fit(pred, y_test)\n",
    "final = rf_final.predict(pred)\n",
    "\n",
    "print('최종 메타 모델의 예측 정확도: {0:.4f}'.format(accuracy_score(y_test , final)))"
   ]
  },
  {
   "cell_type": "code",
   "execution_count": 18,
   "metadata": {},
   "outputs": [],
   "source": [
    "from sklearn.metrics import confusion_matrix, accuracy_score\n",
    "from sklearn.metrics import precision_score, recall_score\n",
    "from sklearn.metrics import f1_score, roc_auc_score\n",
    "\n",
    "def get_clf_eval(y_test , pred):\n",
    "    confusion = confusion_matrix( y_test, pred)\n",
    "    accuracy = accuracy_score(y_test , pred)\n",
    "    precision = precision_score(y_test , pred)\n",
    "    recall = recall_score(y_test , pred)\n",
    "    f1 = f1_score(y_test,pred)\n",
    "    roc_auc = roc_auc_score(y_test, pred)\n",
    "    print('오차 행렬')\n",
    "    print(confusion)\n",
    "    print('정확도: {0:.4f}, 정밀도: {1:.4f}, 재현율: {2:.4f},\\\n",
    "    F1: {3:.4f}, AUC:{4:.4f}'.format(accuracy, precision, recall, f1, roc_auc))"
   ]
  },
  {
   "cell_type": "code",
   "execution_count": 57,
   "metadata": {},
   "outputs": [
    {
     "name": "stdout",
     "output_type": "stream",
     "text": [
      "오차 행렬\n",
      "[[ 54 155]\n",
      " [ 26 239]]\n",
      "정확도: 0.6181, 정밀도: 0.6066, 재현율: 0.9019,    F1: 0.7253, AUC:0.5801\n"
     ]
    }
   ],
   "source": [
    "get_clf_eval(y_test, final)"
   ]
  },
  {
   "cell_type": "code",
   "execution_count": null,
   "metadata": {},
   "outputs": [],
   "source": []
  }
 ],
 "metadata": {
  "kernelspec": {
   "display_name": "Python 3",
   "language": "python",
   "name": "python3"
  },
  "language_info": {
   "codemirror_mode": {
    "name": "ipython",
    "version": 3
   },
   "file_extension": ".py",
   "mimetype": "text/x-python",
   "name": "python",
   "nbconvert_exporter": "python",
   "pygments_lexer": "ipython3",
   "version": "3.7.3"
  }
 },
 "nbformat": 4,
 "nbformat_minor": 2
}
