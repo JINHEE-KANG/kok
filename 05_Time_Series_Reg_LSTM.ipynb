{
 "cells": [
  {
   "cell_type": "markdown",
   "metadata": {},
   "source": [
    "# 05. Time Series Regression and Classification\n",
    "- Time Series 데이터의 특징을 반영하여 Regression으로 Target 변수인 **5일 후(t+5시점) 지수종가**를 예측하고 t시점의 지수종가와 비교하여 Classification 문제로 반환한다.\n",
    "\n",
    "## 2. LSTM Model"
   ]
  },
  {
   "cell_type": "code",
   "execution_count": 1,
   "metadata": {},
   "outputs": [
    {
     "name": "stderr",
     "output_type": "stream",
     "text": [
      "Using TensorFlow backend.\n"
     ]
    }
   ],
   "source": [
    "import pandas as pd\n",
    "import numpy as np\n",
    "import matplotlib.pyplot as plt\n",
    "import matplotlib.pylab as plb\n",
    "from encodings import euc_kr\n",
    "import seaborn as sns\n",
    "import tensorflow as tf\n",
    "from sklearn import preprocessing\n",
    "from sklearn.metrics import mean_squared_error\n",
    "from keras.models import Sequential\n",
    "from tensorflow.keras.layers import Dense,Dropout\n",
    "from tensorflow.keras.layers import LSTM\n",
    "from keras.layers import Dropout\n",
    "from keras.utils import to_categorical\n",
    "\n",
    "np.random.seed(777)"
   ]
  },
  {
   "cell_type": "code",
   "execution_count": 25,
   "metadata": {},
   "outputs": [],
   "source": [
    "final = pd.read_csv('./final_merge.csv',encoding = 'euc-kr')\n",
    "kospi = pd.read_csv('./data/kospi_국면분석.csv',encoding = 'euc-kr')\n",
    "final_eco = pd.read_csv('./f_with_e2.csv',encoding = 'euc-kr')"
   ]
  },
  {
   "cell_type": "code",
   "execution_count": 21,
   "metadata": {},
   "outputs": [
    {
     "data": {
      "text/plain": [
       "<matplotlib.axes._subplots.AxesSubplot at 0x1ba58609e48>"
      ]
     },
     "execution_count": 21,
     "metadata": {},
     "output_type": "execute_result"
    },
    {
     "data": {
      "image/png": "[encoded data removed]",
      "text/plain": [
       "<Figure size 432x288 with 1 Axes>"
      ]
     },
     "metadata": {
      "needs_background": "light"
     },
     "output_type": "display_data"
    }
   ],
   "source": [
    "final_eco['지수종가'].plot()"
   ]
  },
  {
   "cell_type": "code",
   "execution_count": null,
   "metadata": {},
   "outputs": [],
   "source": [
    "#지수만 있는 버전\n",
    "kospi_add = kospi[['날짜','지수시가','지수저가','지수고가']]"
   ]
  },
  {
   "cell_type": "code",
   "execution_count": 26,
   "metadata": {},
   "outputs": [
    {
     "data": {
      "text/html": [
       "<div>\n",
       "<style scoped>\n",
       "    .dataframe tbody tr th:only-of-type {\n",
       "        vertical-align: middle;\n",
       "    }\n",
       "\n",
       "    .dataframe tbody tr th {\n",
       "        vertical-align: top;\n",
       "    }\n",
       "\n",
       "    .dataframe thead th {\n",
       "        text-align: right;\n",
       "    }\n",
       "</style>\n",
       "<table border=\"1\" class=\"dataframe\">\n",
       "  <thead>\n",
       "    <tr style=\"text-align: right;\">\n",
       "      <th></th>\n",
       "      <th>날짜</th>\n",
       "      <th>지수종가</th>\n",
       "      <th>거래대금</th>\n",
       "      <th>상장주식수</th>\n",
       "      <th>시가총액</th>\n",
       "      <th>외국인보유주식수</th>\n",
       "      <th>외국인보유시가총액</th>\n",
       "      <th>신용거래종목수</th>\n",
       "      <th>신용자료일자</th>\n",
       "      <th>회사수</th>\n",
       "      <th>...</th>\n",
       "      <th>제조업내수출하지수(원지수)</th>\n",
       "      <th>제조업생산-제조업</th>\n",
       "      <th>제조업생산출하-제조업</th>\n",
       "      <th>코스피지수(1980.1.4=100)(선행)</th>\n",
       "      <th>필라델피아연준지수[미국]</th>\n",
       "      <th>후행종합지수(2015=100)</th>\n",
       "      <th>Y</th>\n",
       "      <th>지수시가</th>\n",
       "      <th>지수저가</th>\n",
       "      <th>지수고가</th>\n",
       "    </tr>\n",
       "  </thead>\n",
       "  <tbody>\n",
       "    <tr>\n",
       "      <th>0</th>\n",
       "      <td>2001-01-02</td>\n",
       "      <td>520.95</td>\n",
       "      <td>1223328</td>\n",
       "      <td>19638887</td>\n",
       "      <td>191252891</td>\n",
       "      <td>2723222</td>\n",
       "      <td>58238292</td>\n",
       "      <td>746.0</td>\n",
       "      <td>20010102.0</td>\n",
       "      <td>704</td>\n",
       "      <td>...</td>\n",
       "      <td>64.962</td>\n",
       "      <td>48.36</td>\n",
       "      <td>51.915</td>\n",
       "      <td>551.8</td>\n",
       "      <td>-36.2</td>\n",
       "      <td>54.7</td>\n",
       "      <td>상승</td>\n",
       "      <td>503.31</td>\n",
       "      <td>500.97</td>\n",
       "      <td>521.34</td>\n",
       "    </tr>\n",
       "    <tr>\n",
       "      <th>1</th>\n",
       "      <td>2001-01-03</td>\n",
       "      <td>521.43</td>\n",
       "      <td>1583403</td>\n",
       "      <td>19633559</td>\n",
       "      <td>191363161</td>\n",
       "      <td>2727918</td>\n",
       "      <td>58249739</td>\n",
       "      <td>746.0</td>\n",
       "      <td>20010102.0</td>\n",
       "      <td>704</td>\n",
       "      <td>...</td>\n",
       "      <td>64.962</td>\n",
       "      <td>48.36</td>\n",
       "      <td>51.915</td>\n",
       "      <td>551.8</td>\n",
       "      <td>-36.2</td>\n",
       "      <td>54.7</td>\n",
       "      <td>상승</td>\n",
       "      <td>512.74</td>\n",
       "      <td>510.70</td>\n",
       "      <td>524.58</td>\n",
       "    </tr>\n",
       "    <tr>\n",
       "      <th>2</th>\n",
       "      <td>2001-01-04</td>\n",
       "      <td>558.02</td>\n",
       "      <td>2984761</td>\n",
       "      <td>19634734</td>\n",
       "      <td>204074166</td>\n",
       "      <td>2735566</td>\n",
       "      <td>62823637</td>\n",
       "      <td>746.0</td>\n",
       "      <td>20010102.0</td>\n",
       "      <td>704</td>\n",
       "      <td>...</td>\n",
       "      <td>64.962</td>\n",
       "      <td>48.36</td>\n",
       "      <td>51.915</td>\n",
       "      <td>551.8</td>\n",
       "      <td>-36.2</td>\n",
       "      <td>54.7</td>\n",
       "      <td>상승</td>\n",
       "      <td>551.53</td>\n",
       "      <td>550.91</td>\n",
       "      <td>567.16</td>\n",
       "    </tr>\n",
       "    <tr>\n",
       "      <th>3</th>\n",
       "      <td>2001-01-05</td>\n",
       "      <td>580.85</td>\n",
       "      <td>3569582</td>\n",
       "      <td>19637038</td>\n",
       "      <td>212089180</td>\n",
       "      <td>2747453</td>\n",
       "      <td>65820417</td>\n",
       "      <td>746.0</td>\n",
       "      <td>20010103.0</td>\n",
       "      <td>704</td>\n",
       "      <td>...</td>\n",
       "      <td>64.962</td>\n",
       "      <td>48.36</td>\n",
       "      <td>51.915</td>\n",
       "      <td>551.8</td>\n",
       "      <td>-36.2</td>\n",
       "      <td>54.7</td>\n",
       "      <td>상승</td>\n",
       "      <td>559.54</td>\n",
       "      <td>555.40</td>\n",
       "      <td>581.41</td>\n",
       "    </tr>\n",
       "    <tr>\n",
       "      <th>4</th>\n",
       "      <td>2001-01-08</td>\n",
       "      <td>586.65</td>\n",
       "      <td>2948092</td>\n",
       "      <td>19630735</td>\n",
       "      <td>214231273</td>\n",
       "      <td>2751599</td>\n",
       "      <td>66348238</td>\n",
       "      <td>746.0</td>\n",
       "      <td>20010104.0</td>\n",
       "      <td>704</td>\n",
       "      <td>...</td>\n",
       "      <td>64.962</td>\n",
       "      <td>48.36</td>\n",
       "      <td>51.915</td>\n",
       "      <td>551.8</td>\n",
       "      <td>-36.2</td>\n",
       "      <td>54.7</td>\n",
       "      <td>상승</td>\n",
       "      <td>573.72</td>\n",
       "      <td>572.48</td>\n",
       "      <td>587.91</td>\n",
       "    </tr>\n",
       "  </tbody>\n",
       "</table>\n",
       "<p>5 rows × 96 columns</p>\n",
       "</div>"
      ],
      "text/plain": [
       "           날짜    지수종가     거래대금     상장주식수       시가총액  외국인보유주식수  외국인보유시가총액  \\\n",
       "0  2001-01-02  520.95  1223328  19638887  191252891   2723222   58238292   \n",
       "1  2001-01-03  521.43  1583403  19633559  191363161   2727918   58249739   \n",
       "2  2001-01-04  558.02  2984761  19634734  204074166   2735566   62823637   \n",
       "3  2001-01-05  580.85  3569582  19637038  212089180   2747453   65820417   \n",
       "4  2001-01-08  586.65  2948092  19630735  214231273   2751599   66348238   \n",
       "\n",
       "   신용거래종목수      신용자료일자  회사수  ...  제조업내수출하지수(원지수)  제조업생산-제조업  제조업생산출하-제조업  \\\n",
       "0    746.0  20010102.0  704  ...          64.962      48.36       51.915   \n",
       "1    746.0  20010102.0  704  ...          64.962      48.36       51.915   \n",
       "2    746.0  20010102.0  704  ...          64.962      48.36       51.915   \n",
       "3    746.0  20010103.0  704  ...          64.962      48.36       51.915   \n",
       "4    746.0  20010104.0  704  ...          64.962      48.36       51.915   \n",
       "\n",
       "   코스피지수(1980.1.4=100)(선행)  필라델피아연준지수[미국]  후행종합지수(2015=100)   Y    지수시가  \\\n",
       "0                    551.8          -36.2              54.7  상승  503.31   \n",
       "1                    551.8          -36.2              54.7  상승  512.74   \n",
       "2                    551.8          -36.2              54.7  상승  551.53   \n",
       "3                    551.8          -36.2              54.7  상승  559.54   \n",
       "4                    551.8          -36.2              54.7  상승  573.72   \n",
       "\n",
       "     지수저가    지수고가  \n",
       "0  500.97  521.34  \n",
       "1  510.70  524.58  \n",
       "2  550.91  567.16  \n",
       "3  555.40  581.41  \n",
       "4  572.48  587.91  \n",
       "\n",
       "[5 rows x 96 columns]"
      ]
     },
     "execution_count": 26,
     "metadata": {},
     "output_type": "execute_result"
    }
   ],
   "source": [
    "Final = final_eco.merge(kospi_add,how = 'left',on = '날짜')\n",
    "Final.head()"
   ]
  },
  {
   "cell_type": "code",
   "execution_count": 31,
   "metadata": {},
   "outputs": [
    {
     "data": {
      "text/html": [
       "<div>\n",
       "<style scoped>\n",
       "    .dataframe tbody tr th:only-of-type {\n",
       "        vertical-align: middle;\n",
       "    }\n",
       "\n",
       "    .dataframe tbody tr th {\n",
       "        vertical-align: top;\n",
       "    }\n",
       "\n",
       "    .dataframe thead th {\n",
       "        text-align: right;\n",
       "    }\n",
       "</style>\n",
       "<table border=\"1\" class=\"dataframe\">\n",
       "  <thead>\n",
       "    <tr style=\"text-align: right;\">\n",
       "      <th></th>\n",
       "      <th>날짜</th>\n",
       "      <th>지수종가</th>\n",
       "      <th>거래대금</th>\n",
       "      <th>상장주식수</th>\n",
       "      <th>시가총액</th>\n",
       "      <th>외국인보유주식수</th>\n",
       "      <th>외국인보유시가총액</th>\n",
       "      <th>신용거래종목수</th>\n",
       "      <th>신용자료일자</th>\n",
       "      <th>회사수</th>\n",
       "      <th>...</th>\n",
       "      <th>금속</th>\n",
       "      <th>oil</th>\n",
       "      <th>미국n년</th>\n",
       "      <th>국고채권(n년)</th>\n",
       "      <th>USD</th>\n",
       "      <th>EUR</th>\n",
       "      <th>CNY</th>\n",
       "      <th>JPY</th>\n",
       "      <th>GBP</th>\n",
       "      <th>5일후 지수종가</th>\n",
       "    </tr>\n",
       "  </thead>\n",
       "  <tbody>\n",
       "    <tr>\n",
       "      <th>0</th>\n",
       "      <td>2001-01-02</td>\n",
       "      <td>520.95</td>\n",
       "      <td>1223328</td>\n",
       "      <td>19638887</td>\n",
       "      <td>191252891</td>\n",
       "      <td>2723222</td>\n",
       "      <td>58238292</td>\n",
       "      <td>746.0</td>\n",
       "      <td>20010102.0</td>\n",
       "      <td>704</td>\n",
       "      <td>...</td>\n",
       "      <td>7202.5</td>\n",
       "      <td>25.8</td>\n",
       "      <td>8.5</td>\n",
       "      <td>11.9</td>\n",
       "      <td>1259.7</td>\n",
       "      <td>1185.38</td>\n",
       "      <td>152.19</td>\n",
       "      <td>1099.07</td>\n",
       "      <td>1885.02</td>\n",
       "      <td>589.92</td>\n",
       "    </tr>\n",
       "    <tr>\n",
       "      <th>1</th>\n",
       "      <td>2001-01-03</td>\n",
       "      <td>521.43</td>\n",
       "      <td>1583403</td>\n",
       "      <td>19633559</td>\n",
       "      <td>191363161</td>\n",
       "      <td>2727918</td>\n",
       "      <td>58249739</td>\n",
       "      <td>746.0</td>\n",
       "      <td>20010102.0</td>\n",
       "      <td>704</td>\n",
       "      <td>...</td>\n",
       "      <td>6641.3</td>\n",
       "      <td>26.5</td>\n",
       "      <td>8.6</td>\n",
       "      <td>11.8</td>\n",
       "      <td>1267.8</td>\n",
       "      <td>1205.49</td>\n",
       "      <td>153.15</td>\n",
       "      <td>1108.07</td>\n",
       "      <td>1903.35</td>\n",
       "      <td>560.81</td>\n",
       "    </tr>\n",
       "    <tr>\n",
       "      <th>2</th>\n",
       "      <td>2001-01-04</td>\n",
       "      <td>558.02</td>\n",
       "      <td>2984761</td>\n",
       "      <td>19634734</td>\n",
       "      <td>204074166</td>\n",
       "      <td>2735566</td>\n",
       "      <td>62823637</td>\n",
       "      <td>746.0</td>\n",
       "      <td>20010102.0</td>\n",
       "      <td>704</td>\n",
       "      <td>...</td>\n",
       "      <td>6843.0</td>\n",
       "      <td>26.8</td>\n",
       "      <td>8.3</td>\n",
       "      <td>11.4</td>\n",
       "      <td>1285.4</td>\n",
       "      <td>1193.24</td>\n",
       "      <td>155.29</td>\n",
       "      <td>1128.53</td>\n",
       "      <td>1914.15</td>\n",
       "      <td>561.79</td>\n",
       "    </tr>\n",
       "    <tr>\n",
       "      <th>3</th>\n",
       "      <td>2001-01-05</td>\n",
       "      <td>580.85</td>\n",
       "      <td>3569582</td>\n",
       "      <td>19637038</td>\n",
       "      <td>212089180</td>\n",
       "      <td>2747453</td>\n",
       "      <td>65820417</td>\n",
       "      <td>746.0</td>\n",
       "      <td>20010103.0</td>\n",
       "      <td>704</td>\n",
       "      <td>...</td>\n",
       "      <td>6878.7</td>\n",
       "      <td>26.6</td>\n",
       "      <td>8.0</td>\n",
       "      <td>11.0</td>\n",
       "      <td>1249.3</td>\n",
       "      <td>1190.90</td>\n",
       "      <td>150.92</td>\n",
       "      <td>1078.01</td>\n",
       "      <td>1876.82</td>\n",
       "      <td>587.87</td>\n",
       "    </tr>\n",
       "    <tr>\n",
       "      <th>4</th>\n",
       "      <td>2001-01-08</td>\n",
       "      <td>586.65</td>\n",
       "      <td>2948092</td>\n",
       "      <td>19630735</td>\n",
       "      <td>214231273</td>\n",
       "      <td>2751599</td>\n",
       "      <td>66348238</td>\n",
       "      <td>746.0</td>\n",
       "      <td>20010104.0</td>\n",
       "      <td>704</td>\n",
       "      <td>...</td>\n",
       "      <td>7012.1</td>\n",
       "      <td>25.8</td>\n",
       "      <td>8.0</td>\n",
       "      <td>10.9</td>\n",
       "      <td>1267.8</td>\n",
       "      <td>1215.06</td>\n",
       "      <td>153.16</td>\n",
       "      <td>1088.71</td>\n",
       "      <td>1906.33</td>\n",
       "      <td>599.00</td>\n",
       "    </tr>\n",
       "  </tbody>\n",
       "</table>\n",
       "<p>5 rows × 40 columns</p>\n",
       "</div>"
      ],
      "text/plain": [
       "           날짜    지수종가     거래대금     상장주식수       시가총액  외국인보유주식수  외국인보유시가총액  \\\n",
       "0  2001-01-02  520.95  1223328  19638887  191252891   2723222   58238292   \n",
       "1  2001-01-03  521.43  1583403  19633559  191363161   2727918   58249739   \n",
       "2  2001-01-04  558.02  2984761  19634734  204074166   2735566   62823637   \n",
       "3  2001-01-05  580.85  3569582  19637038  212089180   2747453   65820417   \n",
       "4  2001-01-08  586.65  2948092  19630735  214231273   2751599   66348238   \n",
       "\n",
       "   신용거래종목수      신용자료일자  회사수  ...      금속   oil  미국n년  국고채권(n년)     USD  \\\n",
       "0    746.0  20010102.0  704  ...  7202.5  25.8   8.5      11.9  1259.7   \n",
       "1    746.0  20010102.0  704  ...  6641.3  26.5   8.6      11.8  1267.8   \n",
       "2    746.0  20010102.0  704  ...  6843.0  26.8   8.3      11.4  1285.4   \n",
       "3    746.0  20010103.0  704  ...  6878.7  26.6   8.0      11.0  1249.3   \n",
       "4    746.0  20010104.0  704  ...  7012.1  25.8   8.0      10.9  1267.8   \n",
       "\n",
       "       EUR     CNY      JPY      GBP  5일후 지수종가  \n",
       "0  1185.38  152.19  1099.07  1885.02    589.92  \n",
       "1  1205.49  153.15  1108.07  1903.35    560.81  \n",
       "2  1193.24  155.29  1128.53  1914.15    561.79  \n",
       "3  1190.90  150.92  1078.01  1876.82    587.87  \n",
       "4  1215.06  153.16  1088.71  1906.33    599.00  \n",
       "\n",
       "[5 rows x 40 columns]"
      ]
     },
     "execution_count": 31,
     "metadata": {},
     "output_type": "execute_result"
    }
   ],
   "source": [
    "final_eco = final.drop(['Unnamed: 0','Y'],axis = 1)\n",
    "final_eco['5일후 지수종가'] = final_eco['지수종가'].shift(-5)\n",
    "final_eco.head()"
   ]
  },
  {
   "cell_type": "code",
   "execution_count": null,
   "metadata": {},
   "outputs": [],
   "source": [
    "#Final[Final['날짜']=='2017-01-02'] # 3802까지"
   ]
  },
  {
   "cell_type": "code",
   "execution_count": 4,
   "metadata": {},
   "outputs": [
    {
     "data": {
      "text/html": [
       "<div>\n",
       "<style scoped>\n",
       "    .dataframe tbody tr th:only-of-type {\n",
       "        vertical-align: middle;\n",
       "    }\n",
       "\n",
       "    .dataframe tbody tr th {\n",
       "        vertical-align: top;\n",
       "    }\n",
       "\n",
       "    .dataframe thead th {\n",
       "        text-align: right;\n",
       "    }\n",
       "</style>\n",
       "<table border=\"1\" class=\"dataframe\">\n",
       "  <thead>\n",
       "    <tr style=\"text-align: right;\">\n",
       "      <th></th>\n",
       "      <th>5일후 지수종가</th>\n",
       "      <th>날짜</th>\n",
       "      <th>지수종가</th>\n",
       "      <th>거래대금</th>\n",
       "      <th>상장주식수</th>\n",
       "      <th>시가총액</th>\n",
       "      <th>외국인보유주식수</th>\n",
       "      <th>외국인보유시가총액</th>\n",
       "      <th>신용거래종목수</th>\n",
       "      <th>신용자료일자</th>\n",
       "      <th>...</th>\n",
       "      <th>미국n년</th>\n",
       "      <th>국고채권(n년)</th>\n",
       "      <th>USD</th>\n",
       "      <th>EUR</th>\n",
       "      <th>CNY</th>\n",
       "      <th>JPY</th>\n",
       "      <th>GBP</th>\n",
       "      <th>지수시가</th>\n",
       "      <th>지수저가</th>\n",
       "      <th>지수고가</th>\n",
       "    </tr>\n",
       "  </thead>\n",
       "  <tbody>\n",
       "    <tr>\n",
       "      <th>0</th>\n",
       "      <td>589.92</td>\n",
       "      <td>2001-01-02</td>\n",
       "      <td>520.95</td>\n",
       "      <td>1223328</td>\n",
       "      <td>19638887</td>\n",
       "      <td>191252891</td>\n",
       "      <td>2723222</td>\n",
       "      <td>58238292</td>\n",
       "      <td>746.0</td>\n",
       "      <td>20010102.0</td>\n",
       "      <td>...</td>\n",
       "      <td>8.5</td>\n",
       "      <td>11.9</td>\n",
       "      <td>1259.7</td>\n",
       "      <td>1185.38</td>\n",
       "      <td>152.19</td>\n",
       "      <td>1099.07</td>\n",
       "      <td>1885.02</td>\n",
       "      <td>503.31</td>\n",
       "      <td>500.97</td>\n",
       "      <td>521.34</td>\n",
       "    </tr>\n",
       "    <tr>\n",
       "      <th>1</th>\n",
       "      <td>560.81</td>\n",
       "      <td>2001-01-03</td>\n",
       "      <td>521.43</td>\n",
       "      <td>1583403</td>\n",
       "      <td>19633559</td>\n",
       "      <td>191363161</td>\n",
       "      <td>2727918</td>\n",
       "      <td>58249739</td>\n",
       "      <td>746.0</td>\n",
       "      <td>20010102.0</td>\n",
       "      <td>...</td>\n",
       "      <td>8.6</td>\n",
       "      <td>11.8</td>\n",
       "      <td>1267.8</td>\n",
       "      <td>1205.49</td>\n",
       "      <td>153.15</td>\n",
       "      <td>1108.07</td>\n",
       "      <td>1903.35</td>\n",
       "      <td>512.74</td>\n",
       "      <td>510.70</td>\n",
       "      <td>524.58</td>\n",
       "    </tr>\n",
       "    <tr>\n",
       "      <th>2</th>\n",
       "      <td>561.79</td>\n",
       "      <td>2001-01-04</td>\n",
       "      <td>558.02</td>\n",
       "      <td>2984761</td>\n",
       "      <td>19634734</td>\n",
       "      <td>204074166</td>\n",
       "      <td>2735566</td>\n",
       "      <td>62823637</td>\n",
       "      <td>746.0</td>\n",
       "      <td>20010102.0</td>\n",
       "      <td>...</td>\n",
       "      <td>8.3</td>\n",
       "      <td>11.4</td>\n",
       "      <td>1285.4</td>\n",
       "      <td>1193.24</td>\n",
       "      <td>155.29</td>\n",
       "      <td>1128.53</td>\n",
       "      <td>1914.15</td>\n",
       "      <td>551.53</td>\n",
       "      <td>550.91</td>\n",
       "      <td>567.16</td>\n",
       "    </tr>\n",
       "    <tr>\n",
       "      <th>3</th>\n",
       "      <td>587.87</td>\n",
       "      <td>2001-01-05</td>\n",
       "      <td>580.85</td>\n",
       "      <td>3569582</td>\n",
       "      <td>19637038</td>\n",
       "      <td>212089180</td>\n",
       "      <td>2747453</td>\n",
       "      <td>65820417</td>\n",
       "      <td>746.0</td>\n",
       "      <td>20010103.0</td>\n",
       "      <td>...</td>\n",
       "      <td>8.0</td>\n",
       "      <td>11.0</td>\n",
       "      <td>1249.3</td>\n",
       "      <td>1190.90</td>\n",
       "      <td>150.92</td>\n",
       "      <td>1078.01</td>\n",
       "      <td>1876.82</td>\n",
       "      <td>559.54</td>\n",
       "      <td>555.40</td>\n",
       "      <td>581.41</td>\n",
       "    </tr>\n",
       "    <tr>\n",
       "      <th>4</th>\n",
       "      <td>599.00</td>\n",
       "      <td>2001-01-08</td>\n",
       "      <td>586.65</td>\n",
       "      <td>2948092</td>\n",
       "      <td>19630735</td>\n",
       "      <td>214231273</td>\n",
       "      <td>2751599</td>\n",
       "      <td>66348238</td>\n",
       "      <td>746.0</td>\n",
       "      <td>20010104.0</td>\n",
       "      <td>...</td>\n",
       "      <td>8.0</td>\n",
       "      <td>10.9</td>\n",
       "      <td>1267.8</td>\n",
       "      <td>1215.06</td>\n",
       "      <td>153.16</td>\n",
       "      <td>1088.71</td>\n",
       "      <td>1906.33</td>\n",
       "      <td>573.72</td>\n",
       "      <td>572.48</td>\n",
       "      <td>587.91</td>\n",
       "    </tr>\n",
       "  </tbody>\n",
       "</table>\n",
       "<p>5 rows × 43 columns</p>\n",
       "</div>"
      ],
      "text/plain": [
       "   5일후 지수종가          날짜    지수종가     거래대금     상장주식수       시가총액  외국인보유주식수  \\\n",
       "0    589.92  2001-01-02  520.95  1223328  19638887  191252891   2723222   \n",
       "1    560.81  2001-01-03  521.43  1583403  19633559  191363161   2727918   \n",
       "2    561.79  2001-01-04  558.02  2984761  19634734  204074166   2735566   \n",
       "3    587.87  2001-01-05  580.85  3569582  19637038  212089180   2747453   \n",
       "4    599.00  2001-01-08  586.65  2948092  19630735  214231273   2751599   \n",
       "\n",
       "   외국인보유시가총액  신용거래종목수      신용자료일자  ...  미국n년  국고채권(n년)     USD      EUR  \\\n",
       "0   58238292    746.0  20010102.0  ...   8.5      11.9  1259.7  1185.38   \n",
       "1   58249739    746.0  20010102.0  ...   8.6      11.8  1267.8  1205.49   \n",
       "2   62823637    746.0  20010102.0  ...   8.3      11.4  1285.4  1193.24   \n",
       "3   65820417    746.0  20010103.0  ...   8.0      11.0  1249.3  1190.90   \n",
       "4   66348238    746.0  20010104.0  ...   8.0      10.9  1267.8  1215.06   \n",
       "\n",
       "      CNY      JPY      GBP    지수시가    지수저가    지수고가  \n",
       "0  152.19  1099.07  1885.02  503.31  500.97  521.34  \n",
       "1  153.15  1108.07  1903.35  512.74  510.70  524.58  \n",
       "2  155.29  1128.53  1914.15  551.53  550.91  567.16  \n",
       "3  150.92  1078.01  1876.82  559.54  555.40  581.41  \n",
       "4  153.16  1088.71  1906.33  573.72  572.48  587.91  \n",
       "\n",
       "[5 rows x 43 columns]"
      ]
     },
     "execution_count": 4,
     "metadata": {},
     "output_type": "execute_result"
    }
   ],
   "source": [
    "### economic있는 버전 잠시만 안녕\n",
    "\n",
    "#data1 = final.merge(kospi_add,how = 'left',on = '날짜')\n",
    "#data1 = data1.drop(['Unnamed: 0','Y'],axis = 1)\n",
    "#data1 = Final.drop(['Y'],axis = 1)\n",
    "\n",
    "#after5 = data1[['지수종가']].shift(-5);\n",
    "#after5.columns = ['5일후 지수종가']\n",
    "#data1 = pd.concat([after5,data1],axis = 1)\n",
    "#data1.head()"
   ]
  },
  {
   "cell_type": "code",
   "execution_count": 5,
   "metadata": {},
   "outputs": [
    {
     "data": {
      "text/html": [
       "<div>\n",
       "<style scoped>\n",
       "    .dataframe tbody tr th:only-of-type {\n",
       "        vertical-align: middle;\n",
       "    }\n",
       "\n",
       "    .dataframe tbody tr th {\n",
       "        vertical-align: top;\n",
       "    }\n",
       "\n",
       "    .dataframe thead th {\n",
       "        text-align: right;\n",
       "    }\n",
       "</style>\n",
       "<table border=\"1\" class=\"dataframe\">\n",
       "  <thead>\n",
       "    <tr style=\"text-align: right;\">\n",
       "      <th></th>\n",
       "      <th>5일후 지수종가</th>\n",
       "      <th>날짜</th>\n",
       "      <th>지수종가</th>\n",
       "      <th>거래대금</th>\n",
       "      <th>상장주식수</th>\n",
       "      <th>시가총액</th>\n",
       "      <th>외국인보유주식수</th>\n",
       "      <th>외국인보유시가총액</th>\n",
       "      <th>신용거래종목수</th>\n",
       "      <th>신용자료일자</th>\n",
       "      <th>...</th>\n",
       "      <th>미국n년</th>\n",
       "      <th>국고채권(n년)</th>\n",
       "      <th>USD</th>\n",
       "      <th>EUR</th>\n",
       "      <th>CNY</th>\n",
       "      <th>JPY</th>\n",
       "      <th>GBP</th>\n",
       "      <th>지수시가</th>\n",
       "      <th>지수저가</th>\n",
       "      <th>지수고가</th>\n",
       "    </tr>\n",
       "  </thead>\n",
       "  <tbody>\n",
       "    <tr>\n",
       "      <th>3962</th>\n",
       "      <td>2048.78</td>\n",
       "      <td>2017-01-02</td>\n",
       "      <td>2026.16</td>\n",
       "      <td>2616791</td>\n",
       "      <td>41066327</td>\n",
       "      <td>1308042051</td>\n",
       "      <td>6662839</td>\n",
       "      <td>461306526</td>\n",
       "      <td>1282.0</td>\n",
       "      <td>20161228.0</td>\n",
       "      <td>...</td>\n",
       "      <td>2.5</td>\n",
       "      <td>3.1</td>\n",
       "      <td>1208.5</td>\n",
       "      <td>1272.37</td>\n",
       "      <td>173.26</td>\n",
       "      <td>1034.45</td>\n",
       "      <td>1492.2</td>\n",
       "      <td>2022.23</td>\n",
       "      <td>2015.68</td>\n",
       "      <td>2031.79</td>\n",
       "    </tr>\n",
       "  </tbody>\n",
       "</table>\n",
       "<p>1 rows × 43 columns</p>\n",
       "</div>"
      ],
      "text/plain": [
       "      5일후 지수종가          날짜     지수종가     거래대금     상장주식수        시가총액  외국인보유주식수  \\\n",
       "3962   2048.78  2017-01-02  2026.16  2616791  41066327  1308042051   6662839   \n",
       "\n",
       "      외국인보유시가총액  신용거래종목수      신용자료일자  ...  미국n년  국고채권(n년)     USD      EUR  \\\n",
       "3962  461306526   1282.0  20161228.0  ...   2.5       3.1  1208.5  1272.37   \n",
       "\n",
       "         CNY      JPY     GBP     지수시가     지수저가     지수고가  \n",
       "3962  173.26  1034.45  1492.2  2022.23  2015.68  2031.79  \n",
       "\n",
       "[1 rows x 43 columns]"
      ]
     },
     "execution_count": 5,
     "metadata": {},
     "output_type": "execute_result"
    }
   ],
   "source": [
    "data1[data1['날짜']=='2017-01-02'] # 3962"
   ]
  },
  {
   "cell_type": "code",
   "execution_count": 638,
   "metadata": {},
   "outputs": [
    {
     "data": {
      "text/plain": [
       "(4449, 43)"
      ]
     },
     "execution_count": 638,
     "metadata": {},
     "output_type": "execute_result"
    }
   ],
   "source": [
    "data1.shape ##economic 불포함 (4449,44) ##economic 포함(4276,96)"
   ]
  },
  {
   "cell_type": "markdown",
   "metadata": {},
   "source": [
    "# 지수종가(not 5일후)를 기준으로 LSTM"
   ]
  },
  {
   "cell_type": "code",
   "execution_count": 32,
   "metadata": {},
   "outputs": [],
   "source": [
    "# '날짜' 변수를 datetime 타입으로 변환하고 index로 사용하기\n",
    "# 잠시만 안녕\n",
    "#data1['날짜'] = pd.to_datetime(data1['날짜'],format = '%Y/%m/%d')\n",
    "#col_name = data1.drop('날짜',axis = 1).columns\n",
    "#data = data1.set_index('날짜').dropna()\n",
    "#values = data.values #dataframe형태를 array로 변환한 ver.\n",
    "\n",
    "final_eco['날짜'] = pd.to_datetime(final_eco['날짜'],format = '%Y/%m/%d')\n",
    "col_name = final_eco.drop('날짜',axis = 1).columns\n",
    "data = final_eco.set_index('날짜').dropna()\n",
    "values = data.values #dataframe형태를 array로 변환한 ver."
   ]
  },
  {
   "cell_type": "code",
   "execution_count": 7,
   "metadata": {},
   "outputs": [
    {
     "data": {
      "text/plain": [
       "(4444, 42)"
      ]
     },
     "execution_count": 7,
     "metadata": {},
     "output_type": "execute_result"
    }
   ],
   "source": [
    "data.shape ##economic 불포함(4444,42) ##economic 포함(4276,95)"
   ]
  },
  {
   "cell_type": "code",
   "execution_count": 33,
   "metadata": {},
   "outputs": [
    {
     "name": "stdout",
     "output_type": "stream",
     "text": [
      "(4444, 39)\n",
      "(4444, 39)\n"
     ]
    }
   ],
   "source": [
    "# scaling - minmax\n",
    "scaler = preprocessing.MinMaxScaler(feature_range = (0, 1))\n",
    "data_scaled = scaler.fit_transform(values)\n",
    "data_scaled = pd.DataFrame(data_scaled,columns = col_name)\n",
    "print(data_scaled.shape) ##(4276,95)\n",
    "values = data_scaled.values\n",
    "print(values.shape) ##(4276,95)"
   ]
  },
  {
   "cell_type": "code",
   "execution_count": 34,
   "metadata": {},
   "outputs": [
    {
     "data": {
      "text/plain": [
       "<matplotlib.axes._subplots.AxesSubplot at 0x1ba1b369668>"
      ]
     },
     "execution_count": 34,
     "metadata": {},
     "output_type": "execute_result"
    },
    {
     "data": {
      "image/png": "[encoded data removed]",
      "text/plain": [
       "<Figure size 432x288 with 1 Axes>"
      ]
     },
     "metadata": {
      "needs_background": "light"
     },
     "output_type": "display_data"
    }
   ],
   "source": [
    "data_scaled.iloc[:,0].plot()"
   ]
  },
  {
   "cell_type": "code",
   "execution_count": 35,
   "metadata": {},
   "outputs": [
    {
     "name": "stdout",
     "output_type": "stream",
     "text": [
      "(3962, 1, 38) (3962, 1)\n",
      "(482, 1, 38) (482, 1)\n"
     ]
    },
    {
     "data": {
      "text/plain": [
       "[<matplotlib.lines.Line2D at 0x1ba1bab50f0>]"
      ]
     },
     "execution_count": 35,
     "metadata": {},
     "output_type": "execute_result"
    },
    {
     "data": {
      "image/png": "[encoded data removed]",
      "text/plain": [
       "<Figure size 432x288 with 1 Axes>"
      ]
     },
     "metadata": {
      "needs_background": "light"
     },
     "output_type": "display_data"
    }
   ],
   "source": [
    "# train / test 나누기\n",
    "#data[data['날짜']=='2017-01-02'] #3962\n",
    "#values = reframed.values #(4443, 78) \n",
    "#print(values.shape)\n",
    "train_frame = values[:3962,:] ##불포함 3802\n",
    "test_frame = values[3962:,:]\n",
    "\n",
    "# array로 변환\n",
    "#train = train_frame.values\n",
    "#test = test_frame.values\n",
    "\n",
    "# 데이터셋 생성\n",
    "#look_back = 100\n",
    "\n",
    "#trainX, trainY = build_dataset(train_frame, seq_length)\n",
    "#testX, testY = build_dataset(train_frame, seq_length)\n",
    "\n",
    "train_X, train_y = train_frame[:, 1:], train_frame[:, 0] # (3802,1,94) (3802,1)\n",
    "test_X, test_y = test_frame[:, 1:], test_frame[:, 0] # (474,1,94) (474,1)\n",
    "\n",
    "# 3차원으로 변환(LSTM input 형식에 맞추기)\n",
    "train_X = train_X.reshape(train_X.shape[0],1,train_X.shape[1])\n",
    "train_y = train_y.reshape(train_y.shape[0],1)\n",
    "test_X = test_X.reshape(test_X.shape[0],1,test_X.shape[1])\n",
    "test_y = test_y.reshape(test_y.shape[0],1)\n",
    "print(train_X.shape,train_y.shape) # (3802,1,94) (3802,1)\n",
    "print(test_X.shape,test_y.shape) # (474,1,94) (474,1)\n",
    "plt.plot(test_y)"
   ]
  },
  {
   "cell_type": "markdown",
   "metadata": {},
   "source": [
    "### (1) batch_size = 140 / iterations = 1000 / hidden layers = 30 / activation = tanh(default)"
   ]
  },
  {
   "cell_type": "code",
   "execution_count": 41,
   "metadata": {},
   "outputs": [
    {
     "name": "stdout",
     "output_type": "stream",
     "text": [
      "3962\n",
      "38\n",
      "1\n",
      "140\n"
     ]
    }
   ],
   "source": [
    "seq_length = train_X.shape[0] ;print(seq_length) ##3802\n",
    "data_dim = train_X.shape[2]; print(data_dim) ##94\n",
    "output_dim = train_y.shape[1]; print(output_dim) ##1\n",
    "batch_size = 140 ; print(batch_size) ##14\n",
    "iterations = 1000"
   ]
  },
  {
   "cell_type": "code",
   "execution_count": 42,
   "metadata": {},
   "outputs": [
    {
     "name": "stdout",
     "output_type": "stream",
     "text": [
      "Tensor(\"rnn/transpose_1:0\", shape=(?, ?, 30), dtype=float32) LSTMStateTuple(c=<tf.Tensor 'rnn/while/Exit_3:0' shape=(?, 30) dtype=float32>, h=<tf.Tensor 'rnn/while/Exit_4:0' shape=(?, 30) dtype=float32>)\n"
     ]
    }
   ],
   "source": [
    "tf.reset_default_graph()\n",
    "\n",
    "X = tf.placeholder(tf.float32,[None,None, data_dim])\n",
    "Y = tf.placeholder(tf.float32,[None,None])\n",
    "#print(X.shape,Y.shape)\n",
    "\n",
    "\n",
    "cell = tf.contrib.rnn.BasicLSTMCell(num_units = 30, state_is_tuple=True)\n",
    "outputs, _states = tf.nn.dynamic_rnn(cell,X,dtype = tf.float32) ; print(outputs,_states)\n",
    "Y_pred = tf.contrib.layers.fully_connected(outputs[:,-1],output_dim,activation_fn = None)\n",
    "\n",
    "loss = tf.reduce_sum(tf.square(Y_pred - Y))\n",
    "\n",
    "optimizer = tf.train.AdamOptimizer(0.01)\n",
    "train = optimizer.minimize(loss)\n",
    "\n",
    "m = tf.keras.metrics.Accuracy()\n",
    "\n",
    "# RMSE\n",
    "targets = tf.placeholder(tf.float32, [None,1])\n",
    "predictions = tf.placeholder(tf.float32, [None,1])\n",
    "rmse = tf.sqrt(tf.reduce_mean(tf.square(targets - predictions)))\n",
    "\n",
    "#model = Sequential()\n",
    "#model.add(LSTM(30, input_shape=(train_X.shape[1], 5)))\n",
    "#model.add(Dense(1))\n",
    "#model.compile(loss='mae', optimizer='adam')"
   ]
  },
  {
   "cell_type": "code",
   "execution_count": 43,
   "metadata": {},
   "outputs": [
    {
     "name": "stdout",
     "output_type": "stream",
     "text": [
      "[step: 0] loss: 1395.6588134765625\n",
      "[step: 50] loss: 6.073833465576172\n",
      "[step: 100] loss: 2.785228967666626\n",
      "[step: 150] loss: 1.9856939315795898\n",
      "[step: 200] loss: 1.6788686513900757\n",
      "[step: 250] loss: 1.4936895370483398\n",
      "[step: 300] loss: 1.3377670049667358\n",
      "[step: 350] loss: 1.1958119869232178\n",
      "[step: 400] loss: 1.06536066532135\n",
      "[step: 450] loss: 0.9456774592399597\n",
      "[step: 500] loss: 0.8364807963371277\n",
      "[step: 550] loss: 0.7377564907073975\n",
      "[step: 600] loss: 0.6497132182121277\n",
      "[step: 650] loss: 0.572748601436615\n",
      "[step: 700] loss: 0.507307767868042\n",
      "[step: 750] loss: 0.4534953832626343\n",
      "[step: 800] loss: 0.41051504015922546\n",
      "[step: 850] loss: 0.3764703869819641\n",
      "[step: 900] loss: 0.34890034794807434\n",
      "[step: 950] loss: 0.32560011744499207\n",
      "RMSE: 0.026203051209449768\n"
     ]
    },
    {
     "data": {
      "image/png": "[encoded data removed]",
      "text/plain": [
       "<Figure size 432x288 with 1 Axes>"
      ]
     },
     "metadata": {
      "needs_background": "light"
     },
     "output_type": "display_data"
    }
   ],
   "source": [
    "with tf.Session() as sess:\n",
    "    init = tf.global_variables_initializer()\n",
    "    sess.run(init)\n",
    "\n",
    "    # Training step\n",
    "    for i in range(iterations):\n",
    "        _, step_loss = sess.run([train, loss], feed_dict={X: train_X, Y: train_y})\n",
    "        train_predict = sess.run(Y_pred, feed_dict={X: train_X})\n",
    "        m.update_state(train_y, train_predict)\n",
    "\n",
    "        if i%50==0:\n",
    "            print(\"[step: {}] loss: {}\".format(i, step_loss,))\n",
    "\n",
    "    # Test step\n",
    "    test_predict = sess.run(Y_pred, feed_dict={X: test_X})\n",
    "    rmse_val = sess.run(rmse, feed_dict={targets: test_y, predictions: test_predict})\n",
    "    print(\"RMSE: {}\".format(rmse_val))\n",
    "\n",
    "    # Plot predictions\n",
    "    plt.plot(test_y)\n",
    "    plt.plot(test_predict)\n",
    "    plt.show()"
   ]
  },
  {
   "cell_type": "code",
   "execution_count": 44,
   "metadata": {},
   "outputs": [],
   "source": [
    "test_y.shape ##(482,1)\n",
    "test_y.dtype ##float64\n",
    "test_predict.shape ##(482,1)\n",
    "test_predict.dtype ##float32\n",
    "\n",
    "#### 절대 다시 돌리지 말 것 ####\n",
    "pred_LSTM_1 = test_predict"
   ]
  },
  {
   "cell_type": "code",
   "execution_count": 46,
   "metadata": {},
   "outputs": [
    {
     "data": {
      "text/plain": [
       "(482, 1)"
      ]
     },
     "execution_count": 46,
     "metadata": {},
     "output_type": "execute_result"
    }
   ],
   "source": [
    "test_kospi = test_frame[:, 0].reshape(test_frame.shape[0],1)\n",
    "test_kospi.shape"
   ]
  },
  {
   "cell_type": "code",
   "execution_count": 107,
   "metadata": {},
   "outputs": [
    {
     "name": "stdout",
     "output_type": "stream",
     "text": [
      "accuracy: 0.524896265560166  \n",
      "confusion matrix:\n",
      " [[ 97 117]\n",
      " [112 156]]\n",
      "f1: 0.5767097966728282\n"
     ]
    }
   ],
   "source": [
    "diff = pred_LSTM_1 - test_kospi #5일후 예측값 - t시점 지수종가\n",
    "prediction = diff >= 0 #True면 '상승' = 1 False면 '하락' = 0\n",
    "\n",
    "Y = kospi[['Y']]\n",
    "true = Y.iloc[3962:-5,0].values\n",
    "true = (true=='상승') #True면  1 = '상승' False면 0 = '하락'\n",
    "\n",
    "\n",
    "from sklearn.metrics import accuracy_score, confusion_matrix, f1_score\n",
    "print(\"accuracy: {}  \\nconfusion matrix:\\n {}\\nf1: {}\".format(accuracy_score(true, prediction), confusion_matrix(true, prediction), f1_score(true, prediction)))"
   ]
  },
  {
   "cell_type": "markdown",
   "metadata": {},
   "source": [
    "### (2) batch_size = 140 / iterations = 1000 / hidden layers = 30 / activation = ReLU"
   ]
  },
  {
   "cell_type": "code",
   "execution_count": 48,
   "metadata": {},
   "outputs": [
    {
     "name": "stdout",
     "output_type": "stream",
     "text": [
      "3962\n",
      "38\n",
      "1\n",
      "140\n"
     ]
    }
   ],
   "source": [
    "seq_length = train_X.shape[0] ;print(seq_length) ##3802\n",
    "data_dim = train_X.shape[2]; print(data_dim) ##94\n",
    "output_dim = train_y.shape[1]; print(output_dim) ##1\n",
    "batch_size = 140 ; print(batch_size) ##14\n",
    "iterations = 1000"
   ]
  },
  {
   "cell_type": "code",
   "execution_count": 49,
   "metadata": {},
   "outputs": [
    {
     "name": "stdout",
     "output_type": "stream",
     "text": [
      "Tensor(\"rnn/transpose_1:0\", shape=(?, ?, 30), dtype=float32) LSTMStateTuple(c=<tf.Tensor 'rnn/while/Exit_3:0' shape=(?, 30) dtype=float32>, h=<tf.Tensor 'rnn/while/Exit_4:0' shape=(?, 30) dtype=float32>)\n"
     ]
    }
   ],
   "source": [
    "tf.reset_default_graph()\n",
    "\n",
    "X = tf.placeholder(tf.float32,[None,None, data_dim])\n",
    "Y = tf.placeholder(tf.float32,[None,None])\n",
    "#print(X.shape,Y.shape)\n",
    "\n",
    "\n",
    "cell = tf.contrib.rnn.BasicLSTMCell(num_units = 30, state_is_tuple=True,activation = tf.nn.relu)\n",
    "outputs, _states = tf.nn.dynamic_rnn(cell,X,dtype = tf.float32) ; print(outputs,_states)\n",
    "Y_pred = tf.contrib.layers.fully_connected(outputs[:,-1],output_dim,activation_fn = None)\n",
    "\n",
    "loss = tf.reduce_sum(tf.square(Y_pred - Y))\n",
    "\n",
    "optimizer = tf.train.AdamOptimizer(0.01)\n",
    "train = optimizer.minimize(loss)\n",
    "\n",
    "m = tf.keras.metrics.Accuracy()\n",
    "\n",
    "# RMSE\n",
    "targets = tf.placeholder(tf.float32, [None,1])\n",
    "predictions = tf.placeholder(tf.float32, [None,1])\n",
    "rmse = tf.sqrt(tf.reduce_mean(tf.square(targets - predictions)))\n",
    "\n",
    "#model = Sequential()\n",
    "#model.add(LSTM(30, input_shape=(train_X.shape[1], 5)))\n",
    "#model.add(Dense(1))\n",
    "#model.compile(loss='mae', optimizer='adam')"
   ]
  },
  {
   "cell_type": "code",
   "execution_count": 50,
   "metadata": {},
   "outputs": [
    {
     "name": "stdout",
     "output_type": "stream",
     "text": [
      "[step: 0] loss: 1412.991943359375\n",
      "[step: 50] loss: 7.893426895141602\n",
      "[step: 100] loss: 2.8894591331481934\n",
      "[step: 150] loss: 2.234416961669922\n",
      "[step: 200] loss: 1.8576573133468628\n",
      "[step: 250] loss: 1.5902167558670044\n",
      "[step: 300] loss: 1.3830490112304688\n",
      "[step: 350] loss: 1.2148767709732056\n",
      "[step: 400] loss: 1.0763722658157349\n",
      "[step: 450] loss: 0.9619678258895874\n",
      "[step: 500] loss: 0.8669538497924805\n",
      "[step: 550] loss: 0.7875770330429077\n",
      "[step: 600] loss: 0.7206334471702576\n",
      "[step: 650] loss: 0.6634920835494995\n",
      "[step: 700] loss: 0.6139516830444336\n",
      "[step: 750] loss: 0.5705193281173706\n",
      "[step: 800] loss: 0.5320711731910706\n",
      "[step: 850] loss: 0.49788349866867065\n",
      "[step: 900] loss: 0.4673909544944763\n",
      "[step: 950] loss: 0.43998217582702637\n",
      "RMSE: 0.11641295999288559\n"
     ]
    },
    {
     "data": {
      "image/png": "[encoded data removed]",
      "text/plain": [
       "<Figure size 432x288 with 1 Axes>"
      ]
     },
     "metadata": {
      "needs_background": "light"
     },
     "output_type": "display_data"
    }
   ],
   "source": [
    "with tf.Session() as sess:\n",
    "    init = tf.global_variables_initializer()\n",
    "    sess.run(init)\n",
    "\n",
    "    # Training step\n",
    "    for i in range(iterations):\n",
    "        _, step_loss = sess.run([train, loss], feed_dict={X: train_X, Y: train_y})\n",
    "        train_predict = sess.run(Y_pred, feed_dict={X: train_X})\n",
    "        m.update_state(train_y, train_predict)\n",
    "\n",
    "        if i%50==0:\n",
    "            print(\"[step: {}] loss: {}\".format(i, step_loss,))\n",
    "\n",
    "    # Test step\n",
    "    test_predict = sess.run(Y_pred, feed_dict={X: test_X})\n",
    "    rmse_val = sess.run(rmse, feed_dict={targets: test_y, predictions: test_predict})\n",
    "    print(\"RMSE: {}\".format(rmse_val))\n",
    "\n",
    "    # Plot predictions\n",
    "    plt.plot(test_y)\n",
    "    plt.plot(test_predict)\n",
    "    plt.show()"
   ]
  },
  {
   "cell_type": "code",
   "execution_count": 51,
   "metadata": {},
   "outputs": [],
   "source": [
    "test_y.shape ##(482,1)\n",
    "test_y.dtype ##float64\n",
    "test_predict.shape ##(482,1)\n",
    "test_predict.dtype ##float32\n",
    "\n",
    "#### 절대 다시 돌리지 말 것 ####\n",
    "pred_LSTM_2 = test_predict"
   ]
  },
  {
   "cell_type": "code",
   "execution_count": 108,
   "metadata": {},
   "outputs": [
    {
     "name": "stdout",
     "output_type": "stream",
     "text": [
      "accuracy: 0.5560165975103735  \n",
      "confusion matrix:\n",
      " [[  0 214]\n",
      " [  0 268]]\n",
      "f1: 0.7146666666666667\n"
     ]
    }
   ],
   "source": [
    "diff = pred_LSTM_2 - test_kospi #5일후 예측값 - t시점 지수종가\n",
    "prediction = diff >= 0 #True면 '상승' = 1 False면 '하락' = 0\n",
    "\n",
    "Y = kospi[['Y']]\n",
    "true = Y.iloc[3962:-5,0].values\n",
    "true = (true=='상승') #True면  1 = '상승' False면 0 = '하락'\n",
    "\n",
    "\n",
    "from sklearn.metrics import accuracy_score, confusion_matrix, f1_score\n",
    "print(\"accuracy: {}  \\nconfusion matrix:\\n {}\\nf1: {}\".format(accuracy_score(true, prediction), confusion_matrix(true, prediction), f1_score(true, prediction)))"
   ]
  },
  {
   "cell_type": "markdown",
   "metadata": {},
   "source": [
    "### (3) batch_size = 200 / iterations = 1500 / hidden layers = 35 / activation = tanh(default)"
   ]
  },
  {
   "cell_type": "code",
   "execution_count": 53,
   "metadata": {},
   "outputs": [
    {
     "name": "stdout",
     "output_type": "stream",
     "text": [
      "3962\n",
      "38\n",
      "1\n",
      "200\n"
     ]
    }
   ],
   "source": [
    "seq_length = train_X.shape[0] ;print(seq_length) ##3802\n",
    "data_dim = train_X.shape[2]; print(data_dim) ##94\n",
    "output_dim = train_y.shape[1]; print(output_dim) ##1\n",
    "batch_size = 200 ; print(batch_size) ##14\n",
    "iterations = 1500"
   ]
  },
  {
   "cell_type": "code",
   "execution_count": 54,
   "metadata": {},
   "outputs": [
    {
     "name": "stdout",
     "output_type": "stream",
     "text": [
      "Tensor(\"rnn/transpose_1:0\", shape=(?, ?, 35), dtype=float32) LSTMStateTuple(c=<tf.Tensor 'rnn/while/Exit_3:0' shape=(?, 35) dtype=float32>, h=<tf.Tensor 'rnn/while/Exit_4:0' shape=(?, 35) dtype=float32>)\n"
     ]
    }
   ],
   "source": [
    "tf.reset_default_graph()\n",
    "\n",
    "X = tf.placeholder(tf.float32,[None,None, data_dim])\n",
    "Y = tf.placeholder(tf.float32,[None,None])\n",
    "#print(X.shape,Y.shape)\n",
    "\n",
    "\n",
    "cell = tf.contrib.rnn.BasicLSTMCell(num_units = 35, state_is_tuple=True)\n",
    "outputs, _states = tf.nn.dynamic_rnn(cell,X,dtype = tf.float32) ; print(outputs,_states)\n",
    "Y_pred = tf.contrib.layers.fully_connected(outputs[:,-1],output_dim,activation_fn = None)\n",
    "\n",
    "loss = tf.reduce_sum(tf.square(Y_pred - Y))\n",
    "\n",
    "optimizer = tf.train.AdamOptimizer(0.01)\n",
    "train = optimizer.minimize(loss)\n",
    "\n",
    "m = tf.keras.metrics.Accuracy()\n",
    "\n",
    "# RMSE\n",
    "targets = tf.placeholder(tf.float32, [None,1])\n",
    "predictions = tf.placeholder(tf.float32, [None,1])\n",
    "rmse = tf.sqrt(tf.reduce_mean(tf.square(targets - predictions)))\n",
    "\n",
    "#model = Sequential()\n",
    "#model.add(LSTM(30, input_shape=(train_X.shape[1], 5)))\n",
    "#model.add(Dense(1))\n",
    "#model.compile(loss='mae', optimizer='adam')"
   ]
  },
  {
   "cell_type": "code",
   "execution_count": 55,
   "metadata": {},
   "outputs": [
    {
     "name": "stdout",
     "output_type": "stream",
     "text": [
      "[step: 0] loss: 755.5611572265625\n",
      "[step: 50] loss: 4.349727630615234\n",
      "[step: 100] loss: 1.9850351810455322\n",
      "[step: 150] loss: 1.6734788417816162\n",
      "[step: 200] loss: 1.4758141040802002\n",
      "[step: 250] loss: 1.3011658191680908\n",
      "[step: 300] loss: 1.1414673328399658\n",
      "[step: 350] loss: 0.9962743520736694\n",
      "[step: 400] loss: 0.866395890712738\n",
      "[step: 450] loss: 0.7526788115501404\n",
      "[step: 500] loss: 0.655476450920105\n",
      "[step: 550] loss: 0.5743290185928345\n",
      "[step: 600] loss: 0.5078093409538269\n",
      "[step: 650] loss: 0.45338186621665955\n",
      "[step: 700] loss: 0.4079197645187378\n",
      "[step: 750] loss: 0.36865201592445374\n",
      "[step: 800] loss: 0.33384475111961365\n",
      "[step: 850] loss: 0.3028011918067932\n",
      "[step: 900] loss: 0.27541089057922363\n",
      "[step: 950] loss: 0.2515074908733368\n",
      "[step: 1000] loss: 0.23024581372737885\n",
      "[step: 1050] loss: 0.21032270789146423\n",
      "[step: 1100] loss: 0.19994346797466278\n",
      "[step: 1150] loss: 0.18094541132450104\n",
      "[step: 1200] loss: 0.16460303962230682\n",
      "[step: 1250] loss: 0.1909344345331192\n",
      "[step: 1300] loss: 0.1465010792016983\n",
      "[step: 1350] loss: 0.13347648084163666\n",
      "[step: 1400] loss: 0.17229928076267242\n",
      "[step: 1450] loss: 0.12412002682685852\n",
      "RMSE: 0.012131551280617714\n"
     ]
    },
    {
     "data": {
      "image/png": "[encoded data removed]",
      "text/plain": [
       "<Figure size 432x288 with 1 Axes>"
      ]
     },
     "metadata": {
      "needs_background": "light"
     },
     "output_type": "display_data"
    }
   ],
   "source": [
    "with tf.Session() as sess:\n",
    "    init = tf.global_variables_initializer()\n",
    "    sess.run(init)\n",
    "\n",
    "    # Training step\n",
    "    for i in range(iterations):\n",
    "        _, step_loss = sess.run([train, loss], feed_dict={X: train_X, Y: train_y})\n",
    "        train_predict = sess.run(Y_pred, feed_dict={X: train_X})\n",
    "        m.update_state(train_y, train_predict)\n",
    "\n",
    "        if i%50==0:\n",
    "            print(\"[step: {}] loss: {}\".format(i, step_loss,))\n",
    "\n",
    "    # Test step\n",
    "    test_predict = sess.run(Y_pred, feed_dict={X: test_X})\n",
    "    rmse_val = sess.run(rmse, feed_dict={targets: test_y, predictions: test_predict})\n",
    "    print(\"RMSE: {}\".format(rmse_val))\n",
    "\n",
    "    # Plot predictions\n",
    "    plt.plot(test_y)\n",
    "    plt.plot(test_predict)\n",
    "    plt.show()"
   ]
  },
  {
   "cell_type": "code",
   "execution_count": 56,
   "metadata": {},
   "outputs": [],
   "source": [
    "test_y.shape ##(482,1)\n",
    "test_y.dtype ##float64\n",
    "test_predict.shape ##(482,1)\n",
    "test_predict.dtype ##float32\n",
    "\n",
    "#### 절대 다시 돌리지 말 것 ####\n",
    "pred_LSTM_3 = test_predict"
   ]
  },
  {
   "cell_type": "code",
   "execution_count": 109,
   "metadata": {},
   "outputs": [
    {
     "name": "stdout",
     "output_type": "stream",
     "text": [
      "accuracy: 0.5871369294605809  \n",
      "confusion matrix:\n",
      " [[157  57]\n",
      " [142 126]]\n",
      "f1: 0.5587583148558758\n"
     ]
    }
   ],
   "source": [
    "diff = pred_LSTM_3 - test_kospi #5일후 예측값 - t시점 지수종가\n",
    "prediction = diff >= 0 #True면 '상승' = 1 False면 '하락' = 0\n",
    "\n",
    "Y = kospi[['Y']]\n",
    "true = Y.iloc[3962:-5,0].values\n",
    "true = (true=='상승') #True면  1 = '상승' False면 0 = '하락'\n",
    "\n",
    "\n",
    "from sklearn.metrics import accuracy_score, confusion_matrix, f1_score\n",
    "print(\"accuracy: {}  \\nconfusion matrix:\\n {}\\nf1: {}\".format(accuracy_score(true, prediction), confusion_matrix(true, prediction), f1_score(true, prediction)))"
   ]
  },
  {
   "cell_type": "markdown",
   "metadata": {},
   "source": [
    "### (4) batch_size = 200 / iterations = 2000 / hidden layers = 40 / activation = tanh(default)"
   ]
  },
  {
   "cell_type": "code",
   "execution_count": 58,
   "metadata": {},
   "outputs": [
    {
     "name": "stdout",
     "output_type": "stream",
     "text": [
      "3962\n",
      "38\n",
      "1\n",
      "200\n"
     ]
    }
   ],
   "source": [
    "seq_length = train_X.shape[0] ;print(seq_length) ##3802\n",
    "data_dim = train_X.shape[2]; print(data_dim) ##94\n",
    "output_dim = train_y.shape[1]; print(output_dim) ##1\n",
    "batch_size = 200 ; print(batch_size) ##14\n",
    "iterations = 2000"
   ]
  },
  {
   "cell_type": "code",
   "execution_count": 59,
   "metadata": {},
   "outputs": [
    {
     "name": "stdout",
     "output_type": "stream",
     "text": [
      "Tensor(\"rnn/transpose_1:0\", shape=(?, ?, 40), dtype=float32) LSTMStateTuple(c=<tf.Tensor 'rnn/while/Exit_3:0' shape=(?, 40) dtype=float32>, h=<tf.Tensor 'rnn/while/Exit_4:0' shape=(?, 40) dtype=float32>)\n"
     ]
    }
   ],
   "source": [
    "tf.reset_default_graph()\n",
    "\n",
    "X = tf.placeholder(tf.float32,[None,None, data_dim])\n",
    "Y = tf.placeholder(tf.float32,[None,None])\n",
    "#print(X.shape,Y.shape)\n",
    "\n",
    "\n",
    "cell = tf.contrib.rnn.BasicLSTMCell(num_units = 40, state_is_tuple=True)\n",
    "outputs, _states = tf.nn.dynamic_rnn(cell,X,dtype = tf.float32) ; print(outputs,_states)\n",
    "Y_pred = tf.contrib.layers.fully_connected(outputs[:,-1],output_dim,activation_fn = None)\n",
    "\n",
    "loss = tf.reduce_sum(tf.square(Y_pred - Y))\n",
    "\n",
    "optimizer = tf.train.AdamOptimizer(0.01)\n",
    "train = optimizer.minimize(loss)\n",
    "\n",
    "m = tf.keras.metrics.Accuracy()\n",
    "\n",
    "# RMSE\n",
    "targets = tf.placeholder(tf.float32, [None,1])\n",
    "predictions = tf.placeholder(tf.float32, [None,1])\n",
    "rmse = tf.sqrt(tf.reduce_mean(tf.square(targets - predictions)))\n",
    "\n",
    "#model = Sequential()\n",
    "#model.add(LSTM(30, input_shape=(train_X.shape[1], 5)))\n",
    "#model.add(Dense(1))\n",
    "#model.compile(loss='mae', optimizer='adam')"
   ]
  },
  {
   "cell_type": "code",
   "execution_count": 60,
   "metadata": {},
   "outputs": [
    {
     "name": "stdout",
     "output_type": "stream",
     "text": [
      "[step: 0] loss: 1440.376708984375\n",
      "[step: 50] loss: 7.801795482635498\n",
      "[step: 100] loss: 2.6697537899017334\n",
      "[step: 150] loss: 1.9405020475387573\n",
      "[step: 200] loss: 1.6467480659484863\n",
      "[step: 250] loss: 1.4615341424942017\n",
      "[step: 300] loss: 1.3117237091064453\n",
      "[step: 350] loss: 1.1789737939834595\n",
      "[step: 400] loss: 1.0572679042816162\n",
      "[step: 450] loss: 0.9448147416114807\n",
      "[step: 500] loss: 0.8414453268051147\n",
      "[step: 550] loss: 0.7474697232246399\n",
      "[step: 600] loss: 0.663199245929718\n",
      "[step: 650] loss: 0.5887241363525391\n",
      "[step: 700] loss: 0.5237996578216553\n",
      "[step: 750] loss: 0.46783483028411865\n",
      "[step: 800] loss: 0.4199369251728058\n",
      "[step: 850] loss: 0.3789353370666504\n",
      "[step: 900] loss: 0.34342828392982483\n",
      "[step: 950] loss: 0.3120034635066986\n",
      "[step: 1000] loss: 0.2835250794887543\n",
      "[step: 1050] loss: 0.25723621249198914\n",
      "[step: 1100] loss: 0.28715598583221436\n",
      "[step: 1150] loss: 0.22431424260139465\n",
      "[step: 1200] loss: 0.20395967364311218\n",
      "[step: 1250] loss: 0.18817530572414398\n",
      "[step: 1300] loss: 0.24631457030773163\n",
      "[step: 1350] loss: 0.16855360567569733\n",
      "[step: 1400] loss: 0.15617284178733826\n",
      "[step: 1450] loss: 0.1458989530801773\n",
      "[step: 1500] loss: 0.156291663646698\n",
      "[step: 1550] loss: 0.13469922542572021\n",
      "[step: 1600] loss: 0.126679927110672\n",
      "[step: 1650] loss: 0.11973319202661514\n",
      "[step: 1700] loss: 0.2517339587211609\n",
      "[step: 1750] loss: 0.11321350187063217\n",
      "[step: 1800] loss: 0.10682754963636398\n",
      "[step: 1850] loss: 0.10172716528177261\n",
      "[step: 1900] loss: 0.3527182936668396\n",
      "[step: 1950] loss: 0.09905547648668289\n",
      "RMSE: 0.038629960268735886\n"
     ]
    },
    {
     "data": {
      "image/png": "[encoded data removed]",
      "text/plain": [
       "<Figure size 432x288 with 1 Axes>"
      ]
     },
     "metadata": {
      "needs_background": "light"
     },
     "output_type": "display_data"
    }
   ],
   "source": [
    "with tf.Session() as sess:\n",
    "    init = tf.global_variables_initializer()\n",
    "    sess.run(init)\n",
    "\n",
    "    # Training step\n",
    "    for i in range(iterations):\n",
    "        _, step_loss = sess.run([train, loss], feed_dict={X: train_X, Y: train_y})\n",
    "        train_predict = sess.run(Y_pred, feed_dict={X: train_X})\n",
    "        m.update_state(train_y, train_predict)\n",
    "\n",
    "        if i%50==0:\n",
    "            print(\"[step: {}] loss: {}\".format(i, step_loss,))\n",
    "\n",
    "    # Test step\n",
    "    test_predict = sess.run(Y_pred, feed_dict={X: test_X})\n",
    "    rmse_val = sess.run(rmse, feed_dict={targets: test_y, predictions: test_predict})\n",
    "    print(\"RMSE: {}\".format(rmse_val))\n",
    "\n",
    "    # Plot predictions\n",
    "    plt.plot(test_y)\n",
    "    plt.plot(test_predict)\n",
    "    plt.show()"
   ]
  },
  {
   "cell_type": "code",
   "execution_count": 62,
   "metadata": {},
   "outputs": [],
   "source": [
    "test_y.shape ##(482,1)\n",
    "test_y.dtype ##float64\n",
    "test_predict.shape ##(482,1)\n",
    "test_predict.dtype ##float32\n",
    "\n",
    "#### 절대 다시 돌리지 말 것 ####\n",
    "pred_LSTM_4 = test_predict"
   ]
  },
  {
   "cell_type": "code",
   "execution_count": 110,
   "metadata": {},
   "outputs": [
    {
     "name": "stdout",
     "output_type": "stream",
     "text": [
      "accuracy: 0.47925311203319504  \n",
      "confusion matrix:\n",
      " [[203  11]\n",
      " [240  28]]\n",
      "f1: 0.18241042345276876\n"
     ]
    }
   ],
   "source": [
    "diff = pred_LSTM_4 - test_kospi #5일후 예측값 - t시점 지수종가\n",
    "prediction = diff >= 0 #True면 '상승' = 1 False면 '하락' = 0\n",
    "\n",
    "Y = kospi[['Y']]\n",
    "true = Y.iloc[3962:-5,0].values\n",
    "true = (true=='상승') #True면  1 = '상승' False면 0 = '하락'\n",
    "\n",
    "\n",
    "from sklearn.metrics import accuracy_score, confusion_matrix, f1_score\n",
    "print(\"accuracy: {}  \\nconfusion matrix:\\n {}\\nf1: {}\".format(accuracy_score(true, prediction), confusion_matrix(true, prediction), f1_score(true, prediction)))"
   ]
  },
  {
   "cell_type": "markdown",
   "metadata": {},
   "source": [
    "### (5) batch_size = 200 / iterations = 1500 / hidden layers = 40 / activation = tanh(default)"
   ]
  },
  {
   "cell_type": "code",
   "execution_count": 64,
   "metadata": {},
   "outputs": [
    {
     "name": "stdout",
     "output_type": "stream",
     "text": [
      "3962\n",
      "38\n",
      "1\n",
      "200\n"
     ]
    }
   ],
   "source": [
    "seq_length = train_X.shape[0] ;print(seq_length) ##3802\n",
    "data_dim = train_X.shape[2]; print(data_dim) ##94\n",
    "output_dim = train_y.shape[1]; print(output_dim) ##1\n",
    "batch_size = 200 ; print(batch_size) ##14\n",
    "iterations = 1500"
   ]
  },
  {
   "cell_type": "code",
   "execution_count": 65,
   "metadata": {},
   "outputs": [
    {
     "name": "stdout",
     "output_type": "stream",
     "text": [
      "Tensor(\"rnn/transpose_1:0\", shape=(?, ?, 40), dtype=float32) LSTMStateTuple(c=<tf.Tensor 'rnn/while/Exit_3:0' shape=(?, 40) dtype=float32>, h=<tf.Tensor 'rnn/while/Exit_4:0' shape=(?, 40) dtype=float32>)\n"
     ]
    }
   ],
   "source": [
    "tf.reset_default_graph()\n",
    "\n",
    "X = tf.placeholder(tf.float32,[None,None, data_dim])\n",
    "Y = tf.placeholder(tf.float32,[None,None])\n",
    "#print(X.shape,Y.shape)\n",
    "\n",
    "\n",
    "cell = tf.contrib.rnn.BasicLSTMCell(num_units = 40, state_is_tuple=True)\n",
    "outputs, _states = tf.nn.dynamic_rnn(cell,X,dtype = tf.float32) ; print(outputs,_states)\n",
    "Y_pred = tf.contrib.layers.fully_connected(outputs[:,-1],output_dim,activation_fn = None)\n",
    "\n",
    "loss = tf.reduce_sum(tf.square(Y_pred - Y))\n",
    "\n",
    "optimizer = tf.train.AdamOptimizer(0.01)\n",
    "train = optimizer.minimize(loss)\n",
    "\n",
    "m = tf.keras.metrics.Accuracy()\n",
    "\n",
    "# RMSE\n",
    "targets = tf.placeholder(tf.float32, [None,1])\n",
    "predictions = tf.placeholder(tf.float32, [None,1])\n",
    "rmse = tf.sqrt(tf.reduce_mean(tf.square(targets - predictions)))\n",
    "\n",
    "#model = Sequential()\n",
    "#model.add(LSTM(30, input_shape=(train_X.shape[1], 5)))\n",
    "#model.add(Dense(1))\n",
    "#model.compile(loss='mae', optimizer='adam')"
   ]
  },
  {
   "cell_type": "code",
   "execution_count": 66,
   "metadata": {},
   "outputs": [
    {
     "name": "stdout",
     "output_type": "stream",
     "text": [
      "[step: 0] loss: 783.4949340820312\n",
      "[step: 50] loss: 3.923402786254883\n",
      "[step: 100] loss: 1.8928979635238647\n",
      "[step: 150] loss: 1.5124669075012207\n",
      "[step: 200] loss: 1.291242241859436\n",
      "[step: 250] loss: 1.112927794456482\n",
      "[step: 300] loss: 0.9594433903694153\n",
      "[step: 350] loss: 0.825990617275238\n",
      "[step: 400] loss: 0.7111702561378479\n",
      "[step: 450] loss: 0.6141239404678345\n",
      "[step: 500] loss: 0.5337358117103577\n",
      "[step: 550] loss: 0.46845710277557373\n",
      "[step: 600] loss: 0.4163110852241516\n",
      "[step: 650] loss: 0.3749951124191284\n",
      "[step: 700] loss: 0.342098206281662\n",
      "[step: 750] loss: 0.3153957724571228\n",
      "[step: 800] loss: 0.29308396577835083\n",
      "[step: 850] loss: 0.2738552987575531\n",
      "[step: 900] loss: 0.256833553314209\n",
      "[step: 950] loss: 0.2414526790380478\n",
      "[step: 1000] loss: 0.22734084725379944\n",
      "[step: 1050] loss: 0.2142373025417328\n",
      "[step: 1100] loss: 0.2019452154636383\n",
      "[step: 1150] loss: 0.19030866026878357\n",
      "[step: 1200] loss: 0.1792066991329193\n",
      "[step: 1250] loss: 0.16855081915855408\n",
      "[step: 1300] loss: 0.15828536450862885\n",
      "[step: 1350] loss: 0.14838600158691406\n",
      "[step: 1400] loss: 0.13885627686977386\n",
      "[step: 1450] loss: 0.18970397114753723\n",
      "RMSE: 0.014214670285582542\n"
     ]
    },
    {
     "data": {
      "image/png": "[encoded data removed]",
      "text/plain": [
       "<Figure size 432x288 with 1 Axes>"
      ]
     },
     "metadata": {
      "needs_background": "light"
     },
     "output_type": "display_data"
    }
   ],
   "source": [
    "with tf.Session() as sess:\n",
    "    init = tf.global_variables_initializer()\n",
    "    sess.run(init)\n",
    "\n",
    "    # Training step\n",
    "    for i in range(iterations):\n",
    "        _, step_loss = sess.run([train, loss], feed_dict={X: train_X, Y: train_y})\n",
    "        train_predict = sess.run(Y_pred, feed_dict={X: train_X})\n",
    "        m.update_state(train_y, train_predict)\n",
    "\n",
    "        if i%50==0:\n",
    "            print(\"[step: {}] loss: {}\".format(i, step_loss,))\n",
    "\n",
    "    # Test step\n",
    "    test_predict = sess.run(Y_pred, feed_dict={X: test_X})\n",
    "    rmse_val = sess.run(rmse, feed_dict={targets: test_y, predictions: test_predict})\n",
    "    print(\"RMSE: {}\".format(rmse_val))\n",
    "\n",
    "    # Plot predictions\n",
    "    plt.plot(test_y)\n",
    "    plt.plot(test_predict)\n",
    "    plt.show()"
   ]
  },
  {
   "cell_type": "code",
   "execution_count": 67,
   "metadata": {},
   "outputs": [],
   "source": [
    "test_y.shape ##(482,1)\n",
    "test_y.dtype ##float64\n",
    "test_predict.shape ##(482,1)\n",
    "test_predict.dtype ##float32\n",
    "\n",
    "#### 절대 다시 돌리지 말 것 ####\n",
    "pred_LSTM_5 = test_predict"
   ]
  },
  {
   "cell_type": "code",
   "execution_count": 111,
   "metadata": {},
   "outputs": [
    {
     "name": "stdout",
     "output_type": "stream",
     "text": [
      "accuracy: 0.5477178423236515  \n",
      "confusion matrix:\n",
      " [[165  49]\n",
      " [169  99]]\n",
      "f1: 0.4759615384615385\n"
     ]
    }
   ],
   "source": [
    "diff = pred_LSTM_5 - test_kospi #5일후 예측값 - t시점 지수종가\n",
    "prediction = diff >= 0 #True면 '상승' = 1 False면 '하락' = 0\n",
    "\n",
    "Y = kospi[['Y']]\n",
    "true = Y.iloc[3962:-5,0].values\n",
    "true = (true=='상승') #True면  1 = '상승' False면 0 = '하락'\n",
    "\n",
    "\n",
    "from sklearn.metrics import accuracy_score, confusion_matrix, f1_score\n",
    "print(\"accuracy: {}  \\nconfusion matrix:\\n {}\\nf1: {}\".format(accuracy_score(true, prediction), confusion_matrix(true, prediction), f1_score(true, prediction)))"
   ]
  },
  {
   "cell_type": "markdown",
   "metadata": {},
   "source": [
    "### (6) batch_size = 200 / iterations = 1500 / hidden layers = 30 / activation = tanh(default)"
   ]
  },
  {
   "cell_type": "code",
   "execution_count": 69,
   "metadata": {},
   "outputs": [
    {
     "name": "stdout",
     "output_type": "stream",
     "text": [
      "3962\n",
      "38\n",
      "1\n",
      "200\n"
     ]
    }
   ],
   "source": [
    "seq_length = train_X.shape[0] ;print(seq_length) ##3802\n",
    "data_dim = train_X.shape[2]; print(data_dim) ##94\n",
    "output_dim = train_y.shape[1]; print(output_dim) ##1\n",
    "batch_size = 200 ; print(batch_size) ##14\n",
    "iterations = 1500"
   ]
  },
  {
   "cell_type": "code",
   "execution_count": 70,
   "metadata": {},
   "outputs": [
    {
     "name": "stdout",
     "output_type": "stream",
     "text": [
      "Tensor(\"rnn/transpose_1:0\", shape=(?, ?, 30), dtype=float32) LSTMStateTuple(c=<tf.Tensor 'rnn/while/Exit_3:0' shape=(?, 30) dtype=float32>, h=<tf.Tensor 'rnn/while/Exit_4:0' shape=(?, 30) dtype=float32>)\n"
     ]
    }
   ],
   "source": [
    "tf.reset_default_graph()\n",
    "\n",
    "X = tf.placeholder(tf.float32,[None,None, data_dim])\n",
    "Y = tf.placeholder(tf.float32,[None,None])\n",
    "#print(X.shape,Y.shape)\n",
    "\n",
    "\n",
    "cell = tf.contrib.rnn.BasicLSTMCell(num_units = 30, state_is_tuple=True)\n",
    "outputs, _states = tf.nn.dynamic_rnn(cell,X,dtype = tf.float32) ; print(outputs,_states)\n",
    "Y_pred = tf.contrib.layers.fully_connected(outputs[:,-1],output_dim,activation_fn = None)\n",
    "\n",
    "loss = tf.reduce_sum(tf.square(Y_pred - Y))\n",
    "\n",
    "optimizer = tf.train.AdamOptimizer(0.01)\n",
    "train = optimizer.minimize(loss)\n",
    "\n",
    "m = tf.keras.metrics.Accuracy()\n",
    "\n",
    "# RMSE\n",
    "targets = tf.placeholder(tf.float32, [None,1])\n",
    "predictions = tf.placeholder(tf.float32, [None,1])\n",
    "rmse = tf.sqrt(tf.reduce_mean(tf.square(targets - predictions)))\n",
    "\n",
    "#model = Sequential()\n",
    "#model.add(LSTM(30, input_shape=(train_X.shape[1], 5)))\n",
    "#model.add(Dense(1))\n",
    "#model.compile(loss='mae', optimizer='adam')"
   ]
  },
  {
   "cell_type": "code",
   "execution_count": 71,
   "metadata": {},
   "outputs": [
    {
     "name": "stdout",
     "output_type": "stream",
     "text": [
      "[step: 0] loss: 759.80126953125\n",
      "[step: 50] loss: 4.404906272888184\n",
      "[step: 100] loss: 1.821898102760315\n",
      "[step: 150] loss: 1.484595775604248\n",
      "[step: 200] loss: 1.3051695823669434\n",
      "[step: 250] loss: 1.1545382738113403\n",
      "[step: 300] loss: 1.0198215246200562\n",
      "[step: 350] loss: 0.8987926840782166\n",
      "[step: 400] loss: 0.7912881970405579\n",
      "[step: 450] loss: 0.6975024342536926\n",
      "[step: 500] loss: 0.6173120141029358\n",
      "[step: 550] loss: 0.5500668883323669\n",
      "[step: 600] loss: 0.49458399415016174\n",
      "[step: 650] loss: 0.44925662875175476\n",
      "[step: 700] loss: 0.41224557161331177\n",
      "[step: 750] loss: 0.3817107379436493\n",
      "[step: 800] loss: 0.3560125231742859\n",
      "[step: 850] loss: 0.3338300287723541\n",
      "[step: 900] loss: 0.3141854405403137\n",
      "[step: 950] loss: 0.296399861574173\n",
      "[step: 1000] loss: 0.28002026677131653\n",
      "[step: 1050] loss: 0.2647498548030853\n",
      "[step: 1100] loss: 0.2503921091556549\n",
      "[step: 1150] loss: 0.23681455850601196\n",
      "[step: 1200] loss: 0.22392424941062927\n",
      "[step: 1250] loss: 0.21165448427200317\n",
      "[step: 1300] loss: 0.19995591044425964\n",
      "[step: 1350] loss: 0.18879249691963196\n",
      "[step: 1400] loss: 0.17813755571842194\n",
      "[step: 1450] loss: 0.16797281801700592\n",
      "RMSE: 0.008382700383663177\n"
     ]
    },
    {
     "data": {
      "image/png": "[encoded data removed]",
      "text/plain": [
       "<Figure size 432x288 with 1 Axes>"
      ]
     },
     "metadata": {
      "needs_background": "light"
     },
     "output_type": "display_data"
    }
   ],
   "source": [
    "with tf.Session() as sess:\n",
    "    init = tf.global_variables_initializer()\n",
    "    sess.run(init)\n",
    "\n",
    "    # Training step\n",
    "    for i in range(iterations):\n",
    "        _, step_loss = sess.run([train, loss], feed_dict={X: train_X, Y: train_y})\n",
    "        train_predict = sess.run(Y_pred, feed_dict={X: train_X})\n",
    "        m.update_state(train_y, train_predict)\n",
    "\n",
    "        if i%50==0:\n",
    "            print(\"[step: {}] loss: {}\".format(i, step_loss,))\n",
    "\n",
    "    # Test step\n",
    "    test_predict = sess.run(Y_pred, feed_dict={X: test_X})\n",
    "    rmse_val = sess.run(rmse, feed_dict={targets: test_y, predictions: test_predict})\n",
    "    print(\"RMSE: {}\".format(rmse_val))\n",
    "\n",
    "    # Plot predictions\n",
    "    plt.plot(test_y)\n",
    "    plt.plot(test_predict)\n",
    "    plt.show()"
   ]
  },
  {
   "cell_type": "code",
   "execution_count": 72,
   "metadata": {},
   "outputs": [],
   "source": [
    "test_y.shape ##(482,1)\n",
    "test_y.dtype ##float64\n",
    "test_predict.shape ##(482,1)\n",
    "test_predict.dtype ##float32\n",
    "\n",
    "#### 절대 다시 돌리지 말 것 ####\n",
    "pred_LSTM_6 = test_predict"
   ]
  },
  {
   "cell_type": "code",
   "execution_count": 112,
   "metadata": {},
   "outputs": [
    {
     "name": "stdout",
     "output_type": "stream",
     "text": [
      "accuracy: 0.6452282157676349  \n",
      "confusion matrix:\n",
      " [[146  68]\n",
      " [103 165]]\n",
      "f1: 0.6586826347305389\n"
     ]
    }
   ],
   "source": [
    "diff = pred_LSTM_6 - test_kospi #5일후 예측값 - t시점 지수종가\n",
    "prediction = diff >= 0 #True면 '상승' = 1 False면 '하락' = 0\n",
    "\n",
    "Y = kospi[['Y']]\n",
    "true = Y.iloc[3962:-5,0].values\n",
    "true = (true=='상승') #True면  1 = '상승' False면 0 = '하락'\n",
    "\n",
    "\n",
    "from sklearn.metrics import accuracy_score, confusion_matrix, f1_score\n",
    "print(\"accuracy: {}  \\nconfusion matrix:\\n {}\\nf1: {}\".format(accuracy_score(true, prediction), confusion_matrix(true, prediction), f1_score(true, prediction)))"
   ]
  },
  {
   "cell_type": "markdown",
   "metadata": {},
   "source": [
    "### (7) batch_size = 200 / iterations = 1500 / hidden layers = 20 / activation = tanh(default)"
   ]
  },
  {
   "cell_type": "code",
   "execution_count": 74,
   "metadata": {},
   "outputs": [
    {
     "name": "stdout",
     "output_type": "stream",
     "text": [
      "3962\n",
      "38\n",
      "1\n",
      "200\n"
     ]
    }
   ],
   "source": [
    "seq_length = train_X.shape[0] ;print(seq_length) ##3802\n",
    "data_dim = train_X.shape[2]; print(data_dim) ##94\n",
    "output_dim = train_y.shape[1]; print(output_dim) ##1\n",
    "batch_size = 200 ; print(batch_size) ##14\n",
    "iterations = 1500"
   ]
  },
  {
   "cell_type": "code",
   "execution_count": 75,
   "metadata": {},
   "outputs": [
    {
     "name": "stdout",
     "output_type": "stream",
     "text": [
      "Tensor(\"rnn/transpose_1:0\", shape=(?, ?, 20), dtype=float32) LSTMStateTuple(c=<tf.Tensor 'rnn/while/Exit_3:0' shape=(?, 20) dtype=float32>, h=<tf.Tensor 'rnn/while/Exit_4:0' shape=(?, 20) dtype=float32>)\n"
     ]
    }
   ],
   "source": [
    "tf.reset_default_graph()\n",
    "\n",
    "X = tf.placeholder(tf.float32,[None,None, data_dim])\n",
    "Y = tf.placeholder(tf.float32,[None,None])\n",
    "#print(X.shape,Y.shape)\n",
    "\n",
    "\n",
    "cell = tf.contrib.rnn.BasicLSTMCell(num_units = 20, state_is_tuple=True)\n",
    "outputs, _states = tf.nn.dynamic_rnn(cell,X,dtype = tf.float32) ; print(outputs,_states)\n",
    "Y_pred = tf.contrib.layers.fully_connected(outputs[:,-1],output_dim,activation_fn = None)\n",
    "\n",
    "loss = tf.reduce_sum(tf.square(Y_pred - Y))\n",
    "\n",
    "optimizer = tf.train.AdamOptimizer(0.01)\n",
    "train = optimizer.minimize(loss)\n",
    "\n",
    "m = tf.keras.metrics.Accuracy()\n",
    "\n",
    "# RMSE\n",
    "targets = tf.placeholder(tf.float32, [None,1])\n",
    "predictions = tf.placeholder(tf.float32, [None,1])\n",
    "rmse = tf.sqrt(tf.reduce_mean(tf.square(targets - predictions)))\n",
    "\n",
    "#model = Sequential()\n",
    "#model.add(LSTM(30, input_shape=(train_X.shape[1], 5)))\n",
    "#model.add(Dense(1))\n",
    "#model.compile(loss='mae', optimizer='adam')"
   ]
  },
  {
   "cell_type": "code",
   "execution_count": 76,
   "metadata": {},
   "outputs": [
    {
     "name": "stdout",
     "output_type": "stream",
     "text": [
      "[step: 0] loss: 1172.122802734375\n",
      "[step: 50] loss: 6.154399871826172\n",
      "[step: 100] loss: 2.3604750633239746\n",
      "[step: 150] loss: 1.7582319974899292\n",
      "[step: 200] loss: 1.5118749141693115\n",
      "[step: 250] loss: 1.3506321907043457\n",
      "[step: 300] loss: 1.2116910219192505\n",
      "[step: 350] loss: 1.0847455263137817\n",
      "[step: 400] loss: 0.9684145450592041\n",
      "[step: 450] loss: 0.8624370694160461\n",
      "[step: 500] loss: 0.7667155265808105\n",
      "[step: 550] loss: 0.6811647415161133\n",
      "[step: 600] loss: 0.6056491136550903\n",
      "[step: 650] loss: 0.5399206876754761\n",
      "[step: 700] loss: 0.4835646152496338\n",
      "[step: 750] loss: 0.435953825712204\n",
      "[step: 800] loss: 0.39624089002609253\n",
      "[step: 850] loss: 0.3634006083011627\n",
      "[step: 900] loss: 0.3363131880760193\n",
      "[step: 950] loss: 0.3138653635978699\n",
      "[step: 1000] loss: 0.29503926634788513\n",
      "[step: 1050] loss: 0.2789683938026428\n",
      "[step: 1100] loss: 0.26495906710624695\n",
      "[step: 1150] loss: 0.2524818181991577\n",
      "[step: 1200] loss: 0.2411462962627411\n",
      "[step: 1250] loss: 0.23067045211791992\n",
      "[step: 1300] loss: 0.22085127234458923\n",
      "[step: 1350] loss: 0.21154281497001648\n",
      "[step: 1400] loss: 0.20263797044754028\n",
      "[step: 1450] loss: 0.1940576434135437\n",
      "RMSE: 0.01955811306834221\n"
     ]
    },
    {
     "data": {
      "image/png": "[encoded data removed]",
      "text/plain": [
       "<Figure size 432x288 with 1 Axes>"
      ]
     },
     "metadata": {
      "needs_background": "light"
     },
     "output_type": "display_data"
    }
   ],
   "source": [
    "with tf.Session() as sess:\n",
    "    init = tf.global_variables_initializer()\n",
    "    sess.run(init)\n",
    "\n",
    "    # Training step\n",
    "    for i in range(iterations):\n",
    "        _, step_loss = sess.run([train, loss], feed_dict={X: train_X, Y: train_y})\n",
    "        train_predict = sess.run(Y_pred, feed_dict={X: train_X})\n",
    "        m.update_state(train_y, train_predict)\n",
    "\n",
    "        if i%50==0:\n",
    "            print(\"[step: {}] loss: {}\".format(i, step_loss,))\n",
    "\n",
    "    # Test step\n",
    "    test_predict = sess.run(Y_pred, feed_dict={X: test_X})\n",
    "    rmse_val = sess.run(rmse, feed_dict={targets: test_y, predictions: test_predict})\n",
    "    print(\"RMSE: {}\".format(rmse_val))\n",
    "\n",
    "    # Plot predictions\n",
    "    plt.plot(test_y)\n",
    "    plt.plot(test_predict)\n",
    "    plt.show()"
   ]
  },
  {
   "cell_type": "code",
   "execution_count": 77,
   "metadata": {},
   "outputs": [],
   "source": [
    "test_y.shape ##(482,1)\n",
    "test_y.dtype ##float64\n",
    "test_predict.shape ##(482,1)\n",
    "test_predict.dtype ##float32\n",
    "\n",
    "#### 절대 다시 돌리지 말 것 ####\n",
    "pred_LSTM_7 = test_predict"
   ]
  },
  {
   "cell_type": "code",
   "execution_count": 113,
   "metadata": {},
   "outputs": [
    {
     "name": "stdout",
     "output_type": "stream",
     "text": [
      "accuracy: 0.549792531120332  \n",
      "confusion matrix:\n",
      " [[108 106]\n",
      " [111 157]]\n",
      "f1: 0.591337099811676\n"
     ]
    }
   ],
   "source": [
    "diff = pred_LSTM_7 - test_kospi #5일후 예측값 - t시점 지수종가\n",
    "prediction = diff >= 0 #True면 '상승' = 1 False면 '하락' = 0\n",
    "\n",
    "Y = kospi[['Y']]\n",
    "true = Y.iloc[3962:-5,0].values\n",
    "true = (true=='상승') #True면  1 = '상승' False면 0 = '하락'\n",
    "\n",
    "\n",
    "from sklearn.metrics import accuracy_score, confusion_matrix, f1_score\n",
    "print(\"accuracy: {}  \\nconfusion matrix:\\n {}\\nf1: {}\".format(accuracy_score(true, prediction), confusion_matrix(true, prediction), f1_score(true, prediction)))"
   ]
  },
  {
   "cell_type": "markdown",
   "metadata": {},
   "source": [
    "### (8) batch_size = 200 / iterations = 1500 / hidden layers = 25 / activation = tanh(default)"
   ]
  },
  {
   "cell_type": "code",
   "execution_count": 79,
   "metadata": {},
   "outputs": [
    {
     "name": "stdout",
     "output_type": "stream",
     "text": [
      "3962\n",
      "38\n",
      "1\n",
      "200\n"
     ]
    }
   ],
   "source": [
    "seq_length = train_X.shape[0] ;print(seq_length) ##3802\n",
    "data_dim = train_X.shape[2]; print(data_dim) ##94\n",
    "output_dim = train_y.shape[1]; print(output_dim) ##1\n",
    "batch_size = 200 ; print(batch_size) ##14\n",
    "iterations = 1500"
   ]
  },
  {
   "cell_type": "code",
   "execution_count": 80,
   "metadata": {},
   "outputs": [
    {
     "name": "stdout",
     "output_type": "stream",
     "text": [
      "Tensor(\"rnn/transpose_1:0\", shape=(?, ?, 25), dtype=float32) LSTMStateTuple(c=<tf.Tensor 'rnn/while/Exit_3:0' shape=(?, 25) dtype=float32>, h=<tf.Tensor 'rnn/while/Exit_4:0' shape=(?, 25) dtype=float32>)\n"
     ]
    }
   ],
   "source": [
    "tf.reset_default_graph()\n",
    "\n",
    "X = tf.placeholder(tf.float32,[None,None, data_dim])\n",
    "Y = tf.placeholder(tf.float32,[None,None])\n",
    "#print(X.shape,Y.shape)\n",
    "\n",
    "\n",
    "cell = tf.contrib.rnn.BasicLSTMCell(num_units = 25, state_is_tuple=True)\n",
    "outputs, _states = tf.nn.dynamic_rnn(cell,X,dtype = tf.float32) ; print(outputs,_states)\n",
    "Y_pred = tf.contrib.layers.fully_connected(outputs[:,-1],output_dim,activation_fn = None)\n",
    "\n",
    "loss = tf.reduce_sum(tf.square(Y_pred - Y))\n",
    "\n",
    "optimizer = tf.train.AdamOptimizer(0.01)\n",
    "train = optimizer.minimize(loss)\n",
    "\n",
    "m = tf.keras.metrics.Accuracy()\n",
    "\n",
    "# RMSE\n",
    "targets = tf.placeholder(tf.float32, [None,1])\n",
    "predictions = tf.placeholder(tf.float32, [None,1])\n",
    "rmse = tf.sqrt(tf.reduce_mean(tf.square(targets - predictions)))\n",
    "\n",
    "#model = Sequential()\n",
    "#model.add(LSTM(30, input_shape=(train_X.shape[1], 5)))\n",
    "#model.add(Dense(1))\n",
    "#model.compile(loss='mae', optimizer='adam')"
   ]
  },
  {
   "cell_type": "code",
   "execution_count": 81,
   "metadata": {},
   "outputs": [
    {
     "name": "stdout",
     "output_type": "stream",
     "text": [
      "[step: 0] loss: 1620.83642578125\n",
      "[step: 50] loss: 6.669027805328369\n",
      "[step: 100] loss: 2.743635654449463\n",
      "[step: 150] loss: 1.8786728382110596\n",
      "[step: 200] loss: 1.5700628757476807\n",
      "[step: 250] loss: 1.3986234664916992\n",
      "[step: 300] loss: 1.2625770568847656\n",
      "[step: 350] loss: 1.1423618793487549\n",
      "[step: 400] loss: 1.033303141593933\n",
      "[step: 450] loss: 0.9337462186813354\n",
      "[step: 500] loss: 0.8430811166763306\n",
      "[step: 550] loss: 0.7610998749732971\n",
      "[step: 600] loss: 0.6876798868179321\n",
      "[step: 650] loss: 0.6226277947425842\n",
      "[step: 700] loss: 0.5656102299690247\n",
      "[step: 750] loss: 0.5161310434341431\n",
      "[step: 800] loss: 0.47354111075401306\n",
      "[step: 850] loss: 0.4370698928833008\n",
      "[step: 900] loss: 0.40587741136550903\n",
      "[step: 950] loss: 0.3791141211986542\n",
      "[step: 1000] loss: 0.3559799790382385\n",
      "[step: 1050] loss: 0.33576828241348267\n",
      "[step: 1100] loss: 0.31789010763168335\n",
      "[step: 1150] loss: 0.30187806487083435\n",
      "[step: 1200] loss: 0.28737443685531616\n",
      "[step: 1250] loss: 0.2741101384162903\n",
      "[step: 1300] loss: 0.26188379526138306\n",
      "[step: 1350] loss: 0.2505410313606262\n",
      "[step: 1400] loss: 0.23996075987815857\n",
      "[step: 1450] loss: 0.23004378378391266\n",
      "RMSE: 0.014877337962388992\n"
     ]
    },
    {
     "data": {
      "image/png": "[encoded data removed]",
      "text/plain": [
       "<Figure size 432x288 with 1 Axes>"
      ]
     },
     "metadata": {
      "needs_background": "light"
     },
     "output_type": "display_data"
    }
   ],
   "source": [
    "with tf.Session() as sess:\n",
    "    init = tf.global_variables_initializer()\n",
    "    sess.run(init)\n",
    "\n",
    "    # Training step\n",
    "    for i in range(iterations):\n",
    "        _, step_loss = sess.run([train, loss], feed_dict={X: train_X, Y: train_y})\n",
    "        train_predict = sess.run(Y_pred, feed_dict={X: train_X})\n",
    "        m.update_state(train_y, train_predict)\n",
    "\n",
    "        if i%50==0:\n",
    "            print(\"[step: {}] loss: {}\".format(i, step_loss,))\n",
    "\n",
    "    # Test step\n",
    "    test_predict = sess.run(Y_pred, feed_dict={X: test_X})\n",
    "    rmse_val = sess.run(rmse, feed_dict={targets: test_y, predictions: test_predict})\n",
    "    print(\"RMSE: {}\".format(rmse_val))\n",
    "\n",
    "    # Plot predictions\n",
    "    plt.plot(test_y)\n",
    "    plt.plot(test_predict)\n",
    "    plt.show()"
   ]
  },
  {
   "cell_type": "code",
   "execution_count": 82,
   "metadata": {},
   "outputs": [],
   "source": [
    "test_y.shape ##(482,1)\n",
    "test_y.dtype ##float64\n",
    "test_predict.shape ##(482,1)\n",
    "test_predict.dtype ##float32\n",
    "\n",
    "#### 절대 다시 돌리지 말 것 ####\n",
    "pred_LSTM_8 = test_predict"
   ]
  },
  {
   "cell_type": "code",
   "execution_count": 114,
   "metadata": {},
   "outputs": [
    {
     "name": "stdout",
     "output_type": "stream",
     "text": [
      "accuracy: 0.553941908713693  \n",
      "confusion matrix:\n",
      " [[115  99]\n",
      " [116 152]]\n",
      "f1: 0.5857418111753372\n"
     ]
    }
   ],
   "source": [
    "diff = pred_LSTM_8 - test_kospi #5일후 예측값 - t시점 지수종가\n",
    "prediction = diff >= 0 #True면 '상승' = 1 False면 '하락' = 0\n",
    "\n",
    "Y = kospi[['Y']]\n",
    "true = Y.iloc[3962:-5,0].values\n",
    "true = (true=='상승') #True면  1 = '상승' False면 0 = '하락'\n",
    "\n",
    "\n",
    "from sklearn.metrics import accuracy_score, confusion_matrix, f1_score\n",
    "print(\"accuracy: {}  \\nconfusion matrix:\\n {}\\nf1: {}\".format(accuracy_score(true, prediction), confusion_matrix(true, prediction), f1_score(true, prediction)))"
   ]
  },
  {
   "cell_type": "markdown",
   "metadata": {},
   "source": [
    "### (9) batch_size = 200 / iterations = 2000 / hidden layers = 30 / activation = tanh(default)"
   ]
  },
  {
   "cell_type": "code",
   "execution_count": 92,
   "metadata": {},
   "outputs": [
    {
     "name": "stdout",
     "output_type": "stream",
     "text": [
      "3962\n",
      "38\n",
      "1\n",
      "200\n"
     ]
    }
   ],
   "source": [
    "seq_length = train_X.shape[0] ;print(seq_length) ##3802\n",
    "data_dim = train_X.shape[2]; print(data_dim) ##94\n",
    "output_dim = train_y.shape[1]; print(output_dim) ##1\n",
    "batch_size = 200 ; print(batch_size) ##14\n",
    "iterations = 2000"
   ]
  },
  {
   "cell_type": "code",
   "execution_count": 93,
   "metadata": {},
   "outputs": [
    {
     "name": "stdout",
     "output_type": "stream",
     "text": [
      "Tensor(\"rnn/transpose_1:0\", shape=(?, ?, 30), dtype=float32) LSTMStateTuple(c=<tf.Tensor 'rnn/while/Exit_3:0' shape=(?, 30) dtype=float32>, h=<tf.Tensor 'rnn/while/Exit_4:0' shape=(?, 30) dtype=float32>)\n"
     ]
    }
   ],
   "source": [
    "tf.reset_default_graph()\n",
    "\n",
    "X = tf.placeholder(tf.float32,[None,None, data_dim])\n",
    "Y = tf.placeholder(tf.float32,[None,None])\n",
    "#print(X.shape,Y.shape)\n",
    "\n",
    "\n",
    "cell = tf.contrib.rnn.BasicLSTMCell(num_units = 30, state_is_tuple=True)\n",
    "outputs, _states = tf.nn.dynamic_rnn(cell,X,dtype = tf.float32) ; print(outputs,_states)\n",
    "Y_pred = tf.contrib.layers.fully_connected(outputs[:,-1],output_dim,activation_fn = None)\n",
    "\n",
    "loss = tf.reduce_sum(tf.square(Y_pred - Y))\n",
    "\n",
    "optimizer = tf.train.AdamOptimizer(0.01)\n",
    "train = optimizer.minimize(loss)\n",
    "\n",
    "m = tf.keras.metrics.Accuracy()\n",
    "\n",
    "# RMSE\n",
    "targets = tf.placeholder(tf.float32, [None,1])\n",
    "predictions = tf.placeholder(tf.float32, [None,1])\n",
    "rmse = tf.sqrt(tf.reduce_mean(tf.square(targets - predictions)))\n",
    "\n",
    "#model = Sequential()\n",
    "#model.add(LSTM(30, input_shape=(train_X.shape[1], 5)))\n",
    "#model.add(Dense(1))\n",
    "#model.compile(loss='mae', optimizer='adam')"
   ]
  },
  {
   "cell_type": "code",
   "execution_count": 94,
   "metadata": {},
   "outputs": [
    {
     "name": "stdout",
     "output_type": "stream",
     "text": [
      "[step: 0] loss: 1036.802001953125\n",
      "[step: 50] loss: 5.264055252075195\n",
      "[step: 100] loss: 2.0949370861053467\n",
      "[step: 150] loss: 1.6307003498077393\n",
      "[step: 200] loss: 1.422591209411621\n",
      "[step: 250] loss: 1.2699252367019653\n",
      "[step: 300] loss: 1.1375415325164795\n",
      "[step: 350] loss: 1.0176377296447754\n",
      "[step: 400] loss: 0.9079801440238953\n",
      "[step: 450] loss: 0.8085548281669617\n",
      "[step: 500] loss: 0.720032811164856\n",
      "[step: 550] loss: 0.642867922782898\n",
      "[step: 600] loss: 0.5770179629325867\n",
      "[step: 650] loss: 0.5217477083206177\n",
      "[step: 700] loss: 0.4757114350795746\n",
      "[step: 750] loss: 0.4371878504753113\n",
      "[step: 800] loss: 0.4042854607105255\n",
      "[step: 850] loss: 0.37531641125679016\n",
      "[step: 900] loss: 0.3490692377090454\n",
      "[step: 950] loss: 0.32478755712509155\n",
      "[step: 1000] loss: 0.30200064182281494\n",
      "[step: 1050] loss: 0.280348539352417\n",
      "[step: 1100] loss: 0.2594684362411499\n",
      "[step: 1150] loss: 0.23900848627090454\n",
      "[step: 1200] loss: 0.21869736909866333\n",
      "[step: 1250] loss: 0.20525167882442474\n",
      "[step: 1300] loss: 0.18825946748256683\n",
      "[step: 1350] loss: 0.17229445278644562\n",
      "[step: 1400] loss: 0.20828494429588318\n",
      "[step: 1450] loss: 0.14900390803813934\n",
      "[step: 1500] loss: 0.13697154819965363\n",
      "[step: 1550] loss: 0.3733164370059967\n",
      "[step: 1600] loss: 0.12210004031658173\n",
      "[step: 1650] loss: 0.11109887063503265\n",
      "[step: 1700] loss: 0.35313910245895386\n",
      "[step: 1750] loss: 0.10026488453149796\n",
      "[step: 1800] loss: 0.09286398440599442\n",
      "[step: 1850] loss: 0.5109466910362244\n",
      "[step: 1900] loss: 0.08506336063146591\n",
      "[step: 1950] loss: 0.07983723282814026\n",
      "RMSE: 0.014680675230920315\n"
     ]
    },
    {
     "data": {
      "image/png": "[encoded data removed]",
      "text/plain": [
       "<Figure size 432x288 with 1 Axes>"
      ]
     },
     "metadata": {
      "needs_background": "light"
     },
     "output_type": "display_data"
    }
   ],
   "source": [
    "with tf.Session() as sess:\n",
    "    init = tf.global_variables_initializer()\n",
    "    sess.run(init)\n",
    "\n",
    "    # Training step\n",
    "    for i in range(iterations):\n",
    "        _, step_loss = sess.run([train, loss], feed_dict={X: train_X, Y: train_y})\n",
    "        train_predict = sess.run(Y_pred, feed_dict={X: train_X})\n",
    "        m.update_state(train_y, train_predict)\n",
    "\n",
    "        if i%50==0:\n",
    "            print(\"[step: {}] loss: {}\".format(i, step_loss,))\n",
    "\n",
    "    # Test step\n",
    "    test_predict = sess.run(Y_pred, feed_dict={X: test_X})\n",
    "    rmse_val = sess.run(rmse, feed_dict={targets: test_y, predictions: test_predict})\n",
    "    print(\"RMSE: {}\".format(rmse_val))\n",
    "\n",
    "    # Plot predictions\n",
    "    plt.plot(test_y)\n",
    "    plt.plot(test_predict)\n",
    "    plt.show()"
   ]
  },
  {
   "cell_type": "code",
   "execution_count": 95,
   "metadata": {},
   "outputs": [],
   "source": [
    "test_y.shape ##(482,1)\n",
    "test_y.dtype ##float64\n",
    "test_predict.shape ##(482,1)\n",
    "test_predict.dtype ##float32\n",
    "\n",
    "#### 절대 다시 돌리지 말 것 ####\n",
    "pred_LSTM_9 = test_predict"
   ]
  },
  {
   "cell_type": "code",
   "execution_count": 115,
   "metadata": {},
   "outputs": [
    {
     "name": "stdout",
     "output_type": "stream",
     "text": [
      "accuracy: 0.529045643153527  \n",
      "confusion matrix:\n",
      " [[181  33]\n",
      " [194  74]]\n",
      "f1: 0.39466666666666667\n"
     ]
    }
   ],
   "source": [
    "diff = pred_LSTM_9 - test_kospi #5일후 예측값 - t시점 지수종가\n",
    "prediction = diff >= 0 #True면 '상승' = 1 False면 '하락' = 0\n",
    "\n",
    "Y = kospi[['Y']]\n",
    "true = Y.iloc[3962:-5,0].values\n",
    "true = (true=='상승') #True면  1 = '상승' False면 0 = '하락'\n",
    "\n",
    "\n",
    "from sklearn.metrics import accuracy_score, confusion_matrix, f1_score\n",
    "print(\"accuracy: {}  \\nconfusion matrix:\\n {}\\nf1: {}\".format(accuracy_score(true, prediction), confusion_matrix(true, prediction), f1_score(true, prediction)))"
   ]
  },
  {
   "cell_type": "markdown",
   "metadata": {},
   "source": [
    "### (10) batch_size = 150 / iterations = 1600 / hidden layers = 30 / activation = tanh(default)"
   ]
  },
  {
   "cell_type": "code",
   "execution_count": 97,
   "metadata": {},
   "outputs": [
    {
     "name": "stdout",
     "output_type": "stream",
     "text": [
      "3962\n",
      "38\n",
      "1\n",
      "150\n"
     ]
    }
   ],
   "source": [
    "seq_length = train_X.shape[0] ;print(seq_length) ##3802\n",
    "data_dim = train_X.shape[2]; print(data_dim) ##94\n",
    "output_dim = train_y.shape[1]; print(output_dim) ##1\n",
    "batch_size = 150 ; print(batch_size) ##14\n",
    "iterations = 1600"
   ]
  },
  {
   "cell_type": "code",
   "execution_count": 98,
   "metadata": {},
   "outputs": [
    {
     "name": "stdout",
     "output_type": "stream",
     "text": [
      "Tensor(\"rnn/transpose_1:0\", shape=(?, ?, 30), dtype=float32) LSTMStateTuple(c=<tf.Tensor 'rnn/while/Exit_3:0' shape=(?, 30) dtype=float32>, h=<tf.Tensor 'rnn/while/Exit_4:0' shape=(?, 30) dtype=float32>)\n"
     ]
    }
   ],
   "source": [
    "tf.reset_default_graph()\n",
    "\n",
    "X = tf.placeholder(tf.float32,[None,None, data_dim])\n",
    "Y = tf.placeholder(tf.float32,[None,None])\n",
    "#print(X.shape,Y.shape)\n",
    "\n",
    "\n",
    "cell = tf.contrib.rnn.BasicLSTMCell(num_units = 30, state_is_tuple=True)\n",
    "outputs, _states = tf.nn.dynamic_rnn(cell,X,dtype = tf.float32) ; print(outputs,_states)\n",
    "Y_pred = tf.contrib.layers.fully_connected(outputs[:,-1],output_dim,activation_fn = None)\n",
    "\n",
    "loss = tf.reduce_sum(tf.square(Y_pred - Y))\n",
    "\n",
    "optimizer = tf.train.AdamOptimizer(0.01)\n",
    "train = optimizer.minimize(loss)\n",
    "\n",
    "m = tf.keras.metrics.Accuracy()\n",
    "\n",
    "# RMSE\n",
    "targets = tf.placeholder(tf.float32, [None,1])\n",
    "predictions = tf.placeholder(tf.float32, [None,1])\n",
    "rmse = tf.sqrt(tf.reduce_mean(tf.square(targets - predictions)))\n",
    "\n",
    "#model = Sequential()\n",
    "#model.add(LSTM(30, input_shape=(train_X.shape[1], 5)))\n",
    "#model.add(Dense(1))\n",
    "#model.compile(loss='mae', optimizer='adam')"
   ]
  },
  {
   "cell_type": "code",
   "execution_count": 99,
   "metadata": {},
   "outputs": [
    {
     "name": "stdout",
     "output_type": "stream",
     "text": [
      "[step: 0] loss: 1068.273681640625\n",
      "[step: 50] loss: 6.355178356170654\n",
      "[step: 100] loss: 2.208543062210083\n",
      "[step: 150] loss: 1.6305228471755981\n",
      "[step: 200] loss: 1.3957462310791016\n",
      "[step: 250] loss: 1.2217555046081543\n",
      "[step: 300] loss: 1.0717308521270752\n",
      "[step: 350] loss: 0.9392299652099609\n",
      "[step: 400] loss: 0.8223027586936951\n",
      "[step: 450] loss: 0.7204870581626892\n",
      "[step: 500] loss: 0.63360595703125\n",
      "[step: 550] loss: 0.5611096024513245\n",
      "[step: 600] loss: 0.5017796754837036\n",
      "[step: 650] loss: 0.4537677466869354\n",
      "[step: 700] loss: 0.4148889183998108\n",
      "[step: 750] loss: 0.3830021917819977\n",
      "[step: 800] loss: 0.3562973737716675\n",
      "[step: 850] loss: 0.3333973288536072\n",
      "[step: 900] loss: 0.3133195638656616\n",
      "[step: 950] loss: 0.29538020491600037\n",
      "[step: 1000] loss: 0.27909770607948303\n",
      "[step: 1050] loss: 0.2641257643699646\n",
      "[step: 1100] loss: 0.25020864605903625\n",
      "[step: 1150] loss: 0.237155944108963\n",
      "[step: 1200] loss: 0.22482281923294067\n",
      "[step: 1250] loss: 0.21309834718704224\n",
      "[step: 1300] loss: 0.20189455151557922\n",
      "[step: 1350] loss: 0.19114002585411072\n",
      "[step: 1400] loss: 0.1807759553194046\n",
      "[step: 1450] loss: 0.1707555204629898\n",
      "[step: 1500] loss: 0.16104355454444885\n",
      "[step: 1550] loss: 0.15161892771720886\n",
      "RMSE: 0.012404713779687881\n"
     ]
    },
    {
     "data": {
      "image/png": "[encoded data removed]",
      "text/plain": [
       "<Figure size 432x288 with 1 Axes>"
      ]
     },
     "metadata": {
      "needs_background": "light"
     },
     "output_type": "display_data"
    }
   ],
   "source": [
    "with tf.Session() as sess:\n",
    "    init = tf.global_variables_initializer()\n",
    "    sess.run(init)\n",
    "\n",
    "    # Training step\n",
    "    for i in range(iterations):\n",
    "        _, step_loss = sess.run([train, loss], feed_dict={X: train_X, Y: train_y})\n",
    "        train_predict = sess.run(Y_pred, feed_dict={X: train_X})\n",
    "        m.update_state(train_y, train_predict)\n",
    "\n",
    "        if i%50==0:\n",
    "            print(\"[step: {}] loss: {}\".format(i, step_loss,))\n",
    "\n",
    "    # Test step\n",
    "    test_predict = sess.run(Y_pred, feed_dict={X: test_X})\n",
    "    rmse_val = sess.run(rmse, feed_dict={targets: test_y, predictions: test_predict})\n",
    "    print(\"RMSE: {}\".format(rmse_val))\n",
    "\n",
    "    # Plot predictions\n",
    "    plt.plot(test_y)\n",
    "    plt.plot(test_predict)\n",
    "    plt.show()"
   ]
  },
  {
   "cell_type": "code",
   "execution_count": 100,
   "metadata": {},
   "outputs": [],
   "source": [
    "test_y.shape ##(482,1)\n",
    "test_y.dtype ##float64\n",
    "test_predict.shape ##(482,1)\n",
    "test_predict.dtype ##float32\n",
    "\n",
    "#### 절대 다시 돌리지 말 것 ####\n",
    "pred_LSTM_10 = test_predict"
   ]
  },
  {
   "cell_type": "code",
   "execution_count": 116,
   "metadata": {},
   "outputs": [
    {
     "name": "stdout",
     "output_type": "stream",
     "text": [
      "accuracy: 0.5477178423236515  \n",
      "confusion matrix:\n",
      " [[136  78]\n",
      " [140 128]]\n",
      "f1: 0.540084388185654\n"
     ]
    }
   ],
   "source": [
    "diff = pred_LSTM_10 - test_kospi #5일후 예측값 - t시점 지수종가\n",
    "prediction = diff >= 0 #True면 '상승' = 1 False면 '하락' = 0\n",
    "\n",
    "Y = kospi[['Y']]\n",
    "true = Y.iloc[3962:-5,0].values\n",
    "true = (true=='상승') #True면  1 = '상승' False면 0 = '하락'\n",
    "\n",
    "\n",
    "from sklearn.metrics import accuracy_score, confusion_matrix, f1_score\n",
    "print(\"accuracy: {}  \\nconfusion matrix:\\n {}\\nf1: {}\".format(accuracy_score(true, prediction), confusion_matrix(true, prediction), f1_score(true, prediction)))"
   ]
  },
  {
   "cell_type": "markdown",
   "metadata": {},
   "source": [
    "### (11) batch_size = 200 / iterations = 1500 / hidden layers = 30 / activation = leaky-ReLU"
   ]
  },
  {
   "cell_type": "code",
   "execution_count": 102,
   "metadata": {},
   "outputs": [
    {
     "name": "stdout",
     "output_type": "stream",
     "text": [
      "3962\n",
      "38\n",
      "1\n",
      "200\n"
     ]
    }
   ],
   "source": [
    "seq_length = train_X.shape[0] ;print(seq_length) ##3802\n",
    "data_dim = train_X.shape[2]; print(data_dim) ##94\n",
    "output_dim = train_y.shape[1]; print(output_dim) ##1\n",
    "batch_size = 200 ; print(batch_size) ##14\n",
    "iterations = 1500"
   ]
  },
  {
   "cell_type": "code",
   "execution_count": 103,
   "metadata": {},
   "outputs": [
    {
     "name": "stdout",
     "output_type": "stream",
     "text": [
      "Tensor(\"rnn/transpose_1:0\", shape=(?, ?, 30), dtype=float32) LSTMStateTuple(c=<tf.Tensor 'rnn/while/Exit_3:0' shape=(?, 30) dtype=float32>, h=<tf.Tensor 'rnn/while/Exit_4:0' shape=(?, 30) dtype=float32>)\n"
     ]
    }
   ],
   "source": [
    "tf.reset_default_graph()\n",
    "\n",
    "X = tf.placeholder(tf.float32,[None,None, data_dim])\n",
    "Y = tf.placeholder(tf.float32,[None,None])\n",
    "#print(X.shape,Y.shape)\n",
    "\n",
    "\n",
    "cell = tf.contrib.rnn.BasicLSTMCell(num_units = 30, state_is_tuple=True,activation = tf.nn.leaky_relu)\n",
    "outputs, _states = tf.nn.dynamic_rnn(cell,X,dtype = tf.float32) ; print(outputs,_states)\n",
    "Y_pred = tf.contrib.layers.fully_connected(outputs[:,-1],output_dim,activation_fn = None)\n",
    "\n",
    "loss = tf.reduce_sum(tf.square(Y_pred - Y))\n",
    "\n",
    "optimizer = tf.train.AdamOptimizer(0.01)\n",
    "train = optimizer.minimize(loss)\n",
    "\n",
    "m = tf.keras.metrics.Accuracy()\n",
    "\n",
    "# RMSE\n",
    "targets = tf.placeholder(tf.float32, [None,1])\n",
    "predictions = tf.placeholder(tf.float32, [None,1])\n",
    "rmse = tf.sqrt(tf.reduce_mean(tf.square(targets - predictions)))\n",
    "\n",
    "#model = Sequential()\n",
    "#model.add(LSTM(30, input_shape=(train_X.shape[1], 5)))\n",
    "#model.add(Dense(1))\n",
    "#model.compile(loss='mae', optimizer='adam')"
   ]
  },
  {
   "cell_type": "code",
   "execution_count": 104,
   "metadata": {},
   "outputs": [
    {
     "name": "stdout",
     "output_type": "stream",
     "text": [
      "[step: 0] loss: 1155.334716796875\n",
      "[step: 50] loss: 4.685503959655762\n",
      "[step: 100] loss: 2.6532838344573975\n",
      "[step: 150] loss: 2.106590747833252\n",
      "[step: 200] loss: 1.7470954656600952\n",
      "[step: 250] loss: 1.4826465845108032\n",
      "[step: 300] loss: 1.2794945240020752\n",
      "[step: 350] loss: 1.112588882446289\n",
      "[step: 400] loss: 0.9724291563034058\n",
      "[step: 450] loss: 0.8525542616844177\n",
      "[step: 500] loss: 0.7536240816116333\n",
      "[step: 550] loss: 0.6724313497543335\n",
      "[step: 600] loss: 0.6062623262405396\n",
      "[step: 650] loss: 0.551572859287262\n",
      "[step: 700] loss: 0.5068060755729675\n",
      "[step: 750] loss: 0.469494491815567\n",
      "[step: 800] loss: 0.43799376487731934\n",
      "[step: 850] loss: 0.41115981340408325\n",
      "[step: 900] loss: 0.38724157214164734\n",
      "[step: 950] loss: 0.36551225185394287\n",
      "[step: 1000] loss: 0.34736621379852295\n",
      "[step: 1050] loss: 0.3310575485229492\n",
      "[step: 1100] loss: 0.3162574768066406\n",
      "[step: 1150] loss: 0.3025214672088623\n",
      "[step: 1200] loss: 0.28946706652641296\n",
      "[step: 1250] loss: 0.27690446376800537\n",
      "[step: 1300] loss: 0.26314711570739746\n",
      "[step: 1350] loss: 0.24991464614868164\n",
      "[step: 1400] loss: 0.2331027239561081\n",
      "[step: 1450] loss: 0.2215859442949295\n",
      "RMSE: 0.05846231058239937\n"
     ]
    },
    {
     "data": {
      "image/png": "[encoded data removed]",
      "text/plain": [
       "<Figure size 432x288 with 1 Axes>"
      ]
     },
     "metadata": {
      "needs_background": "light"
     },
     "output_type": "display_data"
    }
   ],
   "source": [
    "with tf.Session() as sess:\n",
    "    init = tf.global_variables_initializer()\n",
    "    sess.run(init)\n",
    "\n",
    "    # Training step\n",
    "    for i in range(iterations):\n",
    "        _, step_loss = sess.run([train, loss], feed_dict={X: train_X, Y: train_y})\n",
    "        train_predict = sess.run(Y_pred, feed_dict={X: train_X})\n",
    "        m.update_state(train_y, train_predict)\n",
    "\n",
    "        if i%50==0:\n",
    "            print(\"[step: {}] loss: {}\".format(i, step_loss,))\n",
    "\n",
    "    # Test step\n",
    "    test_predict = sess.run(Y_pred, feed_dict={X: test_X})\n",
    "    rmse_val = sess.run(rmse, feed_dict={targets: test_y, predictions: test_predict})\n",
    "    print(\"RMSE: {}\".format(rmse_val))\n",
    "\n",
    "    # Plot predictions\n",
    "    plt.plot(test_y)\n",
    "    plt.plot(test_predict)\n",
    "    plt.show()"
   ]
  },
  {
   "cell_type": "code",
   "execution_count": 105,
   "metadata": {},
   "outputs": [],
   "source": [
    "test_y.shape ##(482,1)\n",
    "test_y.dtype ##float64\n",
    "test_predict.shape ##(482,1)\n",
    "test_predict.dtype ##float32\n",
    "\n",
    "#### 절대 다시 돌리지 말 것 ####\n",
    "pred_LSTM_11 = test_predict"
   ]
  },
  {
   "cell_type": "code",
   "execution_count": 117,
   "metadata": {},
   "outputs": [
    {
     "name": "stdout",
     "output_type": "stream",
     "text": [
      "accuracy: 0.5560165975103735  \n",
      "confusion matrix:\n",
      " [[  0 214]\n",
      " [  0 268]]\n",
      "f1: 0.7146666666666667\n"
     ]
    }
   ],
   "source": [
    "diff = pred_LSTM_11 - test_kospi #5일후 예측값 - t시점 지수종가\n",
    "prediction = diff >= 0 #True면 '상승' = 1 False면 '하락' = 0\n",
    "\n",
    "Y = kospi[['Y']]\n",
    "true = Y.iloc[3962:-5,0].values\n",
    "true = (true=='상승') #True면  1 = '상승' False면 0 = '하락'\n",
    "\n",
    "\n",
    "from sklearn.metrics import accuracy_score, confusion_matrix, f1_score\n",
    "print(\"accuracy: {}  \\nconfusion matrix:\\n {}\\nf1: {}\".format(accuracy_score(true, prediction), confusion_matrix(true, prediction), f1_score(true, prediction)))"
   ]
  }
 ],
 "metadata": {
  "kernelspec": {
   "display_name": "Python 3",
   "language": "python",
   "name": "python3"
  },
  "language_info": {
   "codemirror_mode": {
    "name": "ipython",
    "version": 3
   },
   "file_extension": ".py",
   "mimetype": "text/x-python",
   "name": "python",
   "nbconvert_exporter": "python",
   "pygments_lexer": "ipython3",
   "version": "3.7.3"
  }
 },
 "nbformat": 4,
 "nbformat_minor": 2
}
