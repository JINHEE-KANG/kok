{
 "cells": [
  {
   "cell_type": "code",
   "execution_count": 1,
   "metadata": {},
   "outputs": [],
   "source": [
    "from sklearn.ensemble import RandomForestClassifier\n",
    "from sklearn.model_selection import train_test_split\n",
    "import matplotlib.pyplot as plt\n",
    "from sklearn.preprocessing import StandardScaler"
   ]
  },
  {
   "cell_type": "markdown",
   "metadata": {},
   "source": [
    "## market 데이터 변수 축소-각 변수별 그래프 그려보고 비슷한 양상을 보이는 변수끼리 묶기"
   ]
  },
  {
   "cell_type": "code",
   "execution_count": 2,
   "metadata": {},
   "outputs": [],
   "source": [
    "import pandas as pd\n",
    "import numpy as np"
   ]
  },
  {
   "cell_type": "code",
   "execution_count": 3,
   "metadata": {},
   "outputs": [],
   "source": [
    "m=pd.read_csv('2019빅데이터페스티벌데이터/market_noDram_final.csv', encoding= 'euc_kr')"
   ]
  },
  {
   "cell_type": "code",
   "execution_count": 34,
   "metadata": {},
   "outputs": [
    {
     "data": {
      "text/html": [
       "<div>\n",
       "<style scoped>\n",
       "    .dataframe tbody tr th:only-of-type {\n",
       "        vertical-align: middle;\n",
       "    }\n",
       "\n",
       "    .dataframe tbody tr th {\n",
       "        vertical-align: top;\n",
       "    }\n",
       "\n",
       "    .dataframe thead th {\n",
       "        text-align: right;\n",
       "    }\n",
       "</style>\n",
       "<table border=\"1\" class=\"dataframe\">\n",
       "  <thead>\n",
       "    <tr style=\"text-align: right;\">\n",
       "      <th></th>\n",
       "      <th>날짜</th>\n",
       "      <th>A등급 구리(현물)</th>\n",
       "      <th>니켈(현물)</th>\n",
       "      <th>알루미늄 99.7%(현물)</th>\n",
       "      <th>금괴(일간)</th>\n",
       "      <th>미국1년</th>\n",
       "      <th>미국3년</th>\n",
       "      <th>미국10년</th>\n",
       "      <th>국고채권(1년)</th>\n",
       "      <th>국고채권(3년)</th>\n",
       "      <th>국고채권(10년)</th>\n",
       "      <th>브랜트유 가격</th>\n",
       "      <th>원유 WTI</th>\n",
       "      <th>금속</th>\n",
       "    </tr>\n",
       "  </thead>\n",
       "  <tbody>\n",
       "    <tr>\n",
       "      <th>0</th>\n",
       "      <td>2001-01-02</td>\n",
       "      <td>1746.3</td>\n",
       "      <td>6935.0</td>\n",
       "      <td>1552.5</td>\n",
       "      <td>270.6</td>\n",
       "      <td>5.2</td>\n",
       "      <td>4.8</td>\n",
       "      <td>4.9</td>\n",
       "      <td>6.7</td>\n",
       "      <td>6.7</td>\n",
       "      <td>7.2</td>\n",
       "      <td>24.3</td>\n",
       "      <td>27.2</td>\n",
       "      <td>7202.509750</td>\n",
       "    </tr>\n",
       "    <tr>\n",
       "      <th>1</th>\n",
       "      <td>2001-01-03</td>\n",
       "      <td>1716.8</td>\n",
       "      <td>6370.0</td>\n",
       "      <td>1515.5</td>\n",
       "      <td>267.5</td>\n",
       "      <td>5.1</td>\n",
       "      <td>4.9</td>\n",
       "      <td>5.2</td>\n",
       "      <td>6.6</td>\n",
       "      <td>6.6</td>\n",
       "      <td>7.2</td>\n",
       "      <td>25.0</td>\n",
       "      <td>28.0</td>\n",
       "      <td>6641.324150</td>\n",
       "    </tr>\n",
       "    <tr>\n",
       "      <th>2</th>\n",
       "      <td>2001-01-04</td>\n",
       "      <td>1750.5</td>\n",
       "      <td>6569.0</td>\n",
       "      <td>1519.0</td>\n",
       "      <td>267.7</td>\n",
       "      <td>4.9</td>\n",
       "      <td>4.8</td>\n",
       "      <td>5.0</td>\n",
       "      <td>6.4</td>\n",
       "      <td>6.4</td>\n",
       "      <td>6.9</td>\n",
       "      <td>25.4</td>\n",
       "      <td>28.1</td>\n",
       "      <td>6843.049220</td>\n",
       "    </tr>\n",
       "    <tr>\n",
       "      <th>3</th>\n",
       "      <td>2001-01-05</td>\n",
       "      <td>1740.3</td>\n",
       "      <td>6607.0</td>\n",
       "      <td>1527.5</td>\n",
       "      <td>268.2</td>\n",
       "      <td>4.6</td>\n",
       "      <td>4.6</td>\n",
       "      <td>4.9</td>\n",
       "      <td>6.2</td>\n",
       "      <td>6.2</td>\n",
       "      <td>6.7</td>\n",
       "      <td>25.2</td>\n",
       "      <td>28.0</td>\n",
       "      <td>6878.711003</td>\n",
       "    </tr>\n",
       "    <tr>\n",
       "      <th>4</th>\n",
       "      <td>2001-01-08</td>\n",
       "      <td>1775.0</td>\n",
       "      <td>6734.0</td>\n",
       "      <td>1578.0</td>\n",
       "      <td>268.3</td>\n",
       "      <td>4.6</td>\n",
       "      <td>4.6</td>\n",
       "      <td>4.9</td>\n",
       "      <td>6.1</td>\n",
       "      <td>6.1</td>\n",
       "      <td>6.6</td>\n",
       "      <td>24.4</td>\n",
       "      <td>27.3</td>\n",
       "      <td>7012.097592</td>\n",
       "    </tr>\n",
       "  </tbody>\n",
       "</table>\n",
       "</div>"
      ],
      "text/plain": [
       "           날짜  A등급 구리(현물)  니켈(현물)  알루미늄 99.7%(현물)  금괴(일간)  미국1년  미국3년  미국10년  \\\n",
       "0  2001-01-02      1746.3  6935.0          1552.5   270.6   5.2   4.8    4.9   \n",
       "1  2001-01-03      1716.8  6370.0          1515.5   267.5   5.1   4.9    5.2   \n",
       "2  2001-01-04      1750.5  6569.0          1519.0   267.7   4.9   4.8    5.0   \n",
       "3  2001-01-05      1740.3  6607.0          1527.5   268.2   4.6   4.6    4.9   \n",
       "4  2001-01-08      1775.0  6734.0          1578.0   268.3   4.6   4.6    4.9   \n",
       "\n",
       "   국고채권(1년)  국고채권(3년)  국고채권(10년)  브랜트유 가격  원유 WTI           금속  \n",
       "0       6.7       6.7        7.2     24.3    27.2  7202.509750  \n",
       "1       6.6       6.6        7.2     25.0    28.0  6641.324150  \n",
       "2       6.4       6.4        6.9     25.4    28.1  6843.049220  \n",
       "3       6.2       6.2        6.7     25.2    28.0  6878.711003  \n",
       "4       6.1       6.1        6.6     24.4    27.3  7012.097592  "
      ]
     },
     "execution_count": 34,
     "metadata": {},
     "output_type": "execute_result"
    }
   ],
   "source": [
    "m.head()"
   ]
  },
  {
   "cell_type": "markdown",
   "metadata": {},
   "source": [
    "## m에서 'A등급 구리(현물)','니켈(현물)','알루미늄 99.7%(현물)'만 선택해서 새로운 데이터 프레임을 만들고 변수축소 수행"
   ]
  },
  {
   "cell_type": "code",
   "execution_count": 16,
   "metadata": {},
   "outputs": [
    {
     "name": "stdout",
     "output_type": "stream",
     "text": [
      "PCA component 별 변동성: [0.95585305]\n"
     ]
    }
   ],
   "source": [
    "from sklearn.decomposition import PCA\n",
    "\n",
    "pca=PCA(n_components=1)\n",
    "m1=m[['A등급 구리(현물)','니켈(현물)','알루미늄 99.7%(현물)']]\n",
    "m2=pca.fit(m1)\n",
    "print('PCA component 별 변동성:', pca.explained_variance_ratio_)"
   ]
  },
  {
   "cell_type": "code",
   "execution_count": 6,
   "metadata": {},
   "outputs": [
    {
     "name": "stdout",
     "output_type": "stream",
     "text": [
      "[[0.19241083]\n",
      " [0.98034117]\n",
      " [0.04369514]]\n"
     ]
    },
    {
     "data": {
      "text/plain": [
       "(3, 1)"
      ]
     },
     "execution_count": 6,
     "metadata": {},
     "output_type": "execute_result"
    }
   ],
   "source": [
    "print(pca.components_.T)\n",
    "pca.components_.T.shape"
   ]
  },
  {
   "cell_type": "code",
   "execution_count": 7,
   "metadata": {},
   "outputs": [
    {
     "data": {
      "text/plain": [
       "array([0.19241083])"
      ]
     },
     "execution_count": 7,
     "metadata": {},
     "output_type": "execute_result"
    }
   ],
   "source": [
    "m2.components_.T[0]"
   ]
  },
  {
   "cell_type": "markdown",
   "metadata": {},
   "source": [
    "## 한 값만 지나치게 영향을 주는 부분이 있는 것 같아 스케일링 시도"
   ]
  },
  {
   "cell_type": "code",
   "execution_count": 8,
   "metadata": {},
   "outputs": [
    {
     "data": {
      "text/html": [
       "<div>\n",
       "<style scoped>\n",
       "    .dataframe tbody tr th:only-of-type {\n",
       "        vertical-align: middle;\n",
       "    }\n",
       "\n",
       "    .dataframe tbody tr th {\n",
       "        vertical-align: top;\n",
       "    }\n",
       "\n",
       "    .dataframe thead th {\n",
       "        text-align: right;\n",
       "    }\n",
       "</style>\n",
       "<table border=\"1\" class=\"dataframe\">\n",
       "  <thead>\n",
       "    <tr style=\"text-align: right;\">\n",
       "      <th></th>\n",
       "      <th>A등급 구리(현물)</th>\n",
       "      <th>니켈(현물)</th>\n",
       "      <th>알루미늄 99.7%(현물)</th>\n",
       "    </tr>\n",
       "  </thead>\n",
       "  <tbody>\n",
       "    <tr>\n",
       "      <th>0</th>\n",
       "      <td>-1.594937</td>\n",
       "      <td>-1.108757</td>\n",
       "      <td>-0.901840</td>\n",
       "    </tr>\n",
       "    <tr>\n",
       "      <th>1</th>\n",
       "      <td>-1.607458</td>\n",
       "      <td>-1.178171</td>\n",
       "      <td>-0.987416</td>\n",
       "    </tr>\n",
       "    <tr>\n",
       "      <th>2</th>\n",
       "      <td>-1.593155</td>\n",
       "      <td>-1.153723</td>\n",
       "      <td>-0.979321</td>\n",
       "    </tr>\n",
       "    <tr>\n",
       "      <th>3</th>\n",
       "      <td>-1.597484</td>\n",
       "      <td>-1.149054</td>\n",
       "      <td>-0.959662</td>\n",
       "    </tr>\n",
       "    <tr>\n",
       "      <th>4</th>\n",
       "      <td>-1.582756</td>\n",
       "      <td>-1.133451</td>\n",
       "      <td>-0.842862</td>\n",
       "    </tr>\n",
       "  </tbody>\n",
       "</table>\n",
       "</div>"
      ],
      "text/plain": [
       "   A등급 구리(현물)    니켈(현물)  알루미늄 99.7%(현물)\n",
       "0   -1.594937 -1.108757       -0.901840\n",
       "1   -1.607458 -1.178171       -0.987416\n",
       "2   -1.593155 -1.153723       -0.979321\n",
       "3   -1.597484 -1.149054       -0.959662\n",
       "4   -1.582756 -1.133451       -0.842862"
      ]
     },
     "execution_count": 8,
     "metadata": {},
     "output_type": "execute_result"
    }
   ],
   "source": [
    "m1_1= StandardScaler().fit_transform(m1)\n",
    "\n",
    "m1_1=pd.DataFrame(m1_1)\n",
    "m1_1.columns=['A등급 구리(현물)','니켈(현물)','알루미늄 99.7%(현물)']\n",
    "m1_1.head()"
   ]
  },
  {
   "cell_type": "code",
   "execution_count": 14,
   "metadata": {},
   "outputs": [
    {
     "name": "stdout",
     "output_type": "stream",
     "text": [
      "PCA component 별 변동성: [0.83067367]\n",
      "[[0.55586834]\n",
      " [0.57356545]\n",
      " [0.60169183]]\n"
     ]
    },
    {
     "data": {
      "text/plain": [
       "(3, 1)"
      ]
     },
     "execution_count": 14,
     "metadata": {},
     "output_type": "execute_result"
    }
   ],
   "source": [
    "m2_1=pca.fit(m1_1)\n",
    "print('PCA component 별 변동성:', pca.explained_variance_ratio_)\n",
    "print(pca.components_.T)\n",
    "m2_1.components_.T.shape"
   ]
  },
  {
   "cell_type": "markdown",
   "metadata": {},
   "source": [
    "## 그러나 스케일링 수행 할 시 세 변수에 대해 설명하는 부분이 부족하다는 판단에 스케일링 없이 차원 축소 하기로 결정함"
   ]
  },
  {
   "cell_type": "code",
   "execution_count": 18,
   "metadata": {},
   "outputs": [],
   "source": [
    "pca=PCA(n_components=1)\n",
    "m1=m[['A등급 구리(현물)','니켈(현물)','알루미늄 99.7%(현물)']]\n",
    "m2=pca.fit(m1)"
   ]
  },
  {
   "cell_type": "code",
   "execution_count": 19,
   "metadata": {},
   "outputs": [
    {
     "data": {
      "text/plain": [
       "array([[0.19241083, 0.98034117, 0.04369514]])"
      ]
     },
     "execution_count": 19,
     "metadata": {},
     "output_type": "execute_result"
    }
   ],
   "source": [
    "m2pc=m2.components_.T.reshape(1,3)\n",
    "m2pc"
   ]
  },
  {
   "cell_type": "markdown",
   "metadata": {},
   "source": [
    "## pc의 계수를 통해 변수 축소 진행"
   ]
  },
  {
   "cell_type": "code",
   "execution_count": 20,
   "metadata": {},
   "outputs": [],
   "source": [
    "금속=[]\n",
    "for i in range(m1.shape[0]):\n",
    "    a=m2pc[0,0]*m1.iloc[i,0]\n",
    "    b=m2pc[0,1]*m1.iloc[i,1]\n",
    "    c=m2pc[0,2]*m1.iloc[i,2]\n",
    "    금속.append(a+b+c)\n"
   ]
  },
  {
   "cell_type": "code",
   "execution_count": 21,
   "metadata": {},
   "outputs": [
    {
     "data": {
      "text/html": [
       "<div>\n",
       "<style scoped>\n",
       "    .dataframe tbody tr th:only-of-type {\n",
       "        vertical-align: middle;\n",
       "    }\n",
       "\n",
       "    .dataframe tbody tr th {\n",
       "        vertical-align: top;\n",
       "    }\n",
       "\n",
       "    .dataframe thead th {\n",
       "        text-align: right;\n",
       "    }\n",
       "</style>\n",
       "<table border=\"1\" class=\"dataframe\">\n",
       "  <thead>\n",
       "    <tr style=\"text-align: right;\">\n",
       "      <th></th>\n",
       "      <th>0</th>\n",
       "    </tr>\n",
       "  </thead>\n",
       "  <tbody>\n",
       "    <tr>\n",
       "      <th>0</th>\n",
       "      <td>7202.509750</td>\n",
       "    </tr>\n",
       "    <tr>\n",
       "      <th>1</th>\n",
       "      <td>6641.324150</td>\n",
       "    </tr>\n",
       "    <tr>\n",
       "      <th>2</th>\n",
       "      <td>6843.049220</td>\n",
       "    </tr>\n",
       "    <tr>\n",
       "      <th>3</th>\n",
       "      <td>6878.711003</td>\n",
       "    </tr>\n",
       "    <tr>\n",
       "      <th>4</th>\n",
       "      <td>7012.097592</td>\n",
       "    </tr>\n",
       "  </tbody>\n",
       "</table>\n",
       "</div>"
      ],
      "text/plain": [
       "             0\n",
       "0  7202.509750\n",
       "1  6641.324150\n",
       "2  6843.049220\n",
       "3  6878.711003\n",
       "4  7012.097592"
      ]
     },
     "execution_count": 21,
     "metadata": {},
     "output_type": "execute_result"
    }
   ],
   "source": [
    "금속=pd.DataFrame(금속)\n",
    "금속.head()"
   ]
  },
  {
   "cell_type": "code",
   "execution_count": 22,
   "metadata": {},
   "outputs": [
    {
     "data": {
      "text/html": [
       "<div>\n",
       "<style scoped>\n",
       "    .dataframe tbody tr th:only-of-type {\n",
       "        vertical-align: middle;\n",
       "    }\n",
       "\n",
       "    .dataframe tbody tr th {\n",
       "        vertical-align: top;\n",
       "    }\n",
       "\n",
       "    .dataframe thead th {\n",
       "        text-align: right;\n",
       "    }\n",
       "</style>\n",
       "<table border=\"1\" class=\"dataframe\">\n",
       "  <thead>\n",
       "    <tr style=\"text-align: right;\">\n",
       "      <th></th>\n",
       "      <th>날짜</th>\n",
       "      <th>A등급 구리(현물)</th>\n",
       "      <th>니켈(현물)</th>\n",
       "      <th>알루미늄 99.7%(현물)</th>\n",
       "      <th>금괴(일간)</th>\n",
       "      <th>미국1년</th>\n",
       "      <th>미국3년</th>\n",
       "      <th>미국10년</th>\n",
       "      <th>국고채권(1년)</th>\n",
       "      <th>국고채권(3년)</th>\n",
       "      <th>국고채권(10년)</th>\n",
       "      <th>브랜트유 가격</th>\n",
       "      <th>원유 WTI</th>\n",
       "      <th>금속</th>\n",
       "    </tr>\n",
       "  </thead>\n",
       "  <tbody>\n",
       "    <tr>\n",
       "      <th>0</th>\n",
       "      <td>2001-01-02</td>\n",
       "      <td>1746.3</td>\n",
       "      <td>6935.0</td>\n",
       "      <td>1552.5</td>\n",
       "      <td>270.6</td>\n",
       "      <td>5.2</td>\n",
       "      <td>4.8</td>\n",
       "      <td>4.9</td>\n",
       "      <td>6.7</td>\n",
       "      <td>6.7</td>\n",
       "      <td>7.2</td>\n",
       "      <td>24.3</td>\n",
       "      <td>27.2</td>\n",
       "      <td>7202.509750</td>\n",
       "    </tr>\n",
       "    <tr>\n",
       "      <th>1</th>\n",
       "      <td>2001-01-03</td>\n",
       "      <td>1716.8</td>\n",
       "      <td>6370.0</td>\n",
       "      <td>1515.5</td>\n",
       "      <td>267.5</td>\n",
       "      <td>5.1</td>\n",
       "      <td>4.9</td>\n",
       "      <td>5.2</td>\n",
       "      <td>6.6</td>\n",
       "      <td>6.6</td>\n",
       "      <td>7.2</td>\n",
       "      <td>25.0</td>\n",
       "      <td>28.0</td>\n",
       "      <td>6641.324150</td>\n",
       "    </tr>\n",
       "    <tr>\n",
       "      <th>2</th>\n",
       "      <td>2001-01-04</td>\n",
       "      <td>1750.5</td>\n",
       "      <td>6569.0</td>\n",
       "      <td>1519.0</td>\n",
       "      <td>267.7</td>\n",
       "      <td>4.9</td>\n",
       "      <td>4.8</td>\n",
       "      <td>5.0</td>\n",
       "      <td>6.4</td>\n",
       "      <td>6.4</td>\n",
       "      <td>6.9</td>\n",
       "      <td>25.4</td>\n",
       "      <td>28.1</td>\n",
       "      <td>6843.049220</td>\n",
       "    </tr>\n",
       "    <tr>\n",
       "      <th>3</th>\n",
       "      <td>2001-01-05</td>\n",
       "      <td>1740.3</td>\n",
       "      <td>6607.0</td>\n",
       "      <td>1527.5</td>\n",
       "      <td>268.2</td>\n",
       "      <td>4.6</td>\n",
       "      <td>4.6</td>\n",
       "      <td>4.9</td>\n",
       "      <td>6.2</td>\n",
       "      <td>6.2</td>\n",
       "      <td>6.7</td>\n",
       "      <td>25.2</td>\n",
       "      <td>28.0</td>\n",
       "      <td>6878.711003</td>\n",
       "    </tr>\n",
       "    <tr>\n",
       "      <th>4</th>\n",
       "      <td>2001-01-08</td>\n",
       "      <td>1775.0</td>\n",
       "      <td>6734.0</td>\n",
       "      <td>1578.0</td>\n",
       "      <td>268.3</td>\n",
       "      <td>4.6</td>\n",
       "      <td>4.6</td>\n",
       "      <td>4.9</td>\n",
       "      <td>6.1</td>\n",
       "      <td>6.1</td>\n",
       "      <td>6.6</td>\n",
       "      <td>24.4</td>\n",
       "      <td>27.3</td>\n",
       "      <td>7012.097592</td>\n",
       "    </tr>\n",
       "  </tbody>\n",
       "</table>\n",
       "</div>"
      ],
      "text/plain": [
       "           날짜  A등급 구리(현물)  니켈(현물)  알루미늄 99.7%(현물)  금괴(일간)  미국1년  미국3년  미국10년  \\\n",
       "0  2001-01-02      1746.3  6935.0          1552.5   270.6   5.2   4.8    4.9   \n",
       "1  2001-01-03      1716.8  6370.0          1515.5   267.5   5.1   4.9    5.2   \n",
       "2  2001-01-04      1750.5  6569.0          1519.0   267.7   4.9   4.8    5.0   \n",
       "3  2001-01-05      1740.3  6607.0          1527.5   268.2   4.6   4.6    4.9   \n",
       "4  2001-01-08      1775.0  6734.0          1578.0   268.3   4.6   4.6    4.9   \n",
       "\n",
       "   국고채권(1년)  국고채권(3년)  국고채권(10년)  브랜트유 가격  원유 WTI           금속  \n",
       "0       6.7       6.7        7.2     24.3    27.2  7202.509750  \n",
       "1       6.6       6.6        7.2     25.0    28.0  6641.324150  \n",
       "2       6.4       6.4        6.9     25.4    28.1  6843.049220  \n",
       "3       6.2       6.2        6.7     25.2    28.0  6878.711003  \n",
       "4       6.1       6.1        6.6     24.4    27.3  7012.097592  "
      ]
     },
     "execution_count": 22,
     "metadata": {},
     "output_type": "execute_result"
    }
   ],
   "source": [
    "m['금속']=금속\n",
    "m.head()"
   ]
  },
  {
   "cell_type": "markdown",
   "metadata": {},
   "source": [
    "## 그리고 원본 변수들 삭제"
   ]
  },
  {
   "cell_type": "code",
   "execution_count": 23,
   "metadata": {},
   "outputs": [],
   "source": [
    "market=m.drop(m1,axis=1)"
   ]
  },
  {
   "cell_type": "markdown",
   "metadata": {},
   "source": [
    "## '브랜트유 가격','원유 WTI' 변수들은 그래프가 아주 흡사한 모습을 보였기에 평균으로 축소"
   ]
  },
  {
   "cell_type": "code",
   "execution_count": 24,
   "metadata": {},
   "outputs": [
    {
     "data": {
      "text/html": [
       "<div>\n",
       "<style scoped>\n",
       "    .dataframe tbody tr th:only-of-type {\n",
       "        vertical-align: middle;\n",
       "    }\n",
       "\n",
       "    .dataframe tbody tr th {\n",
       "        vertical-align: top;\n",
       "    }\n",
       "\n",
       "    .dataframe thead th {\n",
       "        text-align: right;\n",
       "    }\n",
       "</style>\n",
       "<table border=\"1\" class=\"dataframe\">\n",
       "  <thead>\n",
       "    <tr style=\"text-align: right;\">\n",
       "      <th></th>\n",
       "      <th>날짜</th>\n",
       "      <th>금괴(일간)</th>\n",
       "      <th>미국1년</th>\n",
       "      <th>미국3년</th>\n",
       "      <th>미국10년</th>\n",
       "      <th>국고채권(1년)</th>\n",
       "      <th>국고채권(3년)</th>\n",
       "      <th>국고채권(10년)</th>\n",
       "      <th>금속</th>\n",
       "      <th>oil</th>\n",
       "    </tr>\n",
       "  </thead>\n",
       "  <tbody>\n",
       "    <tr>\n",
       "      <th>0</th>\n",
       "      <td>2001-01-02</td>\n",
       "      <td>270.6</td>\n",
       "      <td>5.2</td>\n",
       "      <td>4.8</td>\n",
       "      <td>4.9</td>\n",
       "      <td>6.7</td>\n",
       "      <td>6.7</td>\n",
       "      <td>7.2</td>\n",
       "      <td>7202.509750</td>\n",
       "      <td>25.75</td>\n",
       "    </tr>\n",
       "    <tr>\n",
       "      <th>1</th>\n",
       "      <td>2001-01-03</td>\n",
       "      <td>267.5</td>\n",
       "      <td>5.1</td>\n",
       "      <td>4.9</td>\n",
       "      <td>5.2</td>\n",
       "      <td>6.6</td>\n",
       "      <td>6.6</td>\n",
       "      <td>7.2</td>\n",
       "      <td>6641.324150</td>\n",
       "      <td>26.50</td>\n",
       "    </tr>\n",
       "    <tr>\n",
       "      <th>2</th>\n",
       "      <td>2001-01-04</td>\n",
       "      <td>267.7</td>\n",
       "      <td>4.9</td>\n",
       "      <td>4.8</td>\n",
       "      <td>5.0</td>\n",
       "      <td>6.4</td>\n",
       "      <td>6.4</td>\n",
       "      <td>6.9</td>\n",
       "      <td>6843.049220</td>\n",
       "      <td>26.75</td>\n",
       "    </tr>\n",
       "    <tr>\n",
       "      <th>3</th>\n",
       "      <td>2001-01-05</td>\n",
       "      <td>268.2</td>\n",
       "      <td>4.6</td>\n",
       "      <td>4.6</td>\n",
       "      <td>4.9</td>\n",
       "      <td>6.2</td>\n",
       "      <td>6.2</td>\n",
       "      <td>6.7</td>\n",
       "      <td>6878.711003</td>\n",
       "      <td>26.60</td>\n",
       "    </tr>\n",
       "    <tr>\n",
       "      <th>4</th>\n",
       "      <td>2001-01-08</td>\n",
       "      <td>268.3</td>\n",
       "      <td>4.6</td>\n",
       "      <td>4.6</td>\n",
       "      <td>4.9</td>\n",
       "      <td>6.1</td>\n",
       "      <td>6.1</td>\n",
       "      <td>6.6</td>\n",
       "      <td>7012.097592</td>\n",
       "      <td>25.85</td>\n",
       "    </tr>\n",
       "  </tbody>\n",
       "</table>\n",
       "</div>"
      ],
      "text/plain": [
       "           날짜  금괴(일간)  미국1년  미국3년  미국10년  국고채권(1년)  국고채권(3년)  국고채권(10년)  \\\n",
       "0  2001-01-02   270.6   5.2   4.8    4.9       6.7       6.7        7.2   \n",
       "1  2001-01-03   267.5   5.1   4.9    5.2       6.6       6.6        7.2   \n",
       "2  2001-01-04   267.7   4.9   4.8    5.0       6.4       6.4        6.9   \n",
       "3  2001-01-05   268.2   4.6   4.6    4.9       6.2       6.2        6.7   \n",
       "4  2001-01-08   268.3   4.6   4.6    4.9       6.1       6.1        6.6   \n",
       "\n",
       "            금속    oil  \n",
       "0  7202.509750  25.75  \n",
       "1  6641.324150  26.50  \n",
       "2  6843.049220  26.75  \n",
       "3  6878.711003  26.60  \n",
       "4  7012.097592  25.85  "
      ]
     },
     "execution_count": 24,
     "metadata": {},
     "output_type": "execute_result"
    }
   ],
   "source": [
    "m_4=m[['브랜트유 가격','원유 WTI']]\n",
    "oil=[]\n",
    "for i in range(m_4.shape[0]):\n",
    "    a=(m_4.iloc[i,0]+m_4.iloc[i,1])/2\n",
    "    oil.append(a)\n",
    "oil=pd.DataFrame(oil)\n",
    "market['oil']=oil\n",
    "market=market.drop(m_4, axis=1)\n",
    "market.head()"
   ]
  },
  {
   "cell_type": "markdown",
   "metadata": {},
   "source": [
    "## 나머지 변수들에도 PCA 수행"
   ]
  },
  {
   "cell_type": "code",
   "execution_count": 26,
   "metadata": {},
   "outputs": [
    {
     "name": "stdout",
     "output_type": "stream",
     "text": [
      "PCA component 별 변동성: [0.9335029]\n",
      "[[0.66895425]\n",
      " [0.61128065]\n",
      " [0.42289027]]\n"
     ]
    }
   ],
   "source": [
    "m_2=m[['미국1년','미국3년','미국10년']]\n",
    "m2_=pca.fit(m_2)\n",
    "print('PCA component 별 변동성:', pca.explained_variance_ratio_)\n",
    "print(pca.components_.T)\n",
    "pca.components_.T.shape\n",
    "m_2pc=m2_.components_.T.reshape(1,3)"
   ]
  },
  {
   "cell_type": "code",
   "execution_count": 28,
   "metadata": {},
   "outputs": [],
   "source": [
    "미국n년=[]\n",
    "for i in range(m_2.shape[0]):\n",
    "    a=m_2pc[0,0]*m_2.iloc[i,0]\n",
    "    b=m_2pc[0,1]*m_2.iloc[i,1]\n",
    "    c=m_2pc[0,2]*m_2.iloc[i,2]\n",
    "    미국n년.append(a+b+c)\n",
    "미국n년=pd.DataFrame(미국n년)\n",
    "market=market.drop(m_2,axis=1)\n",
    "market['미국n년']=미국n년"
   ]
  },
  {
   "cell_type": "code",
   "execution_count": 29,
   "metadata": {},
   "outputs": [
    {
     "data": {
      "text/html": [
       "<div>\n",
       "<style scoped>\n",
       "    .dataframe tbody tr th:only-of-type {\n",
       "        vertical-align: middle;\n",
       "    }\n",
       "\n",
       "    .dataframe tbody tr th {\n",
       "        vertical-align: top;\n",
       "    }\n",
       "\n",
       "    .dataframe thead th {\n",
       "        text-align: right;\n",
       "    }\n",
       "</style>\n",
       "<table border=\"1\" class=\"dataframe\">\n",
       "  <thead>\n",
       "    <tr style=\"text-align: right;\">\n",
       "      <th></th>\n",
       "      <th>날짜</th>\n",
       "      <th>금괴(일간)</th>\n",
       "      <th>국고채권(1년)</th>\n",
       "      <th>국고채권(3년)</th>\n",
       "      <th>국고채권(10년)</th>\n",
       "      <th>금속</th>\n",
       "      <th>oil</th>\n",
       "      <th>미국n년</th>\n",
       "    </tr>\n",
       "  </thead>\n",
       "  <tbody>\n",
       "    <tr>\n",
       "      <th>0</th>\n",
       "      <td>2001-01-02</td>\n",
       "      <td>270.6</td>\n",
       "      <td>6.7</td>\n",
       "      <td>6.7</td>\n",
       "      <td>7.2</td>\n",
       "      <td>7202.509750</td>\n",
       "      <td>25.75</td>\n",
       "      <td>8.484872</td>\n",
       "    </tr>\n",
       "    <tr>\n",
       "      <th>1</th>\n",
       "      <td>2001-01-03</td>\n",
       "      <td>267.5</td>\n",
       "      <td>6.6</td>\n",
       "      <td>6.6</td>\n",
       "      <td>7.2</td>\n",
       "      <td>6641.324150</td>\n",
       "      <td>26.50</td>\n",
       "      <td>8.605971</td>\n",
       "    </tr>\n",
       "    <tr>\n",
       "      <th>2</th>\n",
       "      <td>2001-01-04</td>\n",
       "      <td>267.7</td>\n",
       "      <td>6.4</td>\n",
       "      <td>6.4</td>\n",
       "      <td>6.9</td>\n",
       "      <td>6843.049220</td>\n",
       "      <td>26.75</td>\n",
       "      <td>8.326474</td>\n",
       "    </tr>\n",
       "    <tr>\n",
       "      <th>3</th>\n",
       "      <td>2001-01-05</td>\n",
       "      <td>268.2</td>\n",
       "      <td>6.2</td>\n",
       "      <td>6.2</td>\n",
       "      <td>6.7</td>\n",
       "      <td>6878.711003</td>\n",
       "      <td>26.60</td>\n",
       "      <td>7.961243</td>\n",
       "    </tr>\n",
       "    <tr>\n",
       "      <th>4</th>\n",
       "      <td>2001-01-08</td>\n",
       "      <td>268.3</td>\n",
       "      <td>6.1</td>\n",
       "      <td>6.1</td>\n",
       "      <td>6.6</td>\n",
       "      <td>7012.097592</td>\n",
       "      <td>25.85</td>\n",
       "      <td>7.961243</td>\n",
       "    </tr>\n",
       "  </tbody>\n",
       "</table>\n",
       "</div>"
      ],
      "text/plain": [
       "           날짜  금괴(일간)  국고채권(1년)  국고채권(3년)  국고채권(10년)           금속    oil  \\\n",
       "0  2001-01-02   270.6       6.7       6.7        7.2  7202.509750  25.75   \n",
       "1  2001-01-03   267.5       6.6       6.6        7.2  6641.324150  26.50   \n",
       "2  2001-01-04   267.7       6.4       6.4        6.9  6843.049220  26.75   \n",
       "3  2001-01-05   268.2       6.2       6.2        6.7  6878.711003  26.60   \n",
       "4  2001-01-08   268.3       6.1       6.1        6.6  7012.097592  25.85   \n",
       "\n",
       "       미국n년  \n",
       "0  8.484872  \n",
       "1  8.605971  \n",
       "2  8.326474  \n",
       "3  7.961243  \n",
       "4  7.961243  "
      ]
     },
     "execution_count": 29,
     "metadata": {},
     "output_type": "execute_result"
    }
   ],
   "source": [
    "market.head()"
   ]
  },
  {
   "cell_type": "code",
   "execution_count": 30,
   "metadata": {},
   "outputs": [
    {
     "name": "stdout",
     "output_type": "stream",
     "text": [
      "PCA component 별 변동성: [0.9702223]\n",
      "[[0.54440254]\n",
      " [0.57661956]\n",
      " [0.60920912]]\n"
     ]
    }
   ],
   "source": [
    "m_3=m[['국고채권(1년)','국고채권(3년)','국고채권(10년)']]\n",
    "m3_=pca.fit(m_3)\n",
    "print('PCA component 별 변동성:', pca.explained_variance_ratio_)\n",
    "print(pca.components_.T)\n",
    "pca.components_.T.shape\n",
    "m_3pc=m3_.components_.T.reshape(1,3)"
   ]
  },
  {
   "cell_type": "code",
   "execution_count": 31,
   "metadata": {},
   "outputs": [],
   "source": [
    "국고=[]\n",
    "for i in range(m_3.shape[0]):\n",
    "    a=m_3pc[0,0]*m_3.iloc[i,0]\n",
    "    b=m_3pc[0,1]*m_3.iloc[i,1]\n",
    "    c=m_3pc[0,2]*m_3.iloc[i,2]\n",
    "    국고.append(a+b+c)\n",
    "국고=pd.DataFrame(국고)\n",
    "market=market.drop(m_3,axis=1)\n",
    "market['국고채권(n년)']=국고"
   ]
  },
  {
   "cell_type": "markdown",
   "metadata": {},
   "source": [
    "## 모두 수행 후 소수점 첫째자리까지만 남도록"
   ]
  },
  {
   "cell_type": "code",
   "execution_count": 32,
   "metadata": {},
   "outputs": [],
   "source": [
    "market=market.round(1)"
   ]
  },
  {
   "cell_type": "code",
   "execution_count": 33,
   "metadata": {},
   "outputs": [
    {
     "data": {
      "text/html": [
       "<div>\n",
       "<style scoped>\n",
       "    .dataframe tbody tr th:only-of-type {\n",
       "        vertical-align: middle;\n",
       "    }\n",
       "\n",
       "    .dataframe tbody tr th {\n",
       "        vertical-align: top;\n",
       "    }\n",
       "\n",
       "    .dataframe thead th {\n",
       "        text-align: right;\n",
       "    }\n",
       "</style>\n",
       "<table border=\"1\" class=\"dataframe\">\n",
       "  <thead>\n",
       "    <tr style=\"text-align: right;\">\n",
       "      <th></th>\n",
       "      <th>날짜</th>\n",
       "      <th>금괴(일간)</th>\n",
       "      <th>금속</th>\n",
       "      <th>oil</th>\n",
       "      <th>미국n년</th>\n",
       "      <th>국고채권(n년)</th>\n",
       "    </tr>\n",
       "  </thead>\n",
       "  <tbody>\n",
       "    <tr>\n",
       "      <th>0</th>\n",
       "      <td>2001-01-02</td>\n",
       "      <td>270.6</td>\n",
       "      <td>7202.5</td>\n",
       "      <td>25.8</td>\n",
       "      <td>8.5</td>\n",
       "      <td>11.9</td>\n",
       "    </tr>\n",
       "    <tr>\n",
       "      <th>1</th>\n",
       "      <td>2001-01-03</td>\n",
       "      <td>267.5</td>\n",
       "      <td>6641.3</td>\n",
       "      <td>26.5</td>\n",
       "      <td>8.6</td>\n",
       "      <td>11.8</td>\n",
       "    </tr>\n",
       "    <tr>\n",
       "      <th>2</th>\n",
       "      <td>2001-01-04</td>\n",
       "      <td>267.7</td>\n",
       "      <td>6843.0</td>\n",
       "      <td>26.8</td>\n",
       "      <td>8.3</td>\n",
       "      <td>11.4</td>\n",
       "    </tr>\n",
       "    <tr>\n",
       "      <th>3</th>\n",
       "      <td>2001-01-05</td>\n",
       "      <td>268.2</td>\n",
       "      <td>6878.7</td>\n",
       "      <td>26.6</td>\n",
       "      <td>8.0</td>\n",
       "      <td>11.0</td>\n",
       "    </tr>\n",
       "    <tr>\n",
       "      <th>4</th>\n",
       "      <td>2001-01-08</td>\n",
       "      <td>268.3</td>\n",
       "      <td>7012.1</td>\n",
       "      <td>25.8</td>\n",
       "      <td>8.0</td>\n",
       "      <td>10.9</td>\n",
       "    </tr>\n",
       "  </tbody>\n",
       "</table>\n",
       "</div>"
      ],
      "text/plain": [
       "           날짜  금괴(일간)      금속   oil  미국n년  국고채권(n년)\n",
       "0  2001-01-02   270.6  7202.5  25.8   8.5      11.9\n",
       "1  2001-01-03   267.5  6641.3  26.5   8.6      11.8\n",
       "2  2001-01-04   267.7  6843.0  26.8   8.3      11.4\n",
       "3  2001-01-05   268.2  6878.7  26.6   8.0      11.0\n",
       "4  2001-01-08   268.3  7012.1  25.8   8.0      10.9"
      ]
     },
     "execution_count": 33,
     "metadata": {},
     "output_type": "execute_result"
    }
   ],
   "source": [
    "market.head()"
   ]
  },
  {
   "cell_type": "code",
   "execution_count": 96,
   "metadata": {},
   "outputs": [],
   "source": [
    "market.to_csv('market_pca_final.csv', encoding='euc-kr')"
   ]
  },
  {
   "cell_type": "code",
   "execution_count": null,
   "metadata": {},
   "outputs": [],
   "source": []
  }
 ],
 "metadata": {
  "kernelspec": {
   "display_name": "Python 3",
   "language": "python",
   "name": "python3"
  },
  "language_info": {
   "codemirror_mode": {
    "name": "ipython",
    "version": 3
   },
   "file_extension": ".py",
   "mimetype": "text/x-python",
   "name": "python",
   "nbconvert_exporter": "python",
   "pygments_lexer": "ipython3",
   "version": "3.7.3"
  }
 },
 "nbformat": 4,
 "nbformat_minor": 2
}
