{
 "cells": [
  {
   "cell_type": "markdown",
   "metadata": {},
   "source": [
    "# 05. Time Series Regression and Classification\n",
    "- Time Series 데이터의 특징을 반영하여 Regression으로 Target 변수인 **5일 후(t+5시점) 지수종가**를 예측하고 t시점의 지수종가와 비교하여 Classification 문제로 반환한다.\n",
    "\n",
    "## 2. GRU Model"
   ]
  },
  {
   "cell_type": "code",
   "execution_count": 1,
   "metadata": {},
   "outputs": [
    {
     "name": "stderr",
     "output_type": "stream",
     "text": [
      "Using TensorFlow backend.\n"
     ]
    }
   ],
   "source": [
    "import pandas as pd\n",
    "import numpy as np\n",
    "import matplotlib.pyplot as plt\n",
    "import matplotlib.pylab as plb\n",
    "from encodings import euc_kr\n",
    "import seaborn as sns\n",
    "import tensorflow as tf\n",
    "from sklearn import preprocessing\n",
    "from sklearn.metrics import mean_squared_error\n",
    "from keras.models import Sequential\n",
    "from tensorflow.keras.layers import Dense,Dropout\n",
    "from tensorflow.keras.layers import LSTM\n",
    "from keras.layers import Dropout\n",
    "from keras.utils import to_categorical\n",
    "\n",
    "np.random.seed(777)"
   ]
  },
  {
   "cell_type": "code",
   "execution_count": 2,
   "metadata": {},
   "outputs": [],
   "source": [
    "final = pd.read_csv('./final_merge.csv',encoding = 'euc-kr')\n",
    "kospi = pd.read_csv('./data/kospi_국면분석.csv',encoding = 'euc-kr')\n",
    "final_eco = pd.read_csv('./f_with_e2.csv',encoding = 'euc-kr')"
   ]
  },
  {
   "cell_type": "code",
   "execution_count": 3,
   "metadata": {},
   "outputs": [],
   "source": [
    "#지수만 있는 버전\n",
    "kospi_add = kospi[['날짜','지수시가','지수저가','지수고가']]"
   ]
  },
  {
   "cell_type": "code",
   "execution_count": 4,
   "metadata": {},
   "outputs": [
    {
     "data": {
      "text/html": [
       "<div>\n",
       "<style scoped>\n",
       "    .dataframe tbody tr th:only-of-type {\n",
       "        vertical-align: middle;\n",
       "    }\n",
       "\n",
       "    .dataframe tbody tr th {\n",
       "        vertical-align: top;\n",
       "    }\n",
       "\n",
       "    .dataframe thead th {\n",
       "        text-align: right;\n",
       "    }\n",
       "</style>\n",
       "<table border=\"1\" class=\"dataframe\">\n",
       "  <thead>\n",
       "    <tr style=\"text-align: right;\">\n",
       "      <th></th>\n",
       "      <th>날짜</th>\n",
       "      <th>지수종가</th>\n",
       "      <th>거래대금</th>\n",
       "      <th>상장주식수</th>\n",
       "      <th>시가총액</th>\n",
       "      <th>외국인보유주식수</th>\n",
       "      <th>외국인보유시가총액</th>\n",
       "      <th>신용거래종목수</th>\n",
       "      <th>신용자료일자</th>\n",
       "      <th>회사수</th>\n",
       "      <th>...</th>\n",
       "      <th>제조업내수출하지수(원지수)</th>\n",
       "      <th>제조업생산-제조업</th>\n",
       "      <th>제조업생산출하-제조업</th>\n",
       "      <th>코스피지수(1980.1.4=100)(선행)</th>\n",
       "      <th>필라델피아연준지수[미국]</th>\n",
       "      <th>후행종합지수(2015=100)</th>\n",
       "      <th>Y</th>\n",
       "      <th>지수시가</th>\n",
       "      <th>지수저가</th>\n",
       "      <th>지수고가</th>\n",
       "    </tr>\n",
       "  </thead>\n",
       "  <tbody>\n",
       "    <tr>\n",
       "      <th>0</th>\n",
       "      <td>2001-01-02</td>\n",
       "      <td>520.95</td>\n",
       "      <td>1223328</td>\n",
       "      <td>19638887</td>\n",
       "      <td>191252891</td>\n",
       "      <td>2723222</td>\n",
       "      <td>58238292</td>\n",
       "      <td>746.0</td>\n",
       "      <td>20010102.0</td>\n",
       "      <td>704</td>\n",
       "      <td>...</td>\n",
       "      <td>64.962</td>\n",
       "      <td>48.36</td>\n",
       "      <td>51.915</td>\n",
       "      <td>551.8</td>\n",
       "      <td>-36.2</td>\n",
       "      <td>54.7</td>\n",
       "      <td>상승</td>\n",
       "      <td>503.31</td>\n",
       "      <td>500.97</td>\n",
       "      <td>521.34</td>\n",
       "    </tr>\n",
       "    <tr>\n",
       "      <th>1</th>\n",
       "      <td>2001-01-03</td>\n",
       "      <td>521.43</td>\n",
       "      <td>1583403</td>\n",
       "      <td>19633559</td>\n",
       "      <td>191363161</td>\n",
       "      <td>2727918</td>\n",
       "      <td>58249739</td>\n",
       "      <td>746.0</td>\n",
       "      <td>20010102.0</td>\n",
       "      <td>704</td>\n",
       "      <td>...</td>\n",
       "      <td>64.962</td>\n",
       "      <td>48.36</td>\n",
       "      <td>51.915</td>\n",
       "      <td>551.8</td>\n",
       "      <td>-36.2</td>\n",
       "      <td>54.7</td>\n",
       "      <td>상승</td>\n",
       "      <td>512.74</td>\n",
       "      <td>510.70</td>\n",
       "      <td>524.58</td>\n",
       "    </tr>\n",
       "    <tr>\n",
       "      <th>2</th>\n",
       "      <td>2001-01-04</td>\n",
       "      <td>558.02</td>\n",
       "      <td>2984761</td>\n",
       "      <td>19634734</td>\n",
       "      <td>204074166</td>\n",
       "      <td>2735566</td>\n",
       "      <td>62823637</td>\n",
       "      <td>746.0</td>\n",
       "      <td>20010102.0</td>\n",
       "      <td>704</td>\n",
       "      <td>...</td>\n",
       "      <td>64.962</td>\n",
       "      <td>48.36</td>\n",
       "      <td>51.915</td>\n",
       "      <td>551.8</td>\n",
       "      <td>-36.2</td>\n",
       "      <td>54.7</td>\n",
       "      <td>상승</td>\n",
       "      <td>551.53</td>\n",
       "      <td>550.91</td>\n",
       "      <td>567.16</td>\n",
       "    </tr>\n",
       "    <tr>\n",
       "      <th>3</th>\n",
       "      <td>2001-01-05</td>\n",
       "      <td>580.85</td>\n",
       "      <td>3569582</td>\n",
       "      <td>19637038</td>\n",
       "      <td>212089180</td>\n",
       "      <td>2747453</td>\n",
       "      <td>65820417</td>\n",
       "      <td>746.0</td>\n",
       "      <td>20010103.0</td>\n",
       "      <td>704</td>\n",
       "      <td>...</td>\n",
       "      <td>64.962</td>\n",
       "      <td>48.36</td>\n",
       "      <td>51.915</td>\n",
       "      <td>551.8</td>\n",
       "      <td>-36.2</td>\n",
       "      <td>54.7</td>\n",
       "      <td>상승</td>\n",
       "      <td>559.54</td>\n",
       "      <td>555.40</td>\n",
       "      <td>581.41</td>\n",
       "    </tr>\n",
       "    <tr>\n",
       "      <th>4</th>\n",
       "      <td>2001-01-08</td>\n",
       "      <td>586.65</td>\n",
       "      <td>2948092</td>\n",
       "      <td>19630735</td>\n",
       "      <td>214231273</td>\n",
       "      <td>2751599</td>\n",
       "      <td>66348238</td>\n",
       "      <td>746.0</td>\n",
       "      <td>20010104.0</td>\n",
       "      <td>704</td>\n",
       "      <td>...</td>\n",
       "      <td>64.962</td>\n",
       "      <td>48.36</td>\n",
       "      <td>51.915</td>\n",
       "      <td>551.8</td>\n",
       "      <td>-36.2</td>\n",
       "      <td>54.7</td>\n",
       "      <td>상승</td>\n",
       "      <td>573.72</td>\n",
       "      <td>572.48</td>\n",
       "      <td>587.91</td>\n",
       "    </tr>\n",
       "  </tbody>\n",
       "</table>\n",
       "<p>5 rows × 96 columns</p>\n",
       "</div>"
      ],
      "text/plain": [
       "           날짜    지수종가     거래대금     상장주식수       시가총액  외국인보유주식수  외국인보유시가총액  \\\n",
       "0  2001-01-02  520.95  1223328  19638887  191252891   2723222   58238292   \n",
       "1  2001-01-03  521.43  1583403  19633559  191363161   2727918   58249739   \n",
       "2  2001-01-04  558.02  2984761  19634734  204074166   2735566   62823637   \n",
       "3  2001-01-05  580.85  3569582  19637038  212089180   2747453   65820417   \n",
       "4  2001-01-08  586.65  2948092  19630735  214231273   2751599   66348238   \n",
       "\n",
       "   신용거래종목수      신용자료일자  회사수  ...  제조업내수출하지수(원지수)  제조업생산-제조업  제조업생산출하-제조업  \\\n",
       "0    746.0  20010102.0  704  ...          64.962      48.36       51.915   \n",
       "1    746.0  20010102.0  704  ...          64.962      48.36       51.915   \n",
       "2    746.0  20010102.0  704  ...          64.962      48.36       51.915   \n",
       "3    746.0  20010103.0  704  ...          64.962      48.36       51.915   \n",
       "4    746.0  20010104.0  704  ...          64.962      48.36       51.915   \n",
       "\n",
       "   코스피지수(1980.1.4=100)(선행)  필라델피아연준지수[미국]  후행종합지수(2015=100)   Y    지수시가  \\\n",
       "0                    551.8          -36.2              54.7  상승  503.31   \n",
       "1                    551.8          -36.2              54.7  상승  512.74   \n",
       "2                    551.8          -36.2              54.7  상승  551.53   \n",
       "3                    551.8          -36.2              54.7  상승  559.54   \n",
       "4                    551.8          -36.2              54.7  상승  573.72   \n",
       "\n",
       "     지수저가    지수고가  \n",
       "0  500.97  521.34  \n",
       "1  510.70  524.58  \n",
       "2  550.91  567.16  \n",
       "3  555.40  581.41  \n",
       "4  572.48  587.91  \n",
       "\n",
       "[5 rows x 96 columns]"
      ]
     },
     "execution_count": 4,
     "metadata": {},
     "output_type": "execute_result"
    }
   ],
   "source": [
    "Final = final_eco.merge(kospi_add,how = 'left',on = '날짜')\n",
    "Final.head()"
   ]
  },
  {
   "cell_type": "code",
   "execution_count": 5,
   "metadata": {},
   "outputs": [
    {
     "data": {
      "text/html": [
       "<div>\n",
       "<style scoped>\n",
       "    .dataframe tbody tr th:only-of-type {\n",
       "        vertical-align: middle;\n",
       "    }\n",
       "\n",
       "    .dataframe tbody tr th {\n",
       "        vertical-align: top;\n",
       "    }\n",
       "\n",
       "    .dataframe thead th {\n",
       "        text-align: right;\n",
       "    }\n",
       "</style>\n",
       "<table border=\"1\" class=\"dataframe\">\n",
       "  <thead>\n",
       "    <tr style=\"text-align: right;\">\n",
       "      <th></th>\n",
       "      <th>날짜</th>\n",
       "      <th>지수종가</th>\n",
       "      <th>거래대금</th>\n",
       "      <th>상장주식수</th>\n",
       "      <th>시가총액</th>\n",
       "      <th>외국인보유주식수</th>\n",
       "      <th>외국인보유시가총액</th>\n",
       "      <th>신용거래종목수</th>\n",
       "      <th>신용자료일자</th>\n",
       "      <th>회사수</th>\n",
       "      <th>...</th>\n",
       "      <th>금속</th>\n",
       "      <th>oil</th>\n",
       "      <th>미국n년</th>\n",
       "      <th>국고채권(n년)</th>\n",
       "      <th>USD</th>\n",
       "      <th>EUR</th>\n",
       "      <th>CNY</th>\n",
       "      <th>JPY</th>\n",
       "      <th>GBP</th>\n",
       "      <th>5일후 지수종가</th>\n",
       "    </tr>\n",
       "  </thead>\n",
       "  <tbody>\n",
       "    <tr>\n",
       "      <th>0</th>\n",
       "      <td>2001-01-02</td>\n",
       "      <td>520.95</td>\n",
       "      <td>1223328</td>\n",
       "      <td>19638887</td>\n",
       "      <td>191252891</td>\n",
       "      <td>2723222</td>\n",
       "      <td>58238292</td>\n",
       "      <td>746.0</td>\n",
       "      <td>20010102.0</td>\n",
       "      <td>704</td>\n",
       "      <td>...</td>\n",
       "      <td>7202.5</td>\n",
       "      <td>25.8</td>\n",
       "      <td>8.5</td>\n",
       "      <td>11.9</td>\n",
       "      <td>1259.7</td>\n",
       "      <td>1185.38</td>\n",
       "      <td>152.19</td>\n",
       "      <td>1099.07</td>\n",
       "      <td>1885.02</td>\n",
       "      <td>589.92</td>\n",
       "    </tr>\n",
       "    <tr>\n",
       "      <th>1</th>\n",
       "      <td>2001-01-03</td>\n",
       "      <td>521.43</td>\n",
       "      <td>1583403</td>\n",
       "      <td>19633559</td>\n",
       "      <td>191363161</td>\n",
       "      <td>2727918</td>\n",
       "      <td>58249739</td>\n",
       "      <td>746.0</td>\n",
       "      <td>20010102.0</td>\n",
       "      <td>704</td>\n",
       "      <td>...</td>\n",
       "      <td>6641.3</td>\n",
       "      <td>26.5</td>\n",
       "      <td>8.6</td>\n",
       "      <td>11.8</td>\n",
       "      <td>1267.8</td>\n",
       "      <td>1205.49</td>\n",
       "      <td>153.15</td>\n",
       "      <td>1108.07</td>\n",
       "      <td>1903.35</td>\n",
       "      <td>560.81</td>\n",
       "    </tr>\n",
       "    <tr>\n",
       "      <th>2</th>\n",
       "      <td>2001-01-04</td>\n",
       "      <td>558.02</td>\n",
       "      <td>2984761</td>\n",
       "      <td>19634734</td>\n",
       "      <td>204074166</td>\n",
       "      <td>2735566</td>\n",
       "      <td>62823637</td>\n",
       "      <td>746.0</td>\n",
       "      <td>20010102.0</td>\n",
       "      <td>704</td>\n",
       "      <td>...</td>\n",
       "      <td>6843.0</td>\n",
       "      <td>26.8</td>\n",
       "      <td>8.3</td>\n",
       "      <td>11.4</td>\n",
       "      <td>1285.4</td>\n",
       "      <td>1193.24</td>\n",
       "      <td>155.29</td>\n",
       "      <td>1128.53</td>\n",
       "      <td>1914.15</td>\n",
       "      <td>561.79</td>\n",
       "    </tr>\n",
       "    <tr>\n",
       "      <th>3</th>\n",
       "      <td>2001-01-05</td>\n",
       "      <td>580.85</td>\n",
       "      <td>3569582</td>\n",
       "      <td>19637038</td>\n",
       "      <td>212089180</td>\n",
       "      <td>2747453</td>\n",
       "      <td>65820417</td>\n",
       "      <td>746.0</td>\n",
       "      <td>20010103.0</td>\n",
       "      <td>704</td>\n",
       "      <td>...</td>\n",
       "      <td>6878.7</td>\n",
       "      <td>26.6</td>\n",
       "      <td>8.0</td>\n",
       "      <td>11.0</td>\n",
       "      <td>1249.3</td>\n",
       "      <td>1190.90</td>\n",
       "      <td>150.92</td>\n",
       "      <td>1078.01</td>\n",
       "      <td>1876.82</td>\n",
       "      <td>587.87</td>\n",
       "    </tr>\n",
       "    <tr>\n",
       "      <th>4</th>\n",
       "      <td>2001-01-08</td>\n",
       "      <td>586.65</td>\n",
       "      <td>2948092</td>\n",
       "      <td>19630735</td>\n",
       "      <td>214231273</td>\n",
       "      <td>2751599</td>\n",
       "      <td>66348238</td>\n",
       "      <td>746.0</td>\n",
       "      <td>20010104.0</td>\n",
       "      <td>704</td>\n",
       "      <td>...</td>\n",
       "      <td>7012.1</td>\n",
       "      <td>25.8</td>\n",
       "      <td>8.0</td>\n",
       "      <td>10.9</td>\n",
       "      <td>1267.8</td>\n",
       "      <td>1215.06</td>\n",
       "      <td>153.16</td>\n",
       "      <td>1088.71</td>\n",
       "      <td>1906.33</td>\n",
       "      <td>599.00</td>\n",
       "    </tr>\n",
       "  </tbody>\n",
       "</table>\n",
       "<p>5 rows × 40 columns</p>\n",
       "</div>"
      ],
      "text/plain": [
       "           날짜    지수종가     거래대금     상장주식수       시가총액  외국인보유주식수  외국인보유시가총액  \\\n",
       "0  2001-01-02  520.95  1223328  19638887  191252891   2723222   58238292   \n",
       "1  2001-01-03  521.43  1583403  19633559  191363161   2727918   58249739   \n",
       "2  2001-01-04  558.02  2984761  19634734  204074166   2735566   62823637   \n",
       "3  2001-01-05  580.85  3569582  19637038  212089180   2747453   65820417   \n",
       "4  2001-01-08  586.65  2948092  19630735  214231273   2751599   66348238   \n",
       "\n",
       "   신용거래종목수      신용자료일자  회사수  ...      금속   oil  미국n년  국고채권(n년)     USD  \\\n",
       "0    746.0  20010102.0  704  ...  7202.5  25.8   8.5      11.9  1259.7   \n",
       "1    746.0  20010102.0  704  ...  6641.3  26.5   8.6      11.8  1267.8   \n",
       "2    746.0  20010102.0  704  ...  6843.0  26.8   8.3      11.4  1285.4   \n",
       "3    746.0  20010103.0  704  ...  6878.7  26.6   8.0      11.0  1249.3   \n",
       "4    746.0  20010104.0  704  ...  7012.1  25.8   8.0      10.9  1267.8   \n",
       "\n",
       "       EUR     CNY      JPY      GBP  5일후 지수종가  \n",
       "0  1185.38  152.19  1099.07  1885.02    589.92  \n",
       "1  1205.49  153.15  1108.07  1903.35    560.81  \n",
       "2  1193.24  155.29  1128.53  1914.15    561.79  \n",
       "3  1190.90  150.92  1078.01  1876.82    587.87  \n",
       "4  1215.06  153.16  1088.71  1906.33    599.00  \n",
       "\n",
       "[5 rows x 40 columns]"
      ]
     },
     "execution_count": 5,
     "metadata": {},
     "output_type": "execute_result"
    }
   ],
   "source": [
    "final_eco = final.drop(['Unnamed: 0','Y'],axis = 1)\n",
    "final_eco['5일후 지수종가'] = final_eco['지수종가'].shift(-5)\n",
    "final_eco.head()"
   ]
  },
  {
   "cell_type": "code",
   "execution_count": 6,
   "metadata": {},
   "outputs": [],
   "source": [
    "# '날짜' 변수를 datetime 타입으로 변환하고 index로 사용하기\n",
    "# 잠시만 안녕\n",
    "#data1['날짜'] = pd.to_datetime(data1['날짜'],format = '%Y/%m/%d')\n",
    "#col_name = data1.drop('날짜',axis = 1).columns\n",
    "#data = data1.set_index('날짜').dropna()\n",
    "#values = data.values #dataframe형태를 array로 변환한 ver.\n",
    "\n",
    "final_eco['날짜'] = pd.to_datetime(final_eco['날짜'],format = '%Y/%m/%d')\n",
    "col_name = final_eco.drop('날짜',axis = 1).columns\n",
    "data = final_eco.set_index('날짜').dropna()\n",
    "values = data.values #dataframe형태를 array로 변환한 ver."
   ]
  },
  {
   "cell_type": "code",
   "execution_count": 7,
   "metadata": {},
   "outputs": [
    {
     "name": "stdout",
     "output_type": "stream",
     "text": [
      "(4444, 39)\n",
      "(4444, 39)\n"
     ]
    }
   ],
   "source": [
    "# scaling - minmax\n",
    "scaler = preprocessing.MinMaxScaler(feature_range = (0, 1))\n",
    "data_scaled = scaler.fit_transform(values)\n",
    "data_scaled = pd.DataFrame(data_scaled,columns = col_name)\n",
    "print(data_scaled.shape) ##(4276,95)\n",
    "values = data_scaled.values\n",
    "print(values.shape) ##(4276,95)"
   ]
  },
  {
   "cell_type": "code",
   "execution_count": 8,
   "metadata": {},
   "outputs": [
    {
     "name": "stdout",
     "output_type": "stream",
     "text": [
      "(3962, 1, 38) (3962, 1)\n",
      "(482, 1, 38) (482, 1)\n"
     ]
    },
    {
     "data": {
      "text/plain": [
       "[<matplotlib.lines.Line2D at 0x253ac31a9e8>]"
      ]
     },
     "execution_count": 8,
     "metadata": {},
     "output_type": "execute_result"
    },
    {
     "data": {
      "image/png": "[encoded data removed]",
      "text/plain": [
       "<Figure size 432x288 with 1 Axes>"
      ]
     },
     "metadata": {
      "needs_background": "light"
     },
     "output_type": "display_data"
    }
   ],
   "source": [
    "# train / test 나누기\n",
    "#data[data['날짜']=='2017-01-02'] #3962\n",
    "#values = reframed.values #(4443, 78) \n",
    "#print(values.shape)\n",
    "train_frame = values[:3962,:] ##불포함 3802\n",
    "test_frame = values[3962:,:]\n",
    "\n",
    "# array로 변환\n",
    "#train = train_frame.values\n",
    "#test = test_frame.values\n",
    "\n",
    "# 데이터셋 생성\n",
    "#look_back = 100\n",
    "\n",
    "#trainX, trainY = build_dataset(train_frame, seq_length)\n",
    "#testX, testY = build_dataset(train_frame, seq_length)\n",
    "\n",
    "train_X, train_y = train_frame[:, 1:], train_frame[:, 0] # (3802,1,94) (3802,1)\n",
    "test_X, test_y = test_frame[:, 1:], test_frame[:, 0] # (474,1,94) (474,1)\n",
    "\n",
    "# 3차원으로 변환(LSTM input 형식에 맞추기)\n",
    "train_X = train_X.reshape(train_X.shape[0],1,train_X.shape[1])\n",
    "train_y = train_y.reshape(train_y.shape[0],1)\n",
    "test_X = test_X.reshape(test_X.shape[0],1,test_X.shape[1])\n",
    "test_y = test_y.reshape(test_y.shape[0],1)\n",
    "print(train_X.shape,train_y.shape) # (3802,1,94) (3802,1)\n",
    "print(test_X.shape,test_y.shape) # (474,1,94) (474,1)\n",
    "plt.plot(test_y)"
   ]
  },
  {
   "cell_type": "markdown",
   "metadata": {},
   "source": [
    "## GRU\n",
    "### (1) batch_size = 140 / iterations = 5000 / hidden layers = 20 / activation = leaky-ReLU"
   ]
  },
  {
   "cell_type": "code",
   "execution_count": 9,
   "metadata": {},
   "outputs": [
    {
     "name": "stdout",
     "output_type": "stream",
     "text": [
      "3962\n",
      "38\n",
      "1\n",
      "140\n"
     ]
    }
   ],
   "source": [
    "seq_length = train_X.shape[0] ;print(seq_length) ##3802\n",
    "data_dim = train_X.shape[2]; print(data_dim) ##94\n",
    "output_dim = train_y.shape[1]; print(output_dim) ##1\n",
    "batch_size = 140 ; print(batch_size) ##14\n",
    "iterations = 5000"
   ]
  },
  {
   "cell_type": "code",
   "execution_count": 11,
   "metadata": {},
   "outputs": [
    {
     "name": "stdout",
     "output_type": "stream",
     "text": [
      "WARNING:tensorflow:From <ipython-input-11-0fb13c8f8e51>:11: dynamic_rnn (from tensorflow.python.ops.rnn) is deprecated and will be removed in a future version.\n",
      "Instructions for updating:\n",
      "Please use `keras.layers.RNN(cell)`, which is equivalent to this API\n",
      "WARNING:tensorflow:From C:\\Users\\genie\\Anaconda3\\lib\\site-packages\\tensorflow\\python\\ops\\tensor_array_ops.py:162: colocate_with (from tensorflow.python.framework.ops) is deprecated and will be removed in a future version.\n",
      "Instructions for updating:\n",
      "Colocations handled automatically by placer.\n",
      "Tensor(\"rnn/transpose_1:0\", shape=(?, ?, 20), dtype=float32) Tensor(\"rnn/while/Exit_3:0\", shape=(?, 20), dtype=float32)\n"
     ]
    }
   ],
   "source": [
    "tf.reset_default_graph()\n",
    "\n",
    "X = tf.placeholder(tf.float32,[None,None, data_dim])\n",
    "Y = tf.placeholder(tf.float32,[None,None])\n",
    "#print(X.shape,Y.shape)\n",
    "\n",
    "\n",
    "cell = tf.contrib.rnn.GRUCell(num_units = 20, activation=tf.nn.leaky_relu)\n",
    "#layers = [tf.contrib.rnn.GRUCell(num_units=n_neurons, activation=tf.nn.leaky_relu)\n",
    "#          for layer in range(n_layers)]\n",
    "outputs, _states = tf.nn.dynamic_rnn(cell,X,dtype = tf.float32) ; print(outputs,_states)\n",
    "Y_pred = tf.contrib.layers.fully_connected(outputs[:,-1],output_dim,activation_fn = None)\n",
    "\n",
    "loss = tf.reduce_sum(tf.square(Y_pred - Y))\n",
    "\n",
    "optimizer = tf.train.AdamOptimizer(0.01)\n",
    "train = optimizer.minimize(loss)\n",
    "\n",
    "m = tf.keras.metrics.Accuracy()\n",
    "\n",
    "# RMSE\n",
    "targets = tf.placeholder(tf.float32, [None,1])\n",
    "predictions = tf.placeholder(tf.float32, [None,1])\n",
    "rmse = tf.sqrt(tf.reduce_mean(tf.square(targets - predictions)))\n",
    "\n",
    "#model = Sequential()\n",
    "#model.add(LSTM(30, input_shape=(train_X.shape[1], 5)))\n",
    "#model.add(Dense(1))\n",
    "#model.compile(loss='mae', optimizer='adam')"
   ]
  },
  {
   "cell_type": "code",
   "execution_count": 12,
   "metadata": {},
   "outputs": [
    {
     "name": "stdout",
     "output_type": "stream",
     "text": [
      "[step: 0] loss: 1221.0924072265625\n",
      "[step: 100] loss: 2.0132100582122803\n",
      "[step: 200] loss: 1.3050799369812012\n",
      "[step: 300] loss: 1.0012298822402954\n",
      "[step: 400] loss: 0.7823354005813599\n",
      "[step: 500] loss: 0.6210416555404663\n",
      "[step: 600] loss: 0.5043148398399353\n",
      "[step: 700] loss: 0.4208769202232361\n",
      "[step: 800] loss: 0.36028003692626953\n",
      "[step: 900] loss: 0.31286734342575073\n",
      "[step: 1000] loss: 0.27656322717666626\n",
      "[step: 1100] loss: 0.2491617500782013\n",
      "[step: 1200] loss: 0.22685471177101135\n",
      "[step: 1300] loss: 0.2089555561542511\n",
      "[step: 1400] loss: 0.19331838190555573\n",
      "[step: 1500] loss: 0.17915917932987213\n",
      "[step: 1600] loss: 0.16592587530612946\n",
      "[step: 1700] loss: 0.15348036587238312\n",
      "[step: 1800] loss: 0.14157746732234955\n",
      "[step: 1900] loss: 0.13010762631893158\n",
      "[step: 2000] loss: 0.1191641166806221\n",
      "[step: 2100] loss: 0.10917655378580093\n",
      "[step: 2200] loss: 0.10752104967832565\n",
      "[step: 2300] loss: 0.0908852145075798\n",
      "[step: 2400] loss: 0.08223827928304672\n",
      "[step: 2500] loss: 0.11755380779504776\n",
      "[step: 2600] loss: 0.2417953461408615\n",
      "[step: 2700] loss: 0.3630531430244446\n",
      "[step: 2800] loss: 0.16977587342262268\n",
      "[step: 2900] loss: 0.07482987642288208\n",
      "[step: 3000] loss: 0.4701111912727356\n",
      "[step: 3100] loss: 0.26727062463760376\n",
      "[step: 3200] loss: 0.04710128530859947\n",
      "[step: 3300] loss: 0.04630359634757042\n",
      "[step: 3400] loss: 1.1553367376327515\n",
      "[step: 3500] loss: 0.042104415595531464\n",
      "[step: 3600] loss: 0.06567277759313583\n",
      "[step: 3700] loss: 0.03926050662994385\n",
      "[step: 3800] loss: 0.03859620913863182\n",
      "[step: 3900] loss: 0.04688320308923721\n",
      "[step: 4000] loss: 0.03603874146938324\n",
      "[step: 4100] loss: 0.035265982151031494\n",
      "[step: 4200] loss: 0.06525225192308426\n",
      "[step: 4300] loss: 0.03341297432780266\n",
      "[step: 4400] loss: 0.03342698886990547\n",
      "[step: 4500] loss: 0.1656707227230072\n",
      "[step: 4600] loss: 0.031181059777736664\n",
      "[step: 4700] loss: 0.03109341487288475\n",
      "[step: 4800] loss: 0.259812593460083\n",
      "[step: 4900] loss: 0.029599629342556\n",
      "RMSE: 0.02901034988462925\n"
     ]
    },
    {
     "data": {
      "image/png": "[encoded data removed]",
      "text/plain": [
       "<Figure size 432x288 with 1 Axes>"
      ]
     },
     "metadata": {
      "needs_background": "light"
     },
     "output_type": "display_data"
    }
   ],
   "source": [
    "with tf.Session() as sess:\n",
    "    init = tf.global_variables_initializer()\n",
    "    sess.run(init)\n",
    "\n",
    "    # Training step\n",
    "    for i in range(iterations):\n",
    "        _, step_loss = sess.run([train, loss], feed_dict={X: train_X, Y: train_y})\n",
    "        train_predict = sess.run(Y_pred, feed_dict={X: train_X})\n",
    "        m.update_state(train_y, train_predict)\n",
    "\n",
    "        if i%100==0:\n",
    "            print(\"[step: {}] loss: {}\".format(i, step_loss,))\n",
    "\n",
    "    # Test step\n",
    "    test_predict = sess.run(Y_pred, feed_dict={X: test_X})\n",
    "    rmse_val = sess.run(rmse, feed_dict={targets: test_y, predictions: test_predict})\n",
    "    print(\"RMSE: {}\".format(rmse_val))\n",
    "\n",
    "    # Plot predictions\n",
    "    plt.plot(test_y)\n",
    "    plt.plot(test_predict)\n",
    "    plt.show()"
   ]
  },
  {
   "cell_type": "code",
   "execution_count": 42,
   "metadata": {},
   "outputs": [
    {
     "data": {
      "text/plain": [
       "(482, 1)"
      ]
     },
     "execution_count": 42,
     "metadata": {},
     "output_type": "execute_result"
    }
   ],
   "source": [
    "test_y.shape ##(482,1)\n",
    "test_y.dtype ##float64\n",
    "test_predict.shape ##(482,1)\n",
    "test_predict.dtype ##float32\n",
    "\n",
    "#### 절대 다시 돌리지 말 것 ####\n",
    "pred_GRU_1 = test_predict\n",
    "pred_GRU_1.shape"
   ]
  },
  {
   "cell_type": "code",
   "execution_count": 43,
   "metadata": {},
   "outputs": [
    {
     "data": {
      "text/plain": [
       "(482, 1)"
      ]
     },
     "execution_count": 43,
     "metadata": {},
     "output_type": "execute_result"
    }
   ],
   "source": [
    "test_kospi = test_frame[:, 0].reshape(test_frame.shape[0],1)\n",
    "test_kospi.shape"
   ]
  },
  {
   "cell_type": "code",
   "execution_count": 81,
   "metadata": {},
   "outputs": [
    {
     "name": "stdout",
     "output_type": "stream",
     "text": [
      "accuracy: 0.42946058091286304  \n",
      "confusion matrix:\n",
      " [[184  30]\n",
      " [245  23]]\n",
      "f1: 0.14330218068535824\n"
     ]
    }
   ],
   "source": [
    "diff = test_predict - test_kospi #5일후 예측값 - t시점 지수종가\n",
    "prediction = diff >= 0 #True면 '상승' = 1 False면 '하락' = 0\n",
    "\n",
    "Y = kospi[['Y']]\n",
    "true = Y.iloc[3962:-5,0].values\n",
    "true = (true=='상승') #True면  1 = '상승' False면 0 = '하락'\n",
    "\n",
    "\n",
    "from sklearn.metrics import accuracy_score, confusion_matrix, f1_score\n",
    "print(\"accuracy: {}  \\nconfusion matrix:\\n {}\\nf1: {}\".format(accuracy_score(true, prediction), confusion_matrix(true, prediction), f1_score(true, prediction)))"
   ]
  },
  {
   "cell_type": "markdown",
   "metadata": {},
   "source": [
    "### (2) batch_size = 200 / iterations = 4000 / hidden layers = 30 / activation = leaky-ReLU"
   ]
  },
  {
   "cell_type": "code",
   "execution_count": 29,
   "metadata": {},
   "outputs": [
    {
     "name": "stdout",
     "output_type": "stream",
     "text": [
      "3962\n",
      "38\n",
      "1\n",
      "200\n"
     ]
    }
   ],
   "source": [
    "seq_length = train_X.shape[0] ;print(seq_length) ##3802\n",
    "data_dim = train_X.shape[2]; print(data_dim) ##94\n",
    "output_dim = train_y.shape[1]; print(output_dim) ##1\n",
    "batch_size = 200 ; print(batch_size) ##14\n",
    "iterations = 4000"
   ]
  },
  {
   "cell_type": "code",
   "execution_count": 30,
   "metadata": {},
   "outputs": [
    {
     "name": "stdout",
     "output_type": "stream",
     "text": [
      "Tensor(\"rnn/transpose_1:0\", shape=(?, ?, 30), dtype=float32) Tensor(\"rnn/while/Exit_3:0\", shape=(?, 30), dtype=float32)\n"
     ]
    }
   ],
   "source": [
    "tf.reset_default_graph()\n",
    "\n",
    "X = tf.placeholder(tf.float32,[None,None, data_dim])\n",
    "Y = tf.placeholder(tf.float32,[None,None])\n",
    "#print(X.shape,Y.shape)\n",
    "\n",
    "\n",
    "cell = tf.contrib.rnn.GRUCell(num_units = 30, activation=tf.nn.leaky_relu)\n",
    "#layers = [tf.contrib.rnn.GRUCell(num_units=n_neurons, activation=tf.nn.leaky_relu)\n",
    "#          for layer in range(n_layers)]\n",
    "outputs, _states = tf.nn.dynamic_rnn(cell,X,dtype = tf.float32) ; print(outputs,_states)\n",
    "Y_pred = tf.contrib.layers.fully_connected(outputs[:,-1],output_dim,activation_fn = None)\n",
    "\n",
    "loss = tf.reduce_sum(tf.square(Y_pred - Y))\n",
    "\n",
    "optimizer = tf.train.AdamOptimizer(0.01)\n",
    "train = optimizer.minimize(loss)\n",
    "\n",
    "m = tf.keras.metrics.Accuracy()\n",
    "\n",
    "# RMSE\n",
    "targets = tf.placeholder(tf.float32, [None,1])\n",
    "predictions = tf.placeholder(tf.float32, [None,1])\n",
    "rmse = tf.sqrt(tf.reduce_mean(tf.square(targets - predictions)))\n",
    "\n",
    "#model = Sequential()\n",
    "#model.add(LSTM(30, input_shape=(train_X.shape[1], 5)))\n",
    "#model.add(Dense(1))\n",
    "#model.compile(loss='mae', optimizer='adam')"
   ]
  },
  {
   "cell_type": "code",
   "execution_count": 31,
   "metadata": {},
   "outputs": [
    {
     "name": "stdout",
     "output_type": "stream",
     "text": [
      "[step: 0] loss: 1469.7193603515625\n",
      "[step: 100] loss: 3.449556589126587\n",
      "[step: 200] loss: 1.8566192388534546\n",
      "[step: 300] loss: 1.3040554523468018\n",
      "[step: 400] loss: 0.9504029154777527\n",
      "[step: 500] loss: 0.7280986905097961\n",
      "[step: 600] loss: 0.581376850605011\n",
      "[step: 700] loss: 0.48645520210266113\n",
      "[step: 800] loss: 0.4207478165626526\n",
      "[step: 900] loss: 0.37135955691337585\n",
      "[step: 1000] loss: 0.33206167817115784\n",
      "[step: 1100] loss: 0.2990863621234894\n",
      "[step: 1200] loss: 0.26986661553382874\n",
      "[step: 1300] loss: 0.24340996146202087\n",
      "[step: 1400] loss: 0.21886463463306427\n",
      "[step: 1500] loss: 0.1961776465177536\n",
      "[step: 1600] loss: 0.1753959357738495\n",
      "[step: 1700] loss: 0.1582179218530655\n",
      "[step: 1800] loss: 0.14350064098834991\n",
      "[step: 1900] loss: 0.13420186936855316\n",
      "[step: 2000] loss: 0.15299507975578308\n",
      "[step: 2100] loss: 0.10937722027301788\n",
      "[step: 2200] loss: 0.10037200152873993\n",
      "[step: 2300] loss: 0.09260725229978561\n",
      "[step: 2400] loss: 0.08483921736478806\n",
      "[step: 2500] loss: 0.14430534839630127\n",
      "[step: 2600] loss: 0.07114969193935394\n",
      "[step: 2700] loss: 0.06687310338020325\n",
      "[step: 2800] loss: 0.13750463724136353\n",
      "[step: 2900] loss: 0.05753651633858681\n",
      "[step: 3000] loss: 0.057152796536684036\n",
      "[step: 3100] loss: 0.20063740015029907\n",
      "[step: 3200] loss: 0.049485642462968826\n",
      "[step: 3300] loss: 0.04742935672402382\n",
      "[step: 3400] loss: 0.0761224552989006\n",
      "[step: 3500] loss: 0.04399695247411728\n",
      "[step: 3600] loss: 0.12494704872369766\n",
      "[step: 3700] loss: 0.04077381640672684\n",
      "[step: 3800] loss: 0.05019250139594078\n",
      "[step: 3900] loss: 0.0381438173353672\n",
      "RMSE: 0.012605788186192513\n"
     ]
    },
    {
     "data": {
      "image/png": "[encoded data removed]",
      "text/plain": [
       "<Figure size 432x288 with 1 Axes>"
      ]
     },
     "metadata": {
      "needs_background": "light"
     },
     "output_type": "display_data"
    }
   ],
   "source": [
    "with tf.Session() as sess:\n",
    "    init = tf.global_variables_initializer()\n",
    "    sess.run(init)\n",
    "\n",
    "    # Training step\n",
    "    for i in range(iterations):\n",
    "        _, step_loss = sess.run([train, loss], feed_dict={X: train_X, Y: train_y})\n",
    "        train_predict = sess.run(Y_pred, feed_dict={X: train_X})\n",
    "        m.update_state(train_y, train_predict)\n",
    "\n",
    "        if i%100==0:\n",
    "            print(\"[step: {}] loss: {}\".format(i, step_loss,))\n",
    "\n",
    "    # Test step\n",
    "    test_predict = sess.run(Y_pred, feed_dict={X: test_X})\n",
    "    rmse_val = sess.run(rmse, feed_dict={targets: test_y, predictions: test_predict})\n",
    "    print(\"RMSE: {}\".format(rmse_val))\n",
    "\n",
    "    # Plot predictions\n",
    "    plt.plot(test_y)\n",
    "    plt.plot(test_predict)\n",
    "    plt.show()"
   ]
  },
  {
   "cell_type": "code",
   "execution_count": 32,
   "metadata": {},
   "outputs": [],
   "source": [
    "test_y.shape ##(482,1)\n",
    "test_y.dtype ##float64\n",
    "test_predict.shape ##(482,1)\n",
    "test_predict.dtype ##float32\n",
    "\n",
    "#### 절대 다시 돌리지 말 것 ####\n",
    "pred_GRU_2 = test_predict"
   ]
  },
  {
   "cell_type": "code",
   "execution_count": 80,
   "metadata": {},
   "outputs": [
    {
     "name": "stdout",
     "output_type": "stream",
     "text": [
      "accuracy: 0.5601659751037344  \n",
      "confusion matrix:\n",
      " [[ 47 167]\n",
      " [ 45 223]]\n",
      "f1: 0.6778115501519757\n"
     ]
    }
   ],
   "source": [
    "diff = pred_GRU_2 - test_kospi #5일후 예측값 - t시점 지수종가\n",
    "prediction = diff >= 0 #True면 '상승' = 1 False면 '하락' = 0\n",
    "\n",
    "Y = kospi[['Y']]\n",
    "true = Y.iloc[3962:-5,0].values\n",
    "true = (true=='상승') #True면  1 = '상승' False면 0 = '하락'\n",
    "\n",
    "\n",
    "from sklearn.metrics import accuracy_score, confusion_matrix, f1_score\n",
    "print(\"accuracy: {}  \\nconfusion matrix:\\n {}\\nf1: {}\".format(accuracy_score(true, prediction), confusion_matrix(true, prediction), f1_score(true, prediction)))"
   ]
  },
  {
   "cell_type": "markdown",
   "metadata": {},
   "source": [
    "### (3) batch_size = 200 / iterations = 4000 / hidden layers = 40 / activation = leaky-ReLU"
   ]
  },
  {
   "cell_type": "code",
   "execution_count": 47,
   "metadata": {},
   "outputs": [
    {
     "name": "stdout",
     "output_type": "stream",
     "text": [
      "3962\n",
      "38\n",
      "1\n",
      "200\n"
     ]
    }
   ],
   "source": [
    "seq_length = train_X.shape[0] ;print(seq_length) ##3802\n",
    "data_dim = train_X.shape[2]; print(data_dim) ##94\n",
    "output_dim = train_y.shape[1]; print(output_dim) ##1\n",
    "batch_size = 200 ; print(batch_size) ##14\n",
    "iterations = 4000"
   ]
  },
  {
   "cell_type": "code",
   "execution_count": 48,
   "metadata": {},
   "outputs": [
    {
     "name": "stdout",
     "output_type": "stream",
     "text": [
      "Tensor(\"rnn/transpose_1:0\", shape=(?, ?, 40), dtype=float32) Tensor(\"rnn/while/Exit_3:0\", shape=(?, 40), dtype=float32)\n"
     ]
    }
   ],
   "source": [
    "tf.reset_default_graph()\n",
    "\n",
    "X = tf.placeholder(tf.float32,[None,None, data_dim])\n",
    "Y = tf.placeholder(tf.float32,[None,None])\n",
    "#print(X.shape,Y.shape)\n",
    "\n",
    "\n",
    "cell = tf.contrib.rnn.GRUCell(num_units = 40, activation=tf.nn.leaky_relu)\n",
    "#layers = [tf.contrib.rnn.GRUCell(num_units=n_neurons, activation=tf.nn.leaky_relu)\n",
    "#          for layer in range(n_layers)]\n",
    "outputs, _states = tf.nn.dynamic_rnn(cell,X,dtype = tf.float32) ; print(outputs,_states)\n",
    "Y_pred = tf.contrib.layers.fully_connected(outputs[:,-1],output_dim,activation_fn = None)\n",
    "\n",
    "loss = tf.reduce_sum(tf.square(Y_pred - Y))\n",
    "\n",
    "optimizer = tf.train.AdamOptimizer(0.01)\n",
    "train = optimizer.minimize(loss)\n",
    "\n",
    "m = tf.keras.metrics.Accuracy()\n",
    "\n",
    "# RMSE\n",
    "targets = tf.placeholder(tf.float32, [None,1])\n",
    "predictions = tf.placeholder(tf.float32, [None,1])\n",
    "rmse = tf.sqrt(tf.reduce_mean(tf.square(targets - predictions)))\n",
    "\n",
    "#model = Sequential()\n",
    "#model.add(LSTM(30, input_shape=(train_X.shape[1], 5)))\n",
    "#model.add(Dense(1))\n",
    "#model.compile(loss='mae', optimizer='adam')"
   ]
  },
  {
   "cell_type": "code",
   "execution_count": 49,
   "metadata": {},
   "outputs": [
    {
     "name": "stdout",
     "output_type": "stream",
     "text": [
      "[step: 0] loss: 1173.86962890625\n",
      "[step: 100] loss: 1.9785608053207397\n",
      "[step: 200] loss: 1.2087587118148804\n",
      "[step: 300] loss: 0.9332165718078613\n",
      "[step: 400] loss: 0.7352278232574463\n",
      "[step: 500] loss: 0.5904406905174255\n",
      "[step: 600] loss: 0.48235273361206055\n",
      "[step: 700] loss: 0.40235623717308044\n",
      "[step: 800] loss: 0.34292230010032654\n",
      "[step: 900] loss: 0.2992083430290222\n",
      "[step: 1000] loss: 0.26522013545036316\n",
      "[step: 1100] loss: 0.23665271699428558\n",
      "[step: 1200] loss: 0.211088627576828\n",
      "[step: 1300] loss: 0.18737152218818665\n",
      "[step: 1400] loss: 0.16578829288482666\n",
      "[step: 1500] loss: 0.1463506817817688\n",
      "[step: 1600] loss: 0.1292017549276352\n",
      "[step: 1700] loss: 0.11395777761936188\n",
      "[step: 1800] loss: 0.16473589837551117\n",
      "[step: 1900] loss: 0.13856707513332367\n",
      "[step: 2000] loss: 0.08388570696115494\n",
      "[step: 2100] loss: 0.07926781475543976\n",
      "[step: 2200] loss: 0.07219840586185455\n",
      "[step: 2300] loss: 0.10560515522956848\n",
      "[step: 2400] loss: 0.10443221777677536\n",
      "[step: 2500] loss: 0.08903588354587555\n",
      "[step: 2600] loss: 0.1666862964630127\n",
      "[step: 2700] loss: 0.057084765285253525\n",
      "[step: 2800] loss: 0.05250750482082367\n",
      "[step: 2900] loss: 0.05125093460083008\n",
      "[step: 3000] loss: 0.050978951156139374\n",
      "[step: 3100] loss: 0.08740011602640152\n",
      "[step: 3200] loss: 0.04549591988325119\n",
      "[step: 3300] loss: 0.051890548318624496\n",
      "[step: 3400] loss: 1.0945971012115479\n",
      "[step: 3500] loss: 0.041444115340709686\n",
      "[step: 3600] loss: 0.04422970861196518\n",
      "[step: 3700] loss: 0.5559505820274353\n",
      "[step: 3800] loss: 0.037881601601839066\n",
      "[step: 3900] loss: 0.04069792851805687\n",
      "RMSE: 0.027869578450918198\n"
     ]
    },
    {
     "data": {
      "image/png": "[encoded data removed]",
      "text/plain": [
       "<Figure size 432x288 with 1 Axes>"
      ]
     },
     "metadata": {
      "needs_background": "light"
     },
     "output_type": "display_data"
    }
   ],
   "source": [
    "with tf.Session() as sess:\n",
    "    init = tf.global_variables_initializer()\n",
    "    sess.run(init)\n",
    "\n",
    "    # Training step\n",
    "    for i in range(iterations):\n",
    "        _, step_loss = sess.run([train, loss], feed_dict={X: train_X, Y: train_y})\n",
    "        train_predict = sess.run(Y_pred, feed_dict={X: train_X})\n",
    "        m.update_state(train_y, train_predict)\n",
    "\n",
    "        if i%100==0:\n",
    "            print(\"[step: {}] loss: {}\".format(i, step_loss,))\n",
    "\n",
    "    # Test step\n",
    "    test_predict = sess.run(Y_pred, feed_dict={X: test_X})\n",
    "    rmse_val = sess.run(rmse, feed_dict={targets: test_y, predictions: test_predict})\n",
    "    print(\"RMSE: {}\".format(rmse_val))\n",
    "\n",
    "    # Plot predictions\n",
    "    plt.plot(test_y)\n",
    "    plt.plot(test_predict)\n",
    "    plt.show()"
   ]
  },
  {
   "cell_type": "code",
   "execution_count": 50,
   "metadata": {},
   "outputs": [],
   "source": [
    "test_y.shape ##(482,1)\n",
    "test_y.dtype ##float64\n",
    "test_predict.shape ##(482,1)\n",
    "test_predict.dtype ##float32\n",
    "\n",
    "#### 절대 다시 돌리지 말 것 ####\n",
    "pred_GRU_3 = test_predict"
   ]
  },
  {
   "cell_type": "code",
   "execution_count": 79,
   "metadata": {},
   "outputs": [
    {
     "name": "stdout",
     "output_type": "stream",
     "text": [
      "accuracy: 0.44190871369294604  \n",
      "confusion matrix:\n",
      " [[213   1]\n",
      " [268   0]]\n",
      "f1: 0.0\n"
     ]
    }
   ],
   "source": [
    "diff = pred_GRU_3 - test_kospi #5일후 예측값 - t시점 지수종가\n",
    "prediction = diff >= 0 #True면 '상승' = 1 False면 '하락' = 0\n",
    "\n",
    "Y = kospi[['Y']]\n",
    "true = Y.iloc[3962:-5,0].values\n",
    "true = (true=='상승') #True면  1 = '상승' False면 0 = '하락'\n",
    "\n",
    "\n",
    "from sklearn.metrics import accuracy_score, confusion_matrix, f1_score\n",
    "print(\"accuracy: {}  \\nconfusion matrix:\\n {}\\nf1: {}\".format(accuracy_score(true, prediction), confusion_matrix(true, prediction), f1_score(true, prediction)))"
   ]
  },
  {
   "cell_type": "markdown",
   "metadata": {},
   "source": [
    "### (4) batch_size = 200 / iterations = 4000 / hidden layers = 30 / activation = tanh"
   ]
  },
  {
   "cell_type": "code",
   "execution_count": 52,
   "metadata": {},
   "outputs": [
    {
     "name": "stdout",
     "output_type": "stream",
     "text": [
      "3962\n",
      "38\n",
      "1\n",
      "200\n"
     ]
    }
   ],
   "source": [
    "seq_length = train_X.shape[0] ;print(seq_length) ##3802\n",
    "data_dim = train_X.shape[2]; print(data_dim) ##94\n",
    "output_dim = train_y.shape[1]; print(output_dim) ##1\n",
    "batch_size = 200 ; print(batch_size) ##14\n",
    "iterations = 4000"
   ]
  },
  {
   "cell_type": "code",
   "execution_count": 53,
   "metadata": {},
   "outputs": [
    {
     "name": "stdout",
     "output_type": "stream",
     "text": [
      "Tensor(\"rnn/transpose_1:0\", shape=(?, ?, 30), dtype=float32) Tensor(\"rnn/while/Exit_3:0\", shape=(?, 30), dtype=float32)\n"
     ]
    }
   ],
   "source": [
    "tf.reset_default_graph()\n",
    "\n",
    "X = tf.placeholder(tf.float32,[None,None, data_dim])\n",
    "Y = tf.placeholder(tf.float32,[None,None])\n",
    "#print(X.shape,Y.shape)\n",
    "\n",
    "\n",
    "cell = tf.contrib.rnn.GRUCell(num_units = 30, activation=tf.nn.tanh)\n",
    "#layers = [tf.contrib.rnn.GRUCell(num_units=n_neurons, activation=tf.nn.leaky_relu)\n",
    "#          for layer in range(n_layers)]\n",
    "outputs, _states = tf.nn.dynamic_rnn(cell,X,dtype = tf.float32) ; print(outputs,_states)\n",
    "Y_pred = tf.contrib.layers.fully_connected(outputs[:,-1],output_dim,activation_fn = None)\n",
    "\n",
    "loss = tf.reduce_sum(tf.square(Y_pred - Y))\n",
    "\n",
    "optimizer = tf.train.AdamOptimizer(0.01)\n",
    "train = optimizer.minimize(loss)\n",
    "\n",
    "m = tf.keras.metrics.Accuracy()\n",
    "\n",
    "# RMSE\n",
    "targets = tf.placeholder(tf.float32, [None,1])\n",
    "predictions = tf.placeholder(tf.float32, [None,1])\n",
    "rmse = tf.sqrt(tf.reduce_mean(tf.square(targets - predictions)))\n",
    "\n",
    "#model = Sequential()\n",
    "#model.add(LSTM(30, input_shape=(train_X.shape[1], 5)))\n",
    "#model.add(Dense(1))\n",
    "#model.compile(loss='mae', optimizer='adam')"
   ]
  },
  {
   "cell_type": "code",
   "execution_count": 54,
   "metadata": {},
   "outputs": [
    {
     "name": "stdout",
     "output_type": "stream",
     "text": [
      "[step: 0] loss: 1936.87060546875\n",
      "[step: 100] loss: 3.2357163429260254\n",
      "[step: 200] loss: 1.7773425579071045\n",
      "[step: 300] loss: 1.4220643043518066\n",
      "[step: 400] loss: 1.1936932802200317\n",
      "[step: 500] loss: 1.0089415311813354\n",
      "[step: 600] loss: 0.8523607850074768\n",
      "[step: 700] loss: 0.7198978662490845\n",
      "[step: 800] loss: 0.6096904873847961\n",
      "[step: 900] loss: 0.5196059942245483\n",
      "[step: 1000] loss: 0.4468868672847748\n",
      "[step: 1100] loss: 0.3883637487888336\n",
      "[step: 1200] loss: 0.3408259153366089\n",
      "[step: 1300] loss: 0.301433265209198\n",
      "[step: 1400] loss: 0.26804083585739136\n",
      "[step: 1500] loss: 0.23929187655448914\n",
      "[step: 1600] loss: 0.21436774730682373\n",
      "[step: 1700] loss: 0.19258400797843933\n",
      "[step: 1800] loss: 0.17321251332759857\n",
      "[step: 1900] loss: 0.15558543801307678\n",
      "[step: 2000] loss: 0.13924555480480194\n",
      "[step: 2100] loss: 0.13910318911075592\n",
      "[step: 2200] loss: 0.12024860829114914\n",
      "[step: 2300] loss: 0.10727345943450928\n",
      "[step: 2400] loss: 0.34813517332077026\n",
      "[step: 2500] loss: 0.09938643872737885\n",
      "[step: 2600] loss: 0.08870071172714233\n",
      "[step: 2700] loss: 0.08049025386571884\n",
      "[step: 2800] loss: 0.09129773825407028\n",
      "[step: 2900] loss: 0.07750887423753738\n",
      "[step: 3000] loss: 0.07043982297182083\n",
      "[step: 3100] loss: 0.8576129674911499\n",
      "[step: 3200] loss: 0.0709340050816536\n",
      "[step: 3300] loss: 0.06283105164766312\n",
      "[step: 3400] loss: 0.05808624252676964\n",
      "[step: 3500] loss: 0.0926537960767746\n",
      "[step: 3600] loss: 0.05967314913868904\n",
      "[step: 3700] loss: 0.05406123027205467\n",
      "[step: 3800] loss: 0.05047184228897095\n",
      "[step: 3900] loss: 0.08289951086044312\n",
      "RMSE: 0.038840338587760925\n"
     ]
    },
    {
     "data": {
      "image/png": "[encoded data removed]",
      "text/plain": [
       "<Figure size 432x288 with 1 Axes>"
      ]
     },
     "metadata": {
      "needs_background": "light"
     },
     "output_type": "display_data"
    }
   ],
   "source": [
    "with tf.Session() as sess:\n",
    "    init = tf.global_variables_initializer()\n",
    "    sess.run(init)\n",
    "\n",
    "    # Training step\n",
    "    for i in range(iterations):\n",
    "        _, step_loss = sess.run([train, loss], feed_dict={X: train_X, Y: train_y})\n",
    "        train_predict = sess.run(Y_pred, feed_dict={X: train_X})\n",
    "        m.update_state(train_y, train_predict)\n",
    "\n",
    "        if i%100==0:\n",
    "            print(\"[step: {}] loss: {}\".format(i, step_loss,))\n",
    "\n",
    "    # Test step\n",
    "    test_predict = sess.run(Y_pred, feed_dict={X: test_X})\n",
    "    rmse_val = sess.run(rmse, feed_dict={targets: test_y, predictions: test_predict})\n",
    "    print(\"RMSE: {}\".format(rmse_val))\n",
    "\n",
    "    # Plot predictions\n",
    "    plt.plot(test_y)\n",
    "    plt.plot(test_predict)\n",
    "    plt.show()"
   ]
  },
  {
   "cell_type": "code",
   "execution_count": 55,
   "metadata": {},
   "outputs": [],
   "source": [
    "test_y.shape ##(482,1)\n",
    "test_y.dtype ##float64\n",
    "test_predict.shape ##(482,1)\n",
    "test_predict.dtype ##float32\n",
    "\n",
    "#### 절대 다시 돌리지 말 것 ####\n",
    "pred_GRU_4 = test_predict"
   ]
  },
  {
   "cell_type": "code",
   "execution_count": 78,
   "metadata": {},
   "outputs": [
    {
     "name": "stdout",
     "output_type": "stream",
     "text": [
      "accuracy: 0.44813278008298757  \n",
      "confusion matrix:\n",
      " [[214   0]\n",
      " [266   2]]\n",
      "f1: 0.014814814814814815\n"
     ]
    }
   ],
   "source": [
    "diff = pred_GRU_4 - test_kospi #5일후 예측값 - t시점 지수종가\n",
    "prediction = diff >= 0 #True면 '상승' = 1 False면 '하락' = 0\n",
    "\n",
    "Y = kospi[['Y']]\n",
    "true = Y.iloc[3962:-5,0].values\n",
    "true = (true=='상승') #True면  1 = '상승' False면 0 = '하락'\n",
    "\n",
    "\n",
    "from sklearn.metrics import accuracy_score, confusion_matrix, f1_score\n",
    "print(\"accuracy: {}  \\nconfusion matrix:\\n {}\\nf1: {}\".format(accuracy_score(true, prediction), confusion_matrix(true, prediction), f1_score(true, prediction)))"
   ]
  },
  {
   "cell_type": "markdown",
   "metadata": {},
   "source": [
    "### (5) batch_size = 200 / iterations = 4000 / hidden layers = 30 / activation = ReLU"
   ]
  },
  {
   "cell_type": "code",
   "execution_count": 57,
   "metadata": {},
   "outputs": [
    {
     "name": "stdout",
     "output_type": "stream",
     "text": [
      "3962\n",
      "38\n",
      "1\n",
      "200\n"
     ]
    }
   ],
   "source": [
    "seq_length = train_X.shape[0] ;print(seq_length) ##3802\n",
    "data_dim = train_X.shape[2]; print(data_dim) ##94\n",
    "output_dim = train_y.shape[1]; print(output_dim) ##1\n",
    "batch_size = 200 ; print(batch_size) ##14\n",
    "iterations = 4000"
   ]
  },
  {
   "cell_type": "code",
   "execution_count": 58,
   "metadata": {},
   "outputs": [
    {
     "name": "stdout",
     "output_type": "stream",
     "text": [
      "Tensor(\"rnn/transpose_1:0\", shape=(?, ?, 30), dtype=float32) Tensor(\"rnn/while/Exit_3:0\", shape=(?, 30), dtype=float32)\n"
     ]
    }
   ],
   "source": [
    "tf.reset_default_graph()\n",
    "\n",
    "X = tf.placeholder(tf.float32,[None,None, data_dim])\n",
    "Y = tf.placeholder(tf.float32,[None,None])\n",
    "#print(X.shape,Y.shape)\n",
    "\n",
    "\n",
    "cell = tf.contrib.rnn.GRUCell(num_units = 30, activation=tf.nn.relu)\n",
    "#layers = [tf.contrib.rnn.GRUCell(num_units=n_neurons, activation=tf.nn.leaky_relu)\n",
    "#          for layer in range(n_layers)]\n",
    "outputs, _states = tf.nn.dynamic_rnn(cell,X,dtype = tf.float32) ; print(outputs,_states)\n",
    "Y_pred = tf.contrib.layers.fully_connected(outputs[:,-1],output_dim,activation_fn = None)\n",
    "\n",
    "loss = tf.reduce_sum(tf.square(Y_pred - Y))\n",
    "\n",
    "optimizer = tf.train.AdamOptimizer(0.01)\n",
    "train = optimizer.minimize(loss)\n",
    "\n",
    "m = tf.keras.metrics.Accuracy()\n",
    "\n",
    "# RMSE\n",
    "targets = tf.placeholder(tf.float32, [None,1])\n",
    "predictions = tf.placeholder(tf.float32, [None,1])\n",
    "rmse = tf.sqrt(tf.reduce_mean(tf.square(targets - predictions)))\n",
    "\n",
    "#model = Sequential()\n",
    "#model.add(LSTM(30, input_shape=(train_X.shape[1], 5)))\n",
    "#model.add(Dense(1))\n",
    "#model.compile(loss='mae', optimizer='adam')"
   ]
  },
  {
   "cell_type": "code",
   "execution_count": 59,
   "metadata": {},
   "outputs": [
    {
     "name": "stdout",
     "output_type": "stream",
     "text": [
      "[step: 0] loss: 1344.7655029296875\n",
      "[step: 100] loss: 1.9842581748962402\n",
      "[step: 200] loss: 1.0995479822158813\n",
      "[step: 300] loss: 0.7897793650627136\n",
      "[step: 400] loss: 0.5918663740158081\n",
      "[step: 500] loss: 0.46933263540267944\n",
      "[step: 600] loss: 0.39700618386268616\n",
      "[step: 700] loss: 0.3471528887748718\n",
      "[step: 800] loss: 0.30690431594848633\n",
      "[step: 900] loss: 0.27284640073776245\n",
      "[step: 1000] loss: 0.24299713969230652\n",
      "[step: 1100] loss: 0.21622030436992645\n",
      "[step: 1200] loss: 0.19447477161884308\n",
      "[step: 1300] loss: 0.5340187549591064\n",
      "[step: 1400] loss: 0.16003826260566711\n",
      "[step: 1500] loss: 0.5636166930198669\n",
      "[step: 1600] loss: 0.1341758370399475\n",
      "[step: 1700] loss: 0.15359832346439362\n",
      "[step: 1800] loss: 0.11440157890319824\n",
      "[step: 1900] loss: 0.10408180207014084\n",
      "[step: 2000] loss: 0.10272233933210373\n",
      "[step: 2100] loss: 0.0915556401014328\n",
      "[step: 2200] loss: 0.08412441611289978\n",
      "[step: 2300] loss: 0.08356545865535736\n",
      "[step: 2400] loss: 0.0759105458855629\n",
      "[step: 2500] loss: 0.2070111632347107\n",
      "[step: 2600] loss: 0.069849394261837\n",
      "[step: 2700] loss: 0.06404750049114227\n",
      "[step: 2800] loss: 0.07788616418838501\n",
      "[step: 2900] loss: 0.05983041226863861\n",
      "[step: 3000] loss: 0.055621761828660965\n",
      "[step: 3100] loss: 0.06507696211338043\n",
      "[step: 3200] loss: 0.054721128195524216\n",
      "[step: 3300] loss: 0.050765637308359146\n",
      "[step: 3400] loss: 0.060381628572940826\n",
      "[step: 3500] loss: 0.04924636334180832\n",
      "[step: 3600] loss: 0.04645493999123573\n",
      "[step: 3700] loss: 0.0488269105553627\n",
      "[step: 3800] loss: 0.04470871761441231\n",
      "[step: 3900] loss: 0.18436148762702942\n",
      "RMSE: 0.01527527067810297\n"
     ]
    },
    {
     "data": {
      "image/png": "[encoded data removed]",
      "text/plain": [
       "<Figure size 432x288 with 1 Axes>"
      ]
     },
     "metadata": {
      "needs_background": "light"
     },
     "output_type": "display_data"
    }
   ],
   "source": [
    "with tf.Session() as sess:\n",
    "    init = tf.global_variables_initializer()\n",
    "    sess.run(init)\n",
    "\n",
    "    # Training step\n",
    "    for i in range(iterations):\n",
    "        _, step_loss = sess.run([train, loss], feed_dict={X: train_X, Y: train_y})\n",
    "        train_predict = sess.run(Y_pred, feed_dict={X: train_X})\n",
    "        m.update_state(train_y, train_predict)\n",
    "\n",
    "        if i%100==0:\n",
    "            print(\"[step: {}] loss: {}\".format(i, step_loss,))\n",
    "\n",
    "    # Test step\n",
    "    test_predict = sess.run(Y_pred, feed_dict={X: test_X})\n",
    "    rmse_val = sess.run(rmse, feed_dict={targets: test_y, predictions: test_predict})\n",
    "    print(\"RMSE: {}\".format(rmse_val))\n",
    "\n",
    "    # Plot predictions\n",
    "    plt.plot(test_y)\n",
    "    plt.plot(test_predict)\n",
    "    plt.show()"
   ]
  },
  {
   "cell_type": "code",
   "execution_count": 60,
   "metadata": {},
   "outputs": [],
   "source": [
    "test_y.shape ##(482,1)\n",
    "test_y.dtype ##float64\n",
    "test_predict.shape ##(482,1)\n",
    "test_predict.dtype ##float32\n",
    "\n",
    "#### 절대 다시 돌리지 말 것 ####\n",
    "pred_GRU_5 = test_predict"
   ]
  },
  {
   "cell_type": "code",
   "execution_count": 77,
   "metadata": {},
   "outputs": [
    {
     "name": "stdout",
     "output_type": "stream",
     "text": [
      "accuracy: 0.553941908713693  \n",
      "confusion matrix:\n",
      " [[ 61 153]\n",
      " [ 62 206]]\n",
      "f1: 0.657097288676236\n"
     ]
    }
   ],
   "source": [
    "diff = pred_GRU_5 - test_kospi #5일후 예측값 - t시점 지수종가\n",
    "prediction = diff >= 0 #True면 '상승' = 1 False면 '하락' = 0\n",
    "\n",
    "Y = kospi[['Y']]\n",
    "true = Y.iloc[3962:-5,0].values\n",
    "true = (true=='상승') #True면  1 = '상승' False면 0 = '하락'\n",
    "\n",
    "\n",
    "from sklearn.metrics import accuracy_score, confusion_matrix, f1_score\n",
    "print(\"accuracy: {}  \\nconfusion matrix:\\n {}\\nf1: {}\".format(accuracy_score(true, prediction), confusion_matrix(true, prediction), f1_score(true, prediction)))"
   ]
  },
  {
   "cell_type": "markdown",
   "metadata": {},
   "source": [
    "### (6) batch_size = 200 / iterations = 3000 / hidden layers = 40 / activation = leaky-ReLU"
   ]
  },
  {
   "cell_type": "code",
   "execution_count": 65,
   "metadata": {},
   "outputs": [
    {
     "name": "stdout",
     "output_type": "stream",
     "text": [
      "3962\n",
      "38\n",
      "1\n",
      "200\n"
     ]
    }
   ],
   "source": [
    "seq_length = train_X.shape[0] ;print(seq_length) ##3802\n",
    "data_dim = train_X.shape[2]; print(data_dim) ##94\n",
    "output_dim = train_y.shape[1]; print(output_dim) ##1\n",
    "batch_size = 200 ; print(batch_size) ##14\n",
    "iterations = 3000"
   ]
  },
  {
   "cell_type": "code",
   "execution_count": 66,
   "metadata": {},
   "outputs": [
    {
     "name": "stdout",
     "output_type": "stream",
     "text": [
      "Tensor(\"rnn/transpose_1:0\", shape=(?, ?, 40), dtype=float32) Tensor(\"rnn/while/Exit_3:0\", shape=(?, 40), dtype=float32)\n"
     ]
    }
   ],
   "source": [
    "tf.reset_default_graph()\n",
    "\n",
    "X = tf.placeholder(tf.float32,[None,None, data_dim])\n",
    "Y = tf.placeholder(tf.float32,[None,None])\n",
    "#print(X.shape,Y.shape)\n",
    "\n",
    "\n",
    "cell = tf.contrib.rnn.GRUCell(num_units = 40, activation=tf.nn.leaky_relu)\n",
    "#layers = [tf.contrib.rnn.GRUCell(num_units=n_neurons, activation=tf.nn.leaky_relu)\n",
    "#          for layer in range(n_layers)]\n",
    "outputs, _states = tf.nn.dynamic_rnn(cell,X,dtype = tf.float32) ; print(outputs,_states)\n",
    "Y_pred = tf.contrib.layers.fully_connected(outputs[:,-1],output_dim,activation_fn = None)\n",
    "\n",
    "loss = tf.reduce_sum(tf.square(Y_pred - Y))\n",
    "\n",
    "optimizer = tf.train.AdamOptimizer(0.01)\n",
    "train = optimizer.minimize(loss)\n",
    "\n",
    "m = tf.keras.metrics.Accuracy()\n",
    "\n",
    "# RMSE\n",
    "targets = tf.placeholder(tf.float32, [None,1])\n",
    "predictions = tf.placeholder(tf.float32, [None,1])\n",
    "rmse = tf.sqrt(tf.reduce_mean(tf.square(targets - predictions)))\n",
    "\n",
    "#model = Sequential()\n",
    "#model.add(LSTM(30, input_shape=(train_X.shape[1], 5)))\n",
    "#model.add(Dense(1))\n",
    "#model.compile(loss='mae', optimizer='adam')"
   ]
  },
  {
   "cell_type": "code",
   "execution_count": 67,
   "metadata": {},
   "outputs": [
    {
     "name": "stdout",
     "output_type": "stream",
     "text": [
      "[step: 0] loss: 1111.1636962890625\n",
      "[step: 100] loss: 2.079123020172119\n",
      "[step: 200] loss: 1.2098737955093384\n",
      "[step: 300] loss: 0.8208453059196472\n",
      "[step: 400] loss: 0.5795459747314453\n",
      "[step: 500] loss: 0.4215148389339447\n",
      "[step: 600] loss: 0.3134683668613434\n",
      "[step: 700] loss: 0.24681517481803894\n",
      "[step: 800] loss: 0.21169514954090118\n",
      "[step: 900] loss: 0.17174917459487915\n",
      "[step: 1000] loss: 0.26077204942703247\n",
      "[step: 1100] loss: 0.13721589744091034\n",
      "[step: 1200] loss: 0.109879270195961\n",
      "[step: 1300] loss: 0.09878002107143402\n",
      "[step: 1400] loss: 0.09499155730009079\n",
      "[step: 1500] loss: 0.3097887635231018\n",
      "[step: 1600] loss: 0.079213947057724\n",
      "[step: 1700] loss: 0.10589834302663803\n",
      "[step: 1800] loss: 0.06598139554262161\n",
      "[step: 1900] loss: 0.06214698404073715\n",
      "[step: 2000] loss: 0.059186313301324844\n",
      "[step: 2100] loss: 0.05680152401328087\n",
      "[step: 2200] loss: 0.052620306611061096\n",
      "[step: 2300] loss: 0.05324240401387215\n",
      "[step: 2400] loss: 0.05027102679014206\n",
      "[step: 2500] loss: 0.34625446796417236\n",
      "[step: 2600] loss: 0.06204134598374367\n",
      "[step: 2700] loss: 0.04369864985346794\n",
      "[step: 2800] loss: 0.05119938775897026\n",
      "[step: 2900] loss: 0.07243987172842026\n",
      "RMSE: 0.018155893310904503\n"
     ]
    },
    {
     "data": {
      "image/png": "[encoded data removed]",
      "text/plain": [
       "<Figure size 432x288 with 1 Axes>"
      ]
     },
     "metadata": {
      "needs_background": "light"
     },
     "output_type": "display_data"
    }
   ],
   "source": [
    "with tf.Session() as sess:\n",
    "    init = tf.global_variables_initializer()\n",
    "    sess.run(init)\n",
    "\n",
    "    # Training step\n",
    "    for i in range(iterations):\n",
    "        _, step_loss = sess.run([train, loss], feed_dict={X: train_X, Y: train_y})\n",
    "        train_predict = sess.run(Y_pred, feed_dict={X: train_X})\n",
    "        m.update_state(train_y, train_predict)\n",
    "\n",
    "        if i%100==0:\n",
    "            print(\"[step: {}] loss: {}\".format(i, step_loss,))\n",
    "\n",
    "    # Test step\n",
    "    test_predict = sess.run(Y_pred, feed_dict={X: test_X})\n",
    "    rmse_val = sess.run(rmse, feed_dict={targets: test_y, predictions: test_predict})\n",
    "    print(\"RMSE: {}\".format(rmse_val))\n",
    "\n",
    "    # Plot predictions\n",
    "    plt.plot(test_y)\n",
    "    plt.plot(test_predict)\n",
    "    plt.show()"
   ]
  },
  {
   "cell_type": "code",
   "execution_count": 68,
   "metadata": {},
   "outputs": [],
   "source": [
    "test_y.shape ##(482,1)\n",
    "test_y.dtype ##float64\n",
    "test_predict.shape ##(482,1)\n",
    "test_predict.dtype ##float32\n",
    "\n",
    "#### 절대 다시 돌리지 말 것 ####\n",
    "pred_GRU_6 = test_predict"
   ]
  },
  {
   "cell_type": "code",
   "execution_count": 76,
   "metadata": {},
   "outputs": [
    {
     "name": "stdout",
     "output_type": "stream",
     "text": [
      "accuracy: 0.5373443983402489  \n",
      "confusion matrix:\n",
      " [[ 92 122]\n",
      " [101 167]]\n",
      "f1: 0.5996409335727109\n"
     ]
    }
   ],
   "source": [
    "diff = pred_GRU_6 - test_kospi #5일후 예측값 - t시점 지수종가\n",
    "prediction = diff >= 0 #True면 '상승' = 1 False면 '하락' = 0\n",
    "\n",
    "Y = kospi[['Y']]\n",
    "true = Y.iloc[3962:-5,0].values\n",
    "true = (true=='상승') #True면  1 = '상승' False면 0 = '하락'\n",
    "\n",
    "\n",
    "from sklearn.metrics import accuracy_score, confusion_matrix, f1_score\n",
    "print(\"accuracy: {}  \\nconfusion matrix:\\n {}\\nf1: {}\".format(accuracy_score(true, prediction), confusion_matrix(true, prediction), f1_score(true, prediction)))"
   ]
  },
  {
   "cell_type": "markdown",
   "metadata": {},
   "source": [
    "### (7) batch_size = 200 / iterations = 4000 / hidden layers = 25 / activation = leaky-ReLU"
   ]
  },
  {
   "cell_type": "code",
   "execution_count": 70,
   "metadata": {},
   "outputs": [
    {
     "name": "stdout",
     "output_type": "stream",
     "text": [
      "3962\n",
      "38\n",
      "1\n",
      "200\n"
     ]
    }
   ],
   "source": [
    "seq_length = train_X.shape[0] ;print(seq_length) ##3802\n",
    "data_dim = train_X.shape[2]; print(data_dim) ##94\n",
    "output_dim = train_y.shape[1]; print(output_dim) ##1\n",
    "batch_size = 200 ; print(batch_size) ##14\n",
    "iterations = 4000"
   ]
  },
  {
   "cell_type": "code",
   "execution_count": 71,
   "metadata": {},
   "outputs": [
    {
     "name": "stdout",
     "output_type": "stream",
     "text": [
      "Tensor(\"rnn/transpose_1:0\", shape=(?, ?, 25), dtype=float32) Tensor(\"rnn/while/Exit_3:0\", shape=(?, 25), dtype=float32)\n"
     ]
    }
   ],
   "source": [
    "tf.reset_default_graph()\n",
    "\n",
    "X = tf.placeholder(tf.float32,[None,None, data_dim])\n",
    "Y = tf.placeholder(tf.float32,[None,None])\n",
    "#print(X.shape,Y.shape)\n",
    "\n",
    "\n",
    "cell = tf.contrib.rnn.GRUCell(num_units = 25, activation=tf.nn.leaky_relu)\n",
    "#layers = [tf.contrib.rnn.GRUCell(num_units=n_neurons, activation=tf.nn.leaky_relu)\n",
    "#          for layer in range(n_layers)]\n",
    "outputs, _states = tf.nn.dynamic_rnn(cell,X,dtype = tf.float32) ; print(outputs,_states)\n",
    "Y_pred = tf.contrib.layers.fully_connected(outputs[:,-1],output_dim,activation_fn = None)\n",
    "\n",
    "loss = tf.reduce_sum(tf.square(Y_pred - Y))\n",
    "\n",
    "optimizer = tf.train.AdamOptimizer(0.01)\n",
    "train = optimizer.minimize(loss)\n",
    "\n",
    "m = tf.keras.metrics.Accuracy()\n",
    "\n",
    "# RMSE\n",
    "targets = tf.placeholder(tf.float32, [None,1])\n",
    "predictions = tf.placeholder(tf.float32, [None,1])\n",
    "rmse = tf.sqrt(tf.reduce_mean(tf.square(targets - predictions)))\n",
    "\n",
    "#model = Sequential()\n",
    "#model.add(LSTM(30, input_shape=(train_X.shape[1], 5)))\n",
    "#model.add(Dense(1))\n",
    "#model.compile(loss='mae', optimizer='adam')"
   ]
  },
  {
   "cell_type": "code",
   "execution_count": 72,
   "metadata": {},
   "outputs": [
    {
     "name": "stdout",
     "output_type": "stream",
     "text": [
      "[step: 0] loss: 714.3820190429688\n",
      "[step: 100] loss: 1.8352669477462769\n",
      "[step: 200] loss: 1.1064980030059814\n",
      "[step: 300] loss: 0.6376283764839172\n",
      "[step: 400] loss: 0.36256298422813416\n",
      "[step: 500] loss: 0.29339781403541565\n",
      "[step: 600] loss: 0.22897063195705414\n",
      "[step: 700] loss: 0.1994609534740448\n",
      "[step: 800] loss: 0.16979898512363434\n",
      "[step: 900] loss: 0.1471078246831894\n",
      "[step: 1000] loss: 0.13290348649024963\n",
      "[step: 1100] loss: 0.11788804084062576\n",
      "[step: 1200] loss: 0.11075536161661148\n",
      "[step: 1300] loss: 0.09942484647035599\n",
      "[step: 1400] loss: 0.09247643500566483\n",
      "[step: 1500] loss: 0.12481066584587097\n",
      "[step: 1600] loss: 0.08564625680446625\n",
      "[step: 1700] loss: 0.07571528851985931\n",
      "[step: 1800] loss: 0.0893094465136528\n",
      "[step: 1900] loss: 0.07278349250555038\n",
      "[step: 2000] loss: 0.07282669842243195\n",
      "[step: 2100] loss: 0.06236030533909798\n",
      "[step: 2200] loss: 0.0627126693725586\n",
      "[step: 2300] loss: 0.06335975974798203\n",
      "[step: 2400] loss: 0.06654128432273865\n",
      "[step: 2500] loss: 0.09571772813796997\n",
      "[step: 2600] loss: 0.052694208920001984\n",
      "[step: 2700] loss: 0.04877379909157753\n",
      "[step: 2800] loss: 0.04886339232325554\n",
      "[step: 2900] loss: 0.05063466355204582\n",
      "[step: 3000] loss: 0.08606923371553421\n",
      "[step: 3100] loss: 0.047056861221790314\n",
      "[step: 3200] loss: 0.47531574964523315\n",
      "[step: 3300] loss: 0.049309324473142624\n",
      "[step: 3400] loss: 0.06881869584321976\n",
      "[step: 3500] loss: 0.04538808763027191\n",
      "[step: 3600] loss: 0.056789129972457886\n",
      "[step: 3700] loss: 0.06602658331394196\n",
      "[step: 3800] loss: 0.06860624998807907\n",
      "[step: 3900] loss: 0.03554198145866394\n",
      "RMSE: 0.025218110531568527\n"
     ]
    },
    {
     "data": {
      "image/png": "[encoded data removed]",
      "text/plain": [
       "<Figure size 432x288 with 1 Axes>"
      ]
     },
     "metadata": {
      "needs_background": "light"
     },
     "output_type": "display_data"
    }
   ],
   "source": [
    "with tf.Session() as sess:\n",
    "    init = tf.global_variables_initializer()\n",
    "    sess.run(init)\n",
    "\n",
    "    # Training step\n",
    "    for i in range(iterations):\n",
    "        _, step_loss = sess.run([train, loss], feed_dict={X: train_X, Y: train_y})\n",
    "        train_predict = sess.run(Y_pred, feed_dict={X: train_X})\n",
    "        m.update_state(train_y, train_predict)\n",
    "\n",
    "        if i%100==0:\n",
    "            print(\"[step: {}] loss: {}\".format(i, step_loss,))\n",
    "\n",
    "    # Test step\n",
    "    test_predict = sess.run(Y_pred, feed_dict={X: test_X})\n",
    "    rmse_val = sess.run(rmse, feed_dict={targets: test_y, predictions: test_predict})\n",
    "    print(\"RMSE: {}\".format(rmse_val))\n",
    "\n",
    "    # Plot predictions\n",
    "    plt.plot(test_y)\n",
    "    plt.plot(test_predict)\n",
    "    plt.show()"
   ]
  },
  {
   "cell_type": "code",
   "execution_count": 73,
   "metadata": {},
   "outputs": [],
   "source": [
    "test_y.shape ##(482,1)\n",
    "test_y.dtype ##float64\n",
    "test_predict.shape ##(482,1)\n",
    "test_predict.dtype ##float32\n",
    "\n",
    "#### 절대 다시 돌리지 말 것 ####\n",
    "pred_GRU_7 = test_predict"
   ]
  },
  {
   "cell_type": "code",
   "execution_count": 75,
   "metadata": {},
   "outputs": [
    {
     "name": "stdout",
     "output_type": "stream",
     "text": [
      "accuracy: 0.42946058091286304  \n",
      "confusion matrix:\n",
      " [[184  30]\n",
      " [245  23]]\n",
      "f1: 0.14330218068535824\n"
     ]
    }
   ],
   "source": [
    "diff = pred_GRU_7 - test_kospi #5일후 예측값 - t시점 지수종가\n",
    "prediction = diff >= 0 #True면 '상승' = 1 False면 '하락' = 0\n",
    "\n",
    "Y = kospi[['Y']]\n",
    "true = Y.iloc[3962:-5,0].values\n",
    "true = (true=='상승') #True면  1 = '상승' False면 0 = '하락'\n",
    "\n",
    "\n",
    "from sklearn.metrics import accuracy_score, confusion_matrix, f1_score\n",
    "print(\"accuracy: {}  \\nconfusion matrix:\\n {}\\nf1: {}\".format(accuracy_score(true, prediction), confusion_matrix(true, prediction), f1_score(true, prediction)))"
   ]
  }
 ],
 "metadata": {
  "kernelspec": {
   "display_name": "Python 3",
   "language": "python",
   "name": "python3"
  },
  "language_info": {
   "codemirror_mode": {
    "name": "ipython",
    "version": 3
   },
   "file_extension": ".py",
   "mimetype": "text/x-python",
   "name": "python",
   "nbconvert_exporter": "python",
   "pygments_lexer": "ipython3",
   "version": "3.7.3"
  }
 },
 "nbformat": 4,
 "nbformat_minor": 2
}
