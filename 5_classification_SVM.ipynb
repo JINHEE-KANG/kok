{
 "cells": [
  {
   "cell_type": "markdown",
   "metadata": {},
   "source": [
    "# SVM 모델로 분류 분석 수행"
   ]
  },
  {
   "cell_type": "code",
   "execution_count": 1,
   "metadata": {},
   "outputs": [],
   "source": [
    "import pandas as pd\n",
    "import numpy as np\n",
    "from sklearn.pipeline import Pipeline\n",
    "from sklearn.preprocessing import StandardScaler\n",
    "from sklearn.svm import SVC"
   ]
  },
  {
   "cell_type": "code",
   "execution_count": 2,
   "metadata": {},
   "outputs": [],
   "source": [
    "f=pd.read_csv('final_merge.csv', encoding='euc_kr')"
   ]
  },
  {
   "cell_type": "code",
   "execution_count": 3,
   "metadata": {},
   "outputs": [],
   "source": [
    "for i in range(f.shape[0]):\n",
    "    if f.iloc[i,-1]=='상승':\n",
    "        f.iloc[i,-1]=1\n",
    "    else:\n",
    "        f.iloc[i,-1]=0\n"
   ]
  },
  {
   "cell_type": "code",
   "execution_count": 4,
   "metadata": {},
   "outputs": [],
   "source": [
    "X_train=f.iloc[0:3962,1:-1]\n",
    "X_test=f.iloc[3962:,1:-1]\n",
    "y_train=f.iloc[0:3962,-1]\n",
    "y_test=f.iloc[3962:,-1]"
   ]
  },
  {
   "cell_type": "code",
   "execution_count": 5,
   "metadata": {},
   "outputs": [
    {
     "data": {
      "text/html": [
       "<div>\n",
       "<style scoped>\n",
       "    .dataframe tbody tr th:only-of-type {\n",
       "        vertical-align: middle;\n",
       "    }\n",
       "\n",
       "    .dataframe tbody tr th {\n",
       "        vertical-align: top;\n",
       "    }\n",
       "\n",
       "    .dataframe thead th {\n",
       "        text-align: right;\n",
       "    }\n",
       "</style>\n",
       "<table border=\"1\" class=\"dataframe\">\n",
       "  <thead>\n",
       "    <tr style=\"text-align: right;\">\n",
       "      <th></th>\n",
       "      <th>지수종가</th>\n",
       "      <th>거래대금</th>\n",
       "      <th>상장주식수</th>\n",
       "      <th>시가총액</th>\n",
       "      <th>외국인보유주식수</th>\n",
       "      <th>외국인보유시가총액</th>\n",
       "      <th>신용거래종목수</th>\n",
       "      <th>신용자료일자</th>\n",
       "      <th>회사수</th>\n",
       "      <th>거래형성종목수</th>\n",
       "      <th>...</th>\n",
       "      <th>금괴(일간)</th>\n",
       "      <th>금속</th>\n",
       "      <th>oil</th>\n",
       "      <th>미국n년</th>\n",
       "      <th>국고채권(n년)</th>\n",
       "      <th>USD</th>\n",
       "      <th>EUR</th>\n",
       "      <th>CNY</th>\n",
       "      <th>JPY</th>\n",
       "      <th>GBP</th>\n",
       "    </tr>\n",
       "  </thead>\n",
       "  <tbody>\n",
       "    <tr>\n",
       "      <th>0</th>\n",
       "      <td>520.95</td>\n",
       "      <td>1223328</td>\n",
       "      <td>19638887</td>\n",
       "      <td>191252891</td>\n",
       "      <td>2723222</td>\n",
       "      <td>58238292</td>\n",
       "      <td>746.0</td>\n",
       "      <td>20010102.0</td>\n",
       "      <td>704</td>\n",
       "      <td>853</td>\n",
       "      <td>...</td>\n",
       "      <td>270.6</td>\n",
       "      <td>7202.5</td>\n",
       "      <td>25.8</td>\n",
       "      <td>8.5</td>\n",
       "      <td>11.9</td>\n",
       "      <td>1259.7</td>\n",
       "      <td>1185.38</td>\n",
       "      <td>152.19</td>\n",
       "      <td>1099.07</td>\n",
       "      <td>1885.02</td>\n",
       "    </tr>\n",
       "    <tr>\n",
       "      <th>1</th>\n",
       "      <td>521.43</td>\n",
       "      <td>1583403</td>\n",
       "      <td>19633559</td>\n",
       "      <td>191363161</td>\n",
       "      <td>2727918</td>\n",
       "      <td>58249739</td>\n",
       "      <td>746.0</td>\n",
       "      <td>20010102.0</td>\n",
       "      <td>704</td>\n",
       "      <td>854</td>\n",
       "      <td>...</td>\n",
       "      <td>267.5</td>\n",
       "      <td>6641.3</td>\n",
       "      <td>26.5</td>\n",
       "      <td>8.6</td>\n",
       "      <td>11.8</td>\n",
       "      <td>1267.8</td>\n",
       "      <td>1205.49</td>\n",
       "      <td>153.15</td>\n",
       "      <td>1108.07</td>\n",
       "      <td>1903.35</td>\n",
       "    </tr>\n",
       "    <tr>\n",
       "      <th>2</th>\n",
       "      <td>558.02</td>\n",
       "      <td>2984761</td>\n",
       "      <td>19634734</td>\n",
       "      <td>204074166</td>\n",
       "      <td>2735566</td>\n",
       "      <td>62823637</td>\n",
       "      <td>746.0</td>\n",
       "      <td>20010102.0</td>\n",
       "      <td>704</td>\n",
       "      <td>855</td>\n",
       "      <td>...</td>\n",
       "      <td>267.7</td>\n",
       "      <td>6843.0</td>\n",
       "      <td>26.8</td>\n",
       "      <td>8.3</td>\n",
       "      <td>11.4</td>\n",
       "      <td>1285.4</td>\n",
       "      <td>1193.24</td>\n",
       "      <td>155.29</td>\n",
       "      <td>1128.53</td>\n",
       "      <td>1914.15</td>\n",
       "    </tr>\n",
       "    <tr>\n",
       "      <th>3</th>\n",
       "      <td>580.85</td>\n",
       "      <td>3569582</td>\n",
       "      <td>19637038</td>\n",
       "      <td>212089180</td>\n",
       "      <td>2747453</td>\n",
       "      <td>65820417</td>\n",
       "      <td>746.0</td>\n",
       "      <td>20010103.0</td>\n",
       "      <td>704</td>\n",
       "      <td>855</td>\n",
       "      <td>...</td>\n",
       "      <td>268.2</td>\n",
       "      <td>6878.7</td>\n",
       "      <td>26.6</td>\n",
       "      <td>8.0</td>\n",
       "      <td>11.0</td>\n",
       "      <td>1249.3</td>\n",
       "      <td>1190.90</td>\n",
       "      <td>150.92</td>\n",
       "      <td>1078.01</td>\n",
       "      <td>1876.82</td>\n",
       "    </tr>\n",
       "    <tr>\n",
       "      <th>4</th>\n",
       "      <td>586.65</td>\n",
       "      <td>2948092</td>\n",
       "      <td>19630735</td>\n",
       "      <td>214231273</td>\n",
       "      <td>2751599</td>\n",
       "      <td>66348238</td>\n",
       "      <td>746.0</td>\n",
       "      <td>20010104.0</td>\n",
       "      <td>704</td>\n",
       "      <td>854</td>\n",
       "      <td>...</td>\n",
       "      <td>268.3</td>\n",
       "      <td>7012.1</td>\n",
       "      <td>25.8</td>\n",
       "      <td>8.0</td>\n",
       "      <td>10.9</td>\n",
       "      <td>1267.8</td>\n",
       "      <td>1215.06</td>\n",
       "      <td>153.16</td>\n",
       "      <td>1088.71</td>\n",
       "      <td>1906.33</td>\n",
       "    </tr>\n",
       "  </tbody>\n",
       "</table>\n",
       "<p>5 rows × 38 columns</p>\n",
       "</div>"
      ],
      "text/plain": [
       "     지수종가     거래대금     상장주식수       시가총액  외국인보유주식수  외국인보유시가총액  신용거래종목수  \\\n",
       "0  520.95  1223328  19638887  191252891   2723222   58238292    746.0   \n",
       "1  521.43  1583403  19633559  191363161   2727918   58249739    746.0   \n",
       "2  558.02  2984761  19634734  204074166   2735566   62823637    746.0   \n",
       "3  580.85  3569582  19637038  212089180   2747453   65820417    746.0   \n",
       "4  586.65  2948092  19630735  214231273   2751599   66348238    746.0   \n",
       "\n",
       "       신용자료일자  회사수  거래형성종목수  ...  금괴(일간)      금속   oil  미국n년  국고채권(n년)  \\\n",
       "0  20010102.0  704      853  ...   270.6  7202.5  25.8   8.5      11.9   \n",
       "1  20010102.0  704      854  ...   267.5  6641.3  26.5   8.6      11.8   \n",
       "2  20010102.0  704      855  ...   267.7  6843.0  26.8   8.3      11.4   \n",
       "3  20010103.0  704      855  ...   268.2  6878.7  26.6   8.0      11.0   \n",
       "4  20010104.0  704      854  ...   268.3  7012.1  25.8   8.0      10.9   \n",
       "\n",
       "      USD      EUR     CNY      JPY      GBP  \n",
       "0  1259.7  1185.38  152.19  1099.07  1885.02  \n",
       "1  1267.8  1205.49  153.15  1108.07  1903.35  \n",
       "2  1285.4  1193.24  155.29  1128.53  1914.15  \n",
       "3  1249.3  1190.90  150.92  1078.01  1876.82  \n",
       "4  1267.8  1215.06  153.16  1088.71  1906.33  \n",
       "\n",
       "[5 rows x 38 columns]"
      ]
     },
     "execution_count": 5,
     "metadata": {},
     "output_type": "execute_result"
    }
   ],
   "source": [
    "X_train.head()"
   ]
  },
  {
   "cell_type": "code",
   "execution_count": 6,
   "metadata": {},
   "outputs": [
    {
     "data": {
      "text/plain": [
       "Pipeline(memory=None,\n",
       "         steps=[('poly_features',\n",
       "                 PolynomialFeatures(degree=3, include_bias=True,\n",
       "                                    interaction_only=False, order='C')),\n",
       "                ('scaler',\n",
       "                 StandardScaler(copy=True, with_mean=True, with_std=True)),\n",
       "                ('svm_clf',\n",
       "                 SVC(C=0.001, cache_size=200, class_weight=None, coef0=0.0,\n",
       "                     decision_function_shape='ovr', degree=3, gamma=5,\n",
       "                     kernel='rbf', max_iter=-1, probability=False,\n",
       "                     random_state=None, shrinking=True, tol=0.001,\n",
       "                     verbose=False))],\n",
       "         verbose=False)"
      ]
     },
     "execution_count": 6,
     "metadata": {},
     "output_type": "execute_result"
    }
   ],
   "source": [
    "from sklearn.preprocessing import PolynomialFeatures\n",
    "\n",
    "polynomial_svm_clf=Pipeline([\n",
    "    ('poly_features', PolynomialFeatures(degree=3)),\n",
    "    ('scaler', StandardScaler()),\n",
    "    ('svm_clf', SVC(kernel=\"rbf\", gamma=5, C=0.001))\n",
    "])\n",
    "polynomial_svm_clf.fit(X_train, y_train)"
   ]
  },
  {
   "cell_type": "code",
   "execution_count": 7,
   "metadata": {},
   "outputs": [
    {
     "name": "stdout",
     "output_type": "stream",
     "text": [
      "SVM 정확도: 0.5524\n"
     ]
    }
   ],
   "source": [
    "from sklearn.metrics import accuracy_score\n",
    "from sklearn.model_selection import cross_val_score\n",
    "pred = polynomial_svm_clf.predict(X_test)\n",
    "accuracy = accuracy_score(y_test , pred)\n",
    "print('SVM 정확도: {0:.4f}'.format(accuracy))"
   ]
  },
  {
   "cell_type": "code",
   "execution_count": 8,
   "metadata": {},
   "outputs": [
    {
     "name": "stdout",
     "output_type": "stream",
     "text": [
      "------------------------------------------------------------------\n",
      "True_Positive: 269\n",
      "True_Negative: 0\n",
      "False_Positive: 218\n",
      "False_Negative: 0\n",
      "------------------------------------------------------------------\n",
      "[Summary]\n",
      "              precision    recall  f1-score   support\n",
      "\n",
      "           0       0.00      0.00      0.00       218\n",
      "           1       0.55      1.00      0.71       269\n",
      "\n",
      "    accuracy                           0.55       487\n",
      "   macro avg       0.28      0.50      0.36       487\n",
      "weighted avg       0.31      0.55      0.39       487\n",
      "\n",
      "Accuracy: 0.5523613963039015\n"
     ]
    },
    {
     "name": "stderr",
     "output_type": "stream",
     "text": [
      "C:\\Users\\chocolet\\Anaconda3\\lib\\site-packages\\sklearn\\metrics\\classification.py:1437: UndefinedMetricWarning: Precision and F-score are ill-defined and being set to 0.0 in labels with no predicted samples.\n",
      "  'precision', 'predicted', average, warn_for)\n"
     ]
    }
   ],
   "source": [
    "from sklearn.metrics import confusion_matrix\n",
    "import sklearn.metrics as metrics\n",
    "tn, fp, fn, tp = confusion_matrix(y_true = y_test, y_pred=pred).ravel()\n",
    "print(\"------------------------------------------------------------------\")\n",
    "print(\"True_Positive:\", tp)\n",
    "print(\"True_Negative:\", tn)\n",
    "print(\"False_Positive:\", fp)\n",
    "print(\"False_Negative:\", fn)\n",
    "# 리포트 확인\n",
    "print(\"------------------------------------------------------------------\")\n",
    "print(\"[Summary]\")\n",
    "print(metrics.classification_report(y_test, pred))\n",
    "print(\"Accuracy:\", metrics.accuracy_score(y_true = y_test, y_pred=pred))"
   ]
  },
  {
   "cell_type": "code",
   "execution_count": 9,
   "metadata": {},
   "outputs": [],
   "source": [
    "from sklearn.metrics import confusion_matrix, accuracy_score\n",
    "from sklearn.metrics import precision_score, recall_score\n",
    "from sklearn.metrics import f1_score, roc_auc_score\n",
    "\n",
    "def get_clf_eval(y_test , pred):\n",
    "    confusion = confusion_matrix( y_test, pred)\n",
    "    accuracy = accuracy_score(y_test , pred)\n",
    "    precision = precision_score(y_test , pred)\n",
    "    recall = recall_score(y_test , pred)\n",
    "    f1 = f1_score(y_test,pred)\n",
    "    roc_auc = roc_auc_score(y_test, pred)\n",
    "    print('오차 행렬')\n",
    "    print(confusion)\n",
    "    print('정확도: {0:.4f}, 정밀도: {1:.4f}, 재현율: {2:.4f},\\\n",
    "    F1: {3:.4f}, AUC:{4:.4f}'.format(accuracy, precision, recall, f1, roc_auc))"
   ]
  },
  {
   "cell_type": "code",
   "execution_count": 10,
   "metadata": {},
   "outputs": [
    {
     "name": "stdout",
     "output_type": "stream",
     "text": [
      "오차 행렬\n",
      "[[  0 218]\n",
      " [  0 269]]\n",
      "정확도: 0.5524, 정밀도: 0.5524, 재현율: 1.0000,    F1: 0.7116, AUC:0.5000\n"
     ]
    }
   ],
   "source": [
    "get_clf_eval(y_test, pred)"
   ]
  },
  {
   "cell_type": "markdown",
   "metadata": {},
   "source": []
  },
  {
   "cell_type": "code",
   "execution_count": null,
   "metadata": {},
   "outputs": [],
   "source": []
  }
 ],
 "metadata": {
  "kernelspec": {
   "display_name": "Python 3",
   "language": "python",
   "name": "python3"
  },
  "language_info": {
   "codemirror_mode": {
    "name": "ipython",
    "version": 3
   },
   "file_extension": ".py",
   "mimetype": "text/x-python",
   "name": "python",
   "nbconvert_exporter": "python",
   "pygments_lexer": "ipython3",
   "version": "3.7.3"
  }
 },
 "nbformat": 4,
 "nbformat_minor": 2
}
